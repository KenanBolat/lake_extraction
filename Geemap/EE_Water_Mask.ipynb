{
 "cells": [
  {
   "cell_type": "code",
   "execution_count": 2,
   "metadata": {},
   "outputs": [],
   "source": [
    "import geemap\n",
    "import ee"
   ]
  },
  {
   "cell_type": "markdown",
   "metadata": {},
   "source": [
    "### Add simple map "
   ]
  },
  {
   "cell_type": "code",
   "execution_count": null,
   "metadata": {},
   "outputs": [],
   "source": [
    "Map = geemap.Map(center = [41.25827,28.928777],zoom=13)\n",
    "Map.add_basemap('Esri Satellite')\n",
    "Map"
   ]
  },
  {
   "cell_type": "markdown",
   "metadata": {},
   "source": [
    "### Add USGS Map -  Global Land Cover (2009) and  modis Land Cover (2001-2016) and Landsat 8 Data"
   ]
  },
  {
   "cell_type": "code",
   "execution_count": null,
   "metadata": {},
   "outputs": [],
   "source": [
    "dem = ee.Image(\"CGIAR/SRTM90_V4\")\n",
    "landcover_glob = ee.Image(\"ESA/GLOBCOVER_L4_200901_200912_V2_3\").select('landcover') # Global Land Cover (2009 )\n",
    "landcover_modis = ee.ImageCollection('MODIS/006/MCD12Q1').select('LC_Type1') # modis Land Cover (2001-2016)\n",
    "landsat = ee.ImageCollection(\"LANDSAT/LC08/C01/T1_TOA\")\n",
    "vis_params = {\n",
    "  'min': 0,\n",
    "  'max': 1000,\n",
    "  'palette': ['006633', 'E5FFCC', '662A00', 'D8D8D8', 'F5F5F5']}\n",
    "\n",
    "igbpLandCoverVis = {\n",
    "  'min': 1.0,\n",
    "  'max': 17.0,\n",
    "  'palette': [\n",
    "    '05450a', '086a10', '54a708', '78d203', '009900', 'c6b044', 'dcd159',\n",
    "    'dade48', 'fbff13', 'b6ff05', '27ff87', 'c24f44', 'a5a5a5', 'ff6d4c',\n",
    "    '69fff8', 'f9ffa4', '1c0dff'\n",
    "  ],\n",
    "};\n",
    "\n",
    "Map.addLayer(dem,vis_params,'DEM',True,0.9)\n",
    "Map.addLayer(landcover_glob,{},'landcover_glob')\n",
    "Map.addLayer(landcover_modis,igbpLandCoverVis,'landcover_modis')\n",
    "Map.addLayer(landsat, {'bands': ['B4', 'B3', 'B2'], 'min': 0.0, 'max': 0.4}, 'landsat')\n"
   ]
  },
  {
   "cell_type": "markdown",
   "metadata": {},
   "source": [
    "### All avaliable basemaps"
   ]
  },
  {
   "cell_type": "code",
   "execution_count": null,
   "metadata": {
    "scrolled": false
   },
   "outputs": [],
   "source": [
    "basemaps = geemap.ee_basemaps.keys() # Basemaps\n",
    "print(basemaps)"
   ]
  },
  {
   "cell_type": "markdown",
   "metadata": {},
   "source": [
    "### Split Map View"
   ]
  },
  {
   "cell_type": "code",
   "execution_count": null,
   "metadata": {
    "scrolled": true
   },
   "outputs": [],
   "source": [
    "collection = ee.ImageCollection(\"USGS/NLCD\")\n",
    "print(collection.aggregate_array('system:id').getInfo())"
   ]
  },
  {
   "cell_type": "markdown",
   "metadata": {},
   "source": [
    "- USGS Land Cover Comparison"
   ]
  },
  {
   "cell_type": "code",
   "execution_count": null,
   "metadata": {},
   "outputs": [],
   "source": [
    "nlcd_2001 = ee.Image('USGS/NLCD/NLCD2001').select('landcover')\n",
    "nlcd_2016 = ee.Image('USGS/NLCD/NLCD2016').select('landcover')\n",
    "\n",
    "left_layer = geemap.ee_tile_layer(nlcd_2001, {}, 'NLCD 2001')\n",
    "right_layer = geemap.ee_tile_layer(nlcd_2016, {}, 'NLCD 2016')\n",
    "\n",
    "Map = geemap.Map()\n",
    "Map.split_map(left_layer, right_layer)\n",
    "Map"
   ]
  },
  {
   "cell_type": "markdown",
   "metadata": {},
   "source": [
    "### Feature Drawing and clip raster geometry"
   ]
  },
  {
   "cell_type": "code",
   "execution_count": null,
   "metadata": {},
   "outputs": [],
   "source": [
    "Map = geemap.Map()\n",
    "Map"
   ]
  },
  {
   "cell_type": "code",
   "execution_count": null,
   "metadata": {},
   "outputs": [],
   "source": [
    "# Add Earth Engine dataset\n",
    "image = ee.Image('USGS/SRTMGL1_003')\n",
    "\n",
    "# Set visualization parameters.\n",
    "vis_params = {\n",
    "  'min': 0,\n",
    "  'max': 4000,\n",
    "  'palette': ['006633', 'E5FFCC', '662A00', 'D8D8D8', 'F5F5F5']}\n",
    "\n",
    "# Add Earth Engine DEM to map\n",
    "Map.addLayer(image, vis_params, 'SRTM DEM')\n",
    "\n",
    "states = ee.FeatureCollection(\"TIGER/2018/States\")\n",
    "Map.addLayer(states, {}, 'US States')"
   ]
  },
  {
   "cell_type": "code",
   "execution_count": null,
   "metadata": {},
   "outputs": [],
   "source": [
    "Map.draw_features\n",
    "Map.draw_last_feature"
   ]
  },
  {
   "cell_type": "code",
   "execution_count": null,
   "metadata": {},
   "outputs": [],
   "source": [
    "roi = ee.FeatureCollection(Map.draw_features)\n",
    "selected_states = states.filterBounds(roi) # Select states that intersects drawn polygon!\n",
    "Map.addLayer(selected_states, {}, \"Selected states\")"
   ]
  },
  {
   "cell_type": "markdown",
   "metadata": {},
   "source": [
    "### Clip dem with geometry"
   ]
  },
  {
   "cell_type": "code",
   "execution_count": null,
   "metadata": {},
   "outputs": [],
   "source": [
    "cliped_image = image.clip(selected_states)\n",
    "Map.addLayer(cliped_image, vis_params, \"Clipped DEM\")"
   ]
  },
  {
   "cell_type": "code",
   "execution_count": null,
   "metadata": {
    "scrolled": true
   },
   "outputs": [],
   "source": [
    "cliped_image.getInfo()"
   ]
  },
  {
   "cell_type": "markdown",
   "metadata": {},
   "source": [
    "### Add Shapefile Data"
   ]
  },
  {
   "cell_type": "code",
   "execution_count": null,
   "metadata": {},
   "outputs": [],
   "source": [
    "import os\n",
    "\n",
    "Map = geemap.Map(center = [41.25827,28.928777],zoom=13)\n",
    "Map.add_basemap('Esri Satellite')\n",
    "Map\n"
   ]
  },
  {
   "cell_type": "code",
   "execution_count": null,
   "metadata": {},
   "outputs": [],
   "source": [
    "folder  = '/home/cak/Desktop/lake_extraction/Data/sulakalanlar'\n",
    "ramsar_file = 'ramsar_ist.shp'\n",
    "countries = geemap.shp_to_ee(os.path.join(folder,ramsar_file))\n",
    "Map.addLayer(countries, {}, 'Ramsar')"
   ]
  },
  {
   "cell_type": "markdown",
   "metadata": {},
   "source": [
    "### EE to Shapefile"
   ]
  },
  {
   "cell_type": "code",
   "execution_count": null,
   "metadata": {},
   "outputs": [],
   "source": [
    "# countries_shp = '../data/countries.shp'\n",
    "# countries = geemap.shp_to_ee(countries_shp)\n",
    "# Map.addLayer(countries, {}, 'Countries')\n",
    "# geemap.ee_to_shp(countries, filename='../data/countries_new.shp')"
   ]
  },
  {
   "cell_type": "markdown",
   "metadata": {},
   "source": [
    "### Export 2 Geotif"
   ]
  },
  {
   "cell_type": "code",
   "execution_count": null,
   "metadata": {},
   "outputs": [],
   "source": [
    "Map = geemap.Map(center = [41.25827,28.928777],zoom=13)\n",
    "Map.add_basemap('Esri Satellite')\n",
    "Map"
   ]
  },
  {
   "cell_type": "code",
   "execution_count": null,
   "metadata": {
    "scrolled": true
   },
   "outputs": [],
   "source": [
    "# if you like to draw a point\n",
    "# roi = Map.draw_last_feature\n",
    "# roi.getInfo()"
   ]
  },
  {
   "cell_type": "code",
   "execution_count": null,
   "metadata": {},
   "outputs": [],
   "source": [
    "aoi = ee.Geometry.Point([28.923747, 41.257073])\n",
    "aoi.getInfo()"
   ]
  },
  {
   "cell_type": "code",
   "execution_count": null,
   "metadata": {},
   "outputs": [],
   "source": [
    "landsat = ee.ImageCollection(\"LANDSAT/LC08/C01/T1_TOA\")\n",
    "\n",
    "\n",
    "bands = ['B2','B3','B4','B5','B6','B7']\n",
    "\n",
    "image = landsat \\\n",
    "            .filterBounds(aoi) \\\n",
    "            .sort('CLOUD_COVER') \\\n",
    "            .first() \\\n",
    "            .select(bands)\n",
    "\n",
    "landsat_vis = {\n",
    "    'bands': ['B4', 'B3', 'B2'], \n",
    "    'gamma': 1.6,\n",
    "    'min' : 0,\n",
    "    'max' : 0.3\n",
    "}\n",
    "\n",
    "Map.addLayer(image, landsat_vis, \"LANDSAT/LC08/C01/T1_TOA\", True, 1)"
   ]
  },
  {
   "cell_type": "markdown",
   "metadata": {},
   "source": [
    "#### Download image"
   ]
  },
  {
   "cell_type": "code",
   "execution_count": 73,
   "metadata": {},
   "outputs": [],
   "source": [
    "out_dir = '/home/cak/Desktop/lake_extraction/Geemap/exported'\n",
    "filename = os.path.join(out_dir, 'landsat.tif')"
   ]
  },
  {
   "cell_type": "code",
   "execution_count": 74,
   "metadata": {},
   "outputs": [],
   "source": [
    "feature = Map.draw_last_feature\n",
    "roi = feature.geometry()"
   ]
  },
  {
   "cell_type": "code",
   "execution_count": 75,
   "metadata": {},
   "outputs": [
    {
     "data": {
      "text/plain": [
       "{'geodesic': False,\n",
       " 'type': 'Polygon',\n",
       " 'coordinates': [[[28.836615, 41.222553],\n",
       "   [28.836615, 41.280056],\n",
       "   [28.972046, 41.280056],\n",
       "   [28.972046, 41.222553],\n",
       "   [28.836615, 41.222553]]]}"
      ]
     },
     "execution_count": 75,
     "metadata": {},
     "output_type": "execute_result"
    }
   ],
   "source": [
    "roi.getInfo()"
   ]
  },
  {
   "cell_type": "code",
   "execution_count": 76,
   "metadata": {},
   "outputs": [
    {
     "name": "stdout",
     "output_type": "stream",
     "text": [
      "Generating URL ...\n",
      "Downloading data from https://earthengine.googleapis.com/v1alpha/projects/earthengine-legacy/thumbnails/0ce8878b0aa3eba5df53815449bbc3dc-65ec54b23cafee07e14d898826f54564:getPixels\n",
      "Please wait ...\n",
      "Data downloaded to /home/cak/Desktop/lake_extraction/Geemap/exported/landsat.tif\n"
     ]
    }
   ],
   "source": [
    "image = image.clip(roi).unmask()\n",
    "geemap.ee_export_image(image, filename=filename, scale=30, region=roi, file_per_band=False)"
   ]
  },
  {
   "cell_type": "markdown",
   "metadata": {},
   "source": [
    "# Spectral Linear Unmixing"
   ]
  },
  {
   "cell_type": "code",
   "execution_count": 65,
   "metadata": {},
   "outputs": [
    {
     "data": {
      "application/vnd.jupyter.widget-view+json": {
       "model_id": "073699c039de4688b0c9a755f813fe21",
       "version_major": 2,
       "version_minor": 0
      },
      "text/plain": [
       "Map(center=[41.25827, 28.928777], controls=(WidgetControl(options=['position'], widget=HBox(children=(ToggleBu…"
      ]
     },
     "metadata": {},
     "output_type": "display_data"
    }
   ],
   "source": [
    "Map = geemap.Map(center = [41.25827,28.928777],zoom=13)\n",
    "Map.add_basemap('Esri Satellite')\n",
    "Map\n"
   ]
  },
  {
   "cell_type": "code",
   "execution_count": 66,
   "metadata": {},
   "outputs": [
    {
     "data": {
      "text/plain": [
       "{'type': 'Point', 'coordinates': [28.923747, 41.257073]}"
      ]
     },
     "execution_count": 66,
     "metadata": {},
     "output_type": "execute_result"
    }
   ],
   "source": [
    "aoi = ee.Geometry.Point([28.923747, 41.257073])\n",
    "aoi.getInfo()"
   ]
  },
  {
   "cell_type": "code",
   "execution_count": 67,
   "metadata": {},
   "outputs": [],
   "source": [
    "landsat = ee.ImageCollection(\"LANDSAT/LC08/C01/T1_TOA\")\n",
    "\n",
    "\n",
    "bands = ['B2','B3','B4','B5','B6','B7']\n",
    "\n",
    "image = landsat \\\n",
    "            .filterBounds(aoi) \\\n",
    "            .sort('CLOUD_COVER') \\\n",
    "            .first() \\\n",
    "            .select(bands)\n",
    "\n",
    "landsat_vis = {\n",
    "    'bands': ['B4', 'B3', 'B2'], \n",
    "    'gamma': 1.6,\n",
    "    'min' : 0,\n",
    "    'max' : 0.3\n",
    "}\n",
    "\n",
    "Map.addLayer(image, landsat_vis, \"LANDSAT/LC08/C01/T1_TOA\", True, 1)"
   ]
  },
  {
   "cell_type": "code",
   "execution_count": 68,
   "metadata": {},
   "outputs": [],
   "source": [
    "# image.getInfo()\n",
    "# image.get('CLOUD_COVER').getInfo()\n",
    "# image.get('system:time_start').getInfo()\n",
    "# ee.Date(image.get('system:time_start')).format('YYYY-MM-dd').getInfo()"
   ]
  },
  {
   "cell_type": "markdown",
   "metadata": {},
   "source": [
    "## Image Stats"
   ]
  },
  {
   "cell_type": "code",
   "execution_count": 69,
   "metadata": {
    "scrolled": true
   },
   "outputs": [],
   "source": [
    "landsat_props = geemap.image_props(image)\n",
    "# landsat_props.getInfo()"
   ]
  },
  {
   "cell_type": "code",
   "execution_count": 70,
   "metadata": {},
   "outputs": [],
   "source": [
    "Date = landsat_props.get('IMAGE_DATE').getInfo()\n",
    "CC= landsat_props.get('CLOUD_COVER').getInfo()\n",
    "Zone = landsat_props.get('UTM_ZONE').getInfo()\n",
    "Scale = landsat_props.get('NOMINAL_SCALE').getInfo()\n"
   ]
  },
  {
   "cell_type": "code",
   "execution_count": 71,
   "metadata": {},
   "outputs": [
    {
     "name": "stdout",
     "output_type": "stream",
     "text": [
      "{'Cloud Cover': '1.0 %',\n",
      " 'Date': '2013-07-30',\n",
      " 'Resolution': 30,\n",
      " 'UTM Zone ': 35}\n"
     ]
    }
   ],
   "source": [
    "from pprint import pprint\n",
    "\n",
    "Stats = {\n",
    "    'Date' : Date,\n",
    "    'Cloud Cover' : \"{:.4} %\".format(float(CC)*100),\n",
    "    'UTM Zone ' : Zone, \n",
    "    'Resolution' : Scale\n",
    "}\n",
    "\n",
    "pprint(Stats)"
   ]
  },
  {
   "cell_type": "markdown",
   "metadata": {},
   "source": [
    "### Add Ramsar to Map"
   ]
  },
  {
   "cell_type": "code",
   "execution_count": 72,
   "metadata": {},
   "outputs": [],
   "source": [
    "ramsar_shp = '/home/cak/Desktop/lake_extraction/Data/sulakalanlar/ramsar_ist.shp'\n",
    "ramsar = geemap.shp_to_ee(ramsar_shp)\n",
    "Map.addLayer(ramsar, {}, 'Ramsar')"
   ]
  },
  {
   "cell_type": "markdown",
   "metadata": {},
   "source": [
    "## Draw Endmembers"
   ]
  },
  {
   "cell_type": "code",
   "execution_count": null,
   "metadata": {},
   "outputs": [],
   "source": [
    "# Map.draw_features"
   ]
  },
  {
   "cell_type": "code",
   "execution_count": null,
   "metadata": {},
   "outputs": [],
   "source": [
    "# water_ee = ee.FeatureCollection(Map.draw_features)"
   ]
  },
  {
   "cell_type": "code",
   "execution_count": null,
   "metadata": {},
   "outputs": [],
   "source": [
    "# forest_ee = ee.FeatureCollection(Map.draw_features)"
   ]
  },
  {
   "cell_type": "code",
   "execution_count": null,
   "metadata": {},
   "outputs": [],
   "source": [
    "# soil_ee = ee.FeatureCollection(Map.draw_features)"
   ]
  },
  {
   "cell_type": "code",
   "execution_count": null,
   "metadata": {
    "scrolled": true
   },
   "outputs": [],
   "source": [
    "# geemap.ee_to_shp(water_ee, filename='./exported/water.shp')"
   ]
  },
  {
   "cell_type": "code",
   "execution_count": null,
   "metadata": {
    "scrolled": true
   },
   "outputs": [],
   "source": [
    "# geemap.ee_to_shp(forest_ee, filename='./exported/forest.shp')"
   ]
  },
  {
   "cell_type": "code",
   "execution_count": null,
   "metadata": {},
   "outputs": [],
   "source": [
    "# geemap.ee_to_shp(soil_ee, filename='./exported/soil.shp')"
   ]
  },
  {
   "cell_type": "markdown",
   "metadata": {},
   "source": [
    "## Read Endmembers"
   ]
  },
  {
   "cell_type": "code",
   "execution_count": 91,
   "metadata": {},
   "outputs": [],
   "source": [
    "water_shp = './exported/water.shp'\n",
    "water = geemap.shp_to_ee(water_shp)\n",
    "Map.addLayer(water, {}, 'Water')\n",
    "\n",
    "forest_shp = './exported/forest.shp'\n",
    "forest = geemap.shp_to_ee(forest_shp)\n",
    "Map.addLayer(forest, {}, 'forest')\n",
    "\n",
    "soil_shp = './exported/soil.shp'\n",
    "soil = geemap.shp_to_ee(soil_shp)\n",
    "Map.addLayer(soil, {}, 'soil')"
   ]
  },
  {
   "cell_type": "code",
   "execution_count": 92,
   "metadata": {
    "scrolled": true
   },
   "outputs": [],
   "source": [
    "waterMean = image.reduceRegion(\n",
    "    **{\n",
    "        'reducer': ee.Reducer.mean(),\n",
    "        'geometry': water.geometry().getInfo(),\n",
    "        'scale': 30,\n",
    "        'maxPixels': 1e9\n",
    "    }).values()\n",
    "\n",
    "forestMean = image.reduceRegion(\n",
    "    **{\n",
    "        'reducer': ee.Reducer.mean(),\n",
    "        'geometry': forest.geometry().getInfo(),\n",
    "        'scale': 30,\n",
    "        'maxPixels': 1e9\n",
    "    }).values()\n",
    "\n",
    "soilMean = image.reduceRegion(\n",
    "    **{\n",
    "        'reducer': ee.Reducer.mean(),\n",
    "        'geometry': soil.geometry().getInfo(),\n",
    "        'scale': 30,\n",
    "        'maxPixels': 1e9\n",
    "    }).values()"
   ]
  },
  {
   "cell_type": "code",
   "execution_count": 93,
   "metadata": {},
   "outputs": [],
   "source": [
    "endmembers = ee.Array.cat([waterMean , forestMean , soilMean] , 1)"
   ]
  },
  {
   "cell_type": "code",
   "execution_count": 95,
   "metadata": {},
   "outputs": [],
   "source": [
    "arrayImage = image.toArray().toArray(1)\n",
    "\n",
    "unmixed = ee.Image(endmembers).matrixSolve(arrayImage)\n",
    "\n",
    "unmixedImage = unmixed.arrayProject([0]).arrayFlatten([['water','forest','soil']])"
   ]
  },
  {
   "cell_type": "code",
   "execution_count": 96,
   "metadata": {},
   "outputs": [],
   "source": [
    "Map.addLayer(unmixedImage, {}, 'Unmixed')"
   ]
  },
  {
   "cell_type": "code",
   "execution_count": 98,
   "metadata": {},
   "outputs": [],
   "source": [
    "waterBand = unmixedImage.select('water').gt(0.58)\n",
    "\n",
    "Map.addLayer(waterBand, {} , 'waterBand')"
   ]
  },
  {
   "cell_type": "code",
   "execution_count": 100,
   "metadata": {},
   "outputs": [],
   "source": [
    "classes = waterBand.reduceToVectors(\n",
    "**{\n",
    "  'reducer': ee.Reducer.countEvery(), \n",
    "  'geometry': waterBand.geometry().getInfo(), \n",
    "  'scale': 30,\n",
    "  'maxPixels': 1e8\n",
    "});\n"
   ]
  },
  {
   "cell_type": "code",
   "execution_count": 102,
   "metadata": {},
   "outputs": [],
   "source": [
    "result = ee.FeatureCollection(classes);\n",
    "Map.addLayer(result,{},'Water_Vector');"
   ]
  },
  {
   "cell_type": "code",
   "execution_count": null,
   "metadata": {},
   "outputs": [],
   "source": []
  }
 ],
 "metadata": {
  "finalized": {
   "timestamp": 1607844400843,
   "trusted": true
  },
  "kernelspec": {
   "display_name": "local-venv",
   "language": "python",
   "name": "local-venv"
  },
  "varInspector": {
   "cols": {
    "lenName": 16,
    "lenType": 16,
    "lenVar": 40
   },
   "kernels_config": {
    "python": {
     "delete_cmd_postfix": "",
     "delete_cmd_prefix": "del ",
     "library": "var_list.py",
     "varRefreshCmd": "print(var_dic_list())"
    },
    "r": {
     "delete_cmd_postfix": ") ",
     "delete_cmd_prefix": "rm(",
     "library": "var_list.r",
     "varRefreshCmd": "cat(var_dic_list()) "
    }
   },
   "types_to_exclude": [
    "module",
    "function",
    "builtin_function_or_method",
    "instance",
    "_Feature"
   ],
   "window_display": false
  }
 },
 "nbformat": 4,
 "nbformat_minor": 4
}
