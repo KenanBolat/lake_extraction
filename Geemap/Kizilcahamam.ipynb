{
 "cells": [
  {
   "cell_type": "code",
   "execution_count": 1,
   "metadata": {},
   "outputs": [],
   "source": [
    "import geemap\n",
    "import ee\n",
    "import os , glob\n",
    "import datetime\n",
    "import geopandas as gpd"
   ]
  },
  {
   "cell_type": "markdown",
   "metadata": {},
   "source": [
    "# Spectral Linear Unmixing"
   ]
  },
  {
   "cell_type": "code",
   "execution_count": 2,
   "metadata": {},
   "outputs": [
    {
     "data": {
      "application/vnd.jupyter.widget-view+json": {
       "model_id": "7fa32d354e914f45aff6dbaac2745bdb",
       "version_major": 2,
       "version_minor": 0
      },
      "text/plain": [
       "Map(center=[40.409264, 32.770967], controls=(WidgetControl(options=['position'], widget=HBox(children=(ToggleB…"
      ]
     },
     "metadata": {},
     "output_type": "display_data"
    }
   ],
   "source": [
    "Map = geemap.Map(center = [40.409264,32.770967],zoom=12)\n",
    "Map.add_basemap('Esri Satellite')\n",
    "Map\n"
   ]
  },
  {
   "cell_type": "code",
   "execution_count": 3,
   "metadata": {},
   "outputs": [
    {
     "data": {
      "text/plain": [
       "{'type': 'Point', 'coordinates': [32.616416, 40.398831]}"
      ]
     },
     "execution_count": 3,
     "metadata": {},
     "output_type": "execute_result"
    }
   ],
   "source": [
    "aoi = ee.Geometry.Point([32.616416, 40.398831])\n",
    "aoi.getInfo()"
   ]
  },
  {
   "cell_type": "markdown",
   "metadata": {},
   "source": [
    "## Add points to map"
   ]
  },
  {
   "cell_type": "code",
   "execution_count": 4,
   "metadata": {},
   "outputs": [],
   "source": [
    "ramsar_shp = '/home/cak/Desktop/lake_extraction/Data/kizilcahamam.shp'\n",
    "ramsar = geemap.shp_to_ee(ramsar_shp)\n",
    "Map.addLayer(ramsar, {}, 'Ponds Points')"
   ]
  },
  {
   "cell_type": "markdown",
   "metadata": {},
   "source": [
    "### Area Definition"
   ]
  },
  {
   "cell_type": "code",
   "execution_count": 5,
   "metadata": {},
   "outputs": [
    {
     "data": {
      "text/plain": [
       "{'type': 'Polygon',\n",
       " 'coordinates': [[[32.7, 40.300000000000004],\n",
       "   [33, 40.300000000000004],\n",
       "   [33, 40.45],\n",
       "   [32.7, 40.45],\n",
       "   [32.7, 40.300000000000004]]]}"
      ]
     },
     "execution_count": 5,
     "metadata": {},
     "output_type": "execute_result"
    }
   ],
   "source": [
    "area = ee.Geometry.Polygon([[[32.7, 40.300000000000004],\n",
    "      [33, 40.300000000000004],\n",
    "      [33, 40.45],\n",
    "      [32.7, 40.45],\n",
    "      [32.7, 40.300000000000004]]])\n",
    "area.getInfo()"
   ]
  },
  {
   "cell_type": "code",
   "execution_count": 6,
   "metadata": {},
   "outputs": [],
   "source": [
    "# area_shp = '../Data/Aux/area.shp'\n",
    "# area = geemap.shp_to_ee(area_shp)\n",
    "Map.addLayer(area, {}, 'Study Area')\n",
    "tiles_shp = '../Data/Aux/tiles.shp'\n",
    "tiles = geemap.shp_to_ee(tiles_shp)\n",
    "Map.addLayer(tiles, {}, 'Tiles')"
   ]
  },
  {
   "cell_type": "code",
   "execution_count": 7,
   "metadata": {},
   "outputs": [
    {
     "data": {
      "text/plain": [
       "{'type': 'Polygon',\n",
       " 'coordinates': [[[32.7, 40.300000000000004],\n",
       "   [33, 40.300000000000004],\n",
       "   [33, 40.45],\n",
       "   [32.7, 40.45],\n",
       "   [32.7, 40.300000000000004]]]}"
      ]
     },
     "execution_count": 7,
     "metadata": {},
     "output_type": "execute_result"
    }
   ],
   "source": [
    "# for i in df.iterrows():\n",
    "#     print(i[1]['geometry'].)\n",
    "area.getInfo()"
   ]
  },
  {
   "cell_type": "markdown",
   "metadata": {},
   "source": [
    "### Landsat Image"
   ]
  },
  {
   "cell_type": "code",
   "execution_count": 8,
   "metadata": {},
   "outputs": [],
   "source": [
    "landsat = ee.ImageCollection(\"LANDSAT/LC08/C01/T1_TOA\")\n",
    "\n",
    "\n",
    "bands = ['B2','B3','B4','B5','B6','B7']\n",
    "\n",
    "\n",
    "\n",
    "image = landsat \\\n",
    "            .filterBounds(aoi) \\\n",
    "            .sort('CLOUD_COVER') \\\n",
    "            .filterDate('2020-05-01', '2020-05-30')\\\n",
    "            .first() \\\n",
    "            .select(bands)\\\n",
    "            .clip(area)\n",
    "#             \n",
    "\n",
    "\n",
    "landsat_vis = {\n",
    "    'bands': ['B4', 'B3', 'B2'], \n",
    "    'gamma': 1.6,\n",
    "    'min' : 0,\n",
    "    'max' : 0.3\n",
    "}\n",
    "\n",
    "Map.addLayer(image, landsat_vis, \"Landsat_RGB\", True, 1)"
   ]
  },
  {
   "cell_type": "markdown",
   "metadata": {},
   "source": [
    "### Sentinel Image"
   ]
  },
  {
   "cell_type": "code",
   "execution_count": 9,
   "metadata": {},
   "outputs": [],
   "source": [
    "bands = ['B2','B3','B4','B5','B6','B7','B8','B11','B12']\n",
    "\n",
    "\n",
    "def maskS2clouds(image):\n",
    "  qa = image.select('QA60')\n",
    "\n",
    "  # Bits 10 and 11 are clouds and cirrus, respectively.\n",
    "  cloudBitMask = 1 << 10\n",
    "  cirrusBitMask = 1 << 11\n",
    "\n",
    "  # Both flags should be set to zero, indicating clear conditions.\n",
    "  mask = qa.bitwiseAnd(cloudBitMask).eq(0) \\\n",
    "      .And(qa.bitwiseAnd(cirrusBitMask).eq(0))\n",
    "\n",
    "  return image.updateMask(mask).divide(10000)\n",
    "\n",
    "sentinel = ee.ImageCollection('COPERNICUS/S2_SR') \\\n",
    "                .filterBounds(aoi) \\\n",
    "                .filterDate('2020-05-01', '2020-05-30') \\\n",
    "                .filter(ee.Filter.lt('CLOUDY_PIXEL_PERCENTAGE',20)) \\\n",
    "                .map(maskS2clouds)\\\n",
    "                .select(bands)\\\n",
    "                .first()\\\n",
    "                .clip(area)\n",
    "\n",
    "visualization = {\n",
    "  'min': 0.0,\n",
    "  'max': 0.3,\n",
    "  'bands': ['B4', 'B3', 'B2'],\n",
    "}\n",
    "\n",
    "Map.addLayer(sentinel, visualization, 'Sentinel_RGB')"
   ]
  },
  {
   "cell_type": "code",
   "execution_count": 11,
   "metadata": {},
   "outputs": [],
   "source": [
    "bands = ['B2','B3','B4','B5','B6','B7','B8','B11','B12']\n",
    "\n",
    "\n",
    "def maskS2clouds(image):\n",
    "  qa = image.select('QA60')\n",
    "\n",
    "  # Bits 10 and 11 are clouds and cirrus, respectively.\n",
    "  cloudBitMask = 1 << 10\n",
    "  cirrusBitMask = 1 << 11\n",
    "\n",
    "  # Both flags should be set to zero, indicating clear conditions.\n",
    "  mask = qa.bitwiseAnd(cloudBitMask).eq(0) \\\n",
    "      .And(qa.bitwiseAnd(cirrusBitMask).eq(0))\n",
    "\n",
    "  return image.updateMask(mask).divide(10000)\n",
    "\n",
    "temp = ee.ImageCollection('COPERNICUS/S2_SR') \\\n",
    "                .filterBounds(aoi) \\\n",
    "                .filterDate('2020-05-01', '2020-05-30') \\\n",
    "                .filter(ee.Filter.lt('CLOUDY_PIXEL_PERCENTAGE',20)) \\\n",
    "                .map(maskS2clouds)\\\n",
    "                .select(bands)\n",
    "#                 .clip(area)\n",
    "\n",
    "\n",
    "listOfImages = temp.toList(temp.size());"
   ]
  },
  {
   "cell_type": "code",
   "execution_count": 12,
   "metadata": {},
   "outputs": [],
   "source": [
    "firstImage = listOfImages.get(0)"
   ]
  },
  {
   "cell_type": "code",
   "execution_count": 13,
   "metadata": {},
   "outputs": [],
   "source": [
    "firstImage = ee.Image(listOfImages.get(0));\n",
    "Map.addLayer(firstImage, visualization, 'Sentinel_RGB')"
   ]
  },
  {
   "cell_type": "markdown",
   "metadata": {},
   "source": [
    "### Global Surface Water"
   ]
  },
  {
   "cell_type": "code",
   "execution_count": 14,
   "metadata": {},
   "outputs": [],
   "source": [
    "gsw_dataset = ee.Image('JRC/GSW1_2/GlobalSurfaceWater')\n",
    "\n",
    "\n",
    "gsw_dataset = gsw_dataset.clip(area)\n",
    "\n",
    "visualization = {\n",
    "  'bands': ['occurrence'],\n",
    "  'min': 0.0,\n",
    "  'max': 100.0,\n",
    "  'palette': ['ffffff', 'ffbbbb', '0000ff']\n",
    "};\n",
    "\n",
    "Map.addLayer(gsw_dataset, visualization, 'Surface - Water');"
   ]
  },
  {
   "cell_type": "markdown",
   "metadata": {},
   "source": [
    "### NDVI and NDWI "
   ]
  },
  {
   "cell_type": "code",
   "execution_count": 15,
   "metadata": {},
   "outputs": [],
   "source": [
    "visParams_ndvi = {'min': -0.2, 'max': 0.8, 'palette': 'FFFFFF, CE7E45, DF923D, F1B555, FCD163, 99B718, 74A901, 66A000,529400,3E8601,207401, 056201, 004C00, 023B01, 012E01, 011D01, 011301'};\n",
    "\n",
    "ndvi = sentinel.expression('(nir - red) / (nir + red)' ,{\n",
    "    'nir' : sentinel.select('B8'),\n",
    "    'red' : sentinel.select('B4')\n",
    "}).rename('NDVI')\n",
    "\n",
    "ndwi = sentinel.expression('(nir - swir) / (nir + swir)' ,{\n",
    "    'nir' : sentinel.select('B8'),\n",
    "    'swir' : sentinel.select('B11')\n",
    "}).rename('NDWI')\n",
    "\n",
    "Map.addLayer(ndwi, visParams_ndvi, 'Sentinel_NDWI_man')\n",
    "Map.addLayer(ndvi, visParams_ndvi, 'Sentinel_NDVI_man')\n",
    "sentinel = sentinel.addBands(ndvi)\n",
    "sentinel = sentinel.addBands(ndwi)"
   ]
  },
  {
   "cell_type": "markdown",
   "metadata": {},
   "source": [
    "## Image Stats"
   ]
  },
  {
   "cell_type": "code",
   "execution_count": 16,
   "metadata": {},
   "outputs": [
    {
     "data": {
      "text/plain": [
       "{'type': 'Image',\n",
       " 'bands': [{'id': 'B2',\n",
       "   'data_type': {'type': 'PixelType',\n",
       "    'precision': 'float',\n",
       "    'min': 0,\n",
       "    'max': 6.553500175476074},\n",
       "   'dimensions': [2551, 1670],\n",
       "   'origin': [7454, 2225],\n",
       "   'crs': 'EPSG:32636',\n",
       "   'crs_transform': [10, 0, 399960, 0, -10, 4500000]},\n",
       "  {'id': 'B3',\n",
       "   'data_type': {'type': 'PixelType',\n",
       "    'precision': 'float',\n",
       "    'min': 0,\n",
       "    'max': 6.553500175476074},\n",
       "   'dimensions': [2551, 1670],\n",
       "   'origin': [7454, 2225],\n",
       "   'crs': 'EPSG:32636',\n",
       "   'crs_transform': [10, 0, 399960, 0, -10, 4500000]},\n",
       "  {'id': 'B4',\n",
       "   'data_type': {'type': 'PixelType',\n",
       "    'precision': 'float',\n",
       "    'min': 0,\n",
       "    'max': 6.553500175476074},\n",
       "   'dimensions': [2551, 1670],\n",
       "   'origin': [7454, 2225],\n",
       "   'crs': 'EPSG:32636',\n",
       "   'crs_transform': [10, 0, 399960, 0, -10, 4500000]},\n",
       "  {'id': 'B5',\n",
       "   'data_type': {'type': 'PixelType',\n",
       "    'precision': 'float',\n",
       "    'min': 0,\n",
       "    'max': 6.553500175476074},\n",
       "   'dimensions': [1276, 836],\n",
       "   'origin': [3727, 1112],\n",
       "   'crs': 'EPSG:32636',\n",
       "   'crs_transform': [20, 0, 399960, 0, -20, 4500000]},\n",
       "  {'id': 'B6',\n",
       "   'data_type': {'type': 'PixelType',\n",
       "    'precision': 'float',\n",
       "    'min': 0,\n",
       "    'max': 6.553500175476074},\n",
       "   'dimensions': [1276, 836],\n",
       "   'origin': [3727, 1112],\n",
       "   'crs': 'EPSG:32636',\n",
       "   'crs_transform': [20, 0, 399960, 0, -20, 4500000]},\n",
       "  {'id': 'B7',\n",
       "   'data_type': {'type': 'PixelType',\n",
       "    'precision': 'float',\n",
       "    'min': 0,\n",
       "    'max': 6.553500175476074},\n",
       "   'dimensions': [1276, 836],\n",
       "   'origin': [3727, 1112],\n",
       "   'crs': 'EPSG:32636',\n",
       "   'crs_transform': [20, 0, 399960, 0, -20, 4500000]},\n",
       "  {'id': 'B8',\n",
       "   'data_type': {'type': 'PixelType',\n",
       "    'precision': 'float',\n",
       "    'min': 0,\n",
       "    'max': 6.553500175476074},\n",
       "   'dimensions': [2551, 1670],\n",
       "   'origin': [7454, 2225],\n",
       "   'crs': 'EPSG:32636',\n",
       "   'crs_transform': [10, 0, 399960, 0, -10, 4500000]},\n",
       "  {'id': 'B11',\n",
       "   'data_type': {'type': 'PixelType',\n",
       "    'precision': 'float',\n",
       "    'min': 0,\n",
       "    'max': 6.553500175476074},\n",
       "   'dimensions': [1276, 836],\n",
       "   'origin': [3727, 1112],\n",
       "   'crs': 'EPSG:32636',\n",
       "   'crs_transform': [20, 0, 399960, 0, -20, 4500000]},\n",
       "  {'id': 'B12',\n",
       "   'data_type': {'type': 'PixelType',\n",
       "    'precision': 'float',\n",
       "    'min': 0,\n",
       "    'max': 6.553500175476074},\n",
       "   'dimensions': [1276, 836],\n",
       "   'origin': [3727, 1112],\n",
       "   'crs': 'EPSG:32636',\n",
       "   'crs_transform': [20, 0, 399960, 0, -20, 4500000]},\n",
       "  {'id': 'NDVI',\n",
       "   'data_type': {'type': 'PixelType', 'precision': 'float'},\n",
       "   'dimensions': [2551, 1670],\n",
       "   'origin': [7454, 2225],\n",
       "   'crs': 'EPSG:32636',\n",
       "   'crs_transform': [10, 0, 399960, 0, -10, 4500000]},\n",
       "  {'id': 'NDWI',\n",
       "   'data_type': {'type': 'PixelType', 'precision': 'float'},\n",
       "   'dimensions': [2551, 1670],\n",
       "   'origin': [7454, 2225],\n",
       "   'crs': 'EPSG:32636',\n",
       "   'crs_transform': [10, 0, 399960, 0, -10, 4500000]}],\n",
       " 'properties': {'system:footprint': {'type': 'Polygon',\n",
       "   'coordinates': [[[32.7, 40.300000000000004],\n",
       "     [32.99999999999999, 40.300000000000004],\n",
       "     [33, 40.45],\n",
       "     [32.7, 40.45],\n",
       "     [32.7, 40.300000000000004]]]},\n",
       "  'system:index': '20200516T083559_20200516T084742_T36TVK'}}"
      ]
     },
     "execution_count": 16,
     "metadata": {},
     "output_type": "execute_result"
    }
   ],
   "source": [
    "sentinel.getInfo()"
   ]
  },
  {
   "cell_type": "code",
   "execution_count": null,
   "metadata": {},
   "outputs": [],
   "source": []
  },
  {
   "cell_type": "code",
   "execution_count": 17,
   "metadata": {
    "scrolled": true
   },
   "outputs": [],
   "source": [
    "landsat_props = geemap.image_props(image)\n",
    "sentinel_props = geemap.image_props(sentinel)\n",
    "# landsat_props.getInfo()"
   ]
  },
  {
   "cell_type": "code",
   "execution_count": 18,
   "metadata": {},
   "outputs": [],
   "source": [
    "Date = landsat_props.get('IMAGE_DATE').getInfo()\n",
    "CC= landsat_props.get('CLOUD_COVER').getInfo()\n",
    "Zone = landsat_props.get('UTM_ZONE').getInfo()\n",
    "Scale = landsat_props.get('NOMINAL_SCALE').getInfo()\n",
    "date_sentinel = sentinel.get('system:index').getInfo()\n",
    "date_sentinel = datetime.datetime.strptime(date_sentinel.split('_')[0], \"%Y%m%dT%H%M%S\").date()"
   ]
  },
  {
   "cell_type": "code",
   "execution_count": 19,
   "metadata": {
    "scrolled": true
   },
   "outputs": [
    {
     "name": "stdout",
     "output_type": "stream",
     "text": [
      "{'Cloud Cover': '10.0 %',\n",
      " 'Date': '2020-05-16',\n",
      " 'Resolution': 30,\n",
      " 'UTM Zone ': 36}\n"
     ]
    }
   ],
   "source": [
    "from pprint import pprint\n",
    "\n",
    "Stats = {\n",
    "    'Date' : Date,\n",
    "    'Cloud Cover' : \"{:.4} %\".format(float(CC)*100),\n",
    "    'UTM Zone ' : Zone, \n",
    "    'Resolution' : Scale\n",
    "}\n",
    "\n",
    "pprint(Stats)"
   ]
  },
  {
   "cell_type": "code",
   "execution_count": 20,
   "metadata": {},
   "outputs": [
    {
     "data": {
      "text/plain": [
       "datetime.date(2020, 5, 16)"
      ]
     },
     "execution_count": 20,
     "metadata": {},
     "output_type": "execute_result"
    }
   ],
   "source": [
    "date_sentinel"
   ]
  },
  {
   "cell_type": "markdown",
   "metadata": {},
   "source": [
    "### Create Area of Interest"
   ]
  },
  {
   "cell_type": "code",
   "execution_count": null,
   "metadata": {},
   "outputs": [],
   "source": [
    "# export_area = Map.draw_last_feature"
   ]
  },
  {
   "cell_type": "markdown",
   "metadata": {},
   "source": [
    "### Export Image"
   ]
  },
  {
   "cell_type": "code",
   "execution_count": null,
   "metadata": {},
   "outputs": [],
   "source": [
    "out_dir = '/home/cak/Desktop/lake_extraction/Data/exported'\n",
    "filename = os.path.join(out_dir, f'{Date}_landsat_kizil.tif')\n",
    "filename_water = os.path.join(out_dir, 'surface_water_kizil.tif')\n",
    "filename_ndvi = os.path.join(out_dir, 'ndvi_kizil.tif')\n",
    "filename_ndwi = os.path.join(out_dir, 'ndwi_kizil.tif')\n",
    "filename_gsw = os.path.join(out_dir, 'water_kizil.tif')"
   ]
  },
  {
   "cell_type": "code",
   "execution_count": null,
   "metadata": {
    "scrolled": true
   },
   "outputs": [],
   "source": [
    "image = image.clip(area).unmask()\n",
    "ndvi = ndvi.clip(area).unmask()\n",
    "ndwi = ndwi.clip(area).unmask()\n",
    "gsw_dataset = gsw_dataset.clip(area).unmask()\n",
    "geemap.ee_export_image(image, filename=filename, scale=20, file_per_band=False)\n",
    "geemap.ee_export_image(ndvi, filename=filename_ndvi, scale=10, file_per_band=False)\n",
    "geemap.ee_export_image(ndwi, filename=filename_ndwi, scale=10, file_per_band=False)\n",
    "geemap.ee_export_image(gsw_dataset, filename=filename_gsw, scale=20, file_per_band=False)\n"
   ]
  },
  {
   "cell_type": "markdown",
   "metadata": {},
   "source": [
    "### Sentinel Export"
   ]
  },
  {
   "cell_type": "code",
   "execution_count": null,
   "metadata": {},
   "outputs": [],
   "source": [
    "sentinel_area = Map.draw_last_feature\n",
    "sentinel_area.getInfo()\n",
    "\n",
    "# coordinates': [[[32.800379, 40.374524],\n",
    "#     [32.800379, 40.442232],\n",
    "#     [32.942542, 40.442232],\n",
    "#     [32.942542, 40.374524],\n",
    "#     [32.800379, 40.374524]]]"
   ]
  },
  {
   "cell_type": "code",
   "execution_count": null,
   "metadata": {},
   "outputs": [],
   "source": [
    "sentinel_area = ee.Geometry.Polygon([[[32.800379, 40.374524],\n",
    "    [32.800379, 40.442232],\n",
    "    [32.942542, 40.442232],\n",
    "    [32.942542, 40.374524],\n",
    "    [32.800379, 40.374524]]])\n",
    "area.getInfo()"
   ]
  },
  {
   "cell_type": "code",
   "execution_count": null,
   "metadata": {},
   "outputs": [],
   "source": [
    "tiles = gpd.read_file('../Data/Aux/tiles.shp')"
   ]
  },
  {
   "cell_type": "code",
   "execution_count": null,
   "metadata": {},
   "outputs": [],
   "source": [
    "def coord_lister(geom):\n",
    "    coords = list(geom.exterior.coords)\n",
    "    return (coords)\n",
    "coordinates = tiles.geometry.apply(coord_lister)"
   ]
  },
  {
   "cell_type": "code",
   "execution_count": null,
   "metadata": {
    "scrolled": true
   },
   "outputs": [],
   "source": [
    "for i,coor in enumerate(coordinates):\n",
    "    area1 = ee.Geometry.Polygon(coor)\n",
    "    filename_sentinel = os.path.join(out_dir, f'{date_sentinel}_sentinel_kizil_{i}.tif')\n",
    "    sentinel_clipeed = sentinel.clip(area1).unmask()\n",
    "    geemap.ee_export_image(sentinel_clipeed, filename=filename_sentinel, scale=10, file_per_band=False)"
   ]
  },
  {
   "cell_type": "code",
   "execution_count": null,
   "metadata": {
    "scrolled": true
   },
   "outputs": [],
   "source": [
    "list(coordinates[0])"
   ]
  },
  {
   "cell_type": "code",
   "execution_count": null,
   "metadata": {},
   "outputs": [],
   "source": [
    "\n"
   ]
  },
  {
   "cell_type": "markdown",
   "metadata": {},
   "source": [
    "### Add Ramsar to Map"
   ]
  },
  {
   "cell_type": "code",
   "execution_count": null,
   "metadata": {},
   "outputs": [],
   "source": [
    "ramsar_shp = '/home/cak/Desktop/lake_extraction/Data/sulakalanlar/ramsar_ist.shp'\n",
    "ramsar = geemap.shp_to_ee(ramsar_shp)\n",
    "Map.addLayer(ramsar, {}, 'Ramsar')"
   ]
  },
  {
   "cell_type": "markdown",
   "metadata": {},
   "source": [
    "## Draw Endmembers"
   ]
  },
  {
   "cell_type": "code",
   "execution_count": null,
   "metadata": {},
   "outputs": [],
   "source": [
    "# Map.draw_features"
   ]
  },
  {
   "cell_type": "code",
   "execution_count": null,
   "metadata": {},
   "outputs": [],
   "source": [
    "# water_ee = ee.FeatureCollection(Map.draw_features)"
   ]
  },
  {
   "cell_type": "code",
   "execution_count": null,
   "metadata": {},
   "outputs": [],
   "source": [
    "# forest_ee = ee.FeatureCollection(Map.draw_features)"
   ]
  },
  {
   "cell_type": "code",
   "execution_count": null,
   "metadata": {},
   "outputs": [],
   "source": [
    "# soil_ee = ee.FeatureCollection(Map.draw_features)"
   ]
  },
  {
   "cell_type": "code",
   "execution_count": null,
   "metadata": {
    "scrolled": true
   },
   "outputs": [],
   "source": [
    "# geemap.ee_to_shp(water_ee, filename='./exported/water.shp')"
   ]
  },
  {
   "cell_type": "code",
   "execution_count": null,
   "metadata": {
    "scrolled": true
   },
   "outputs": [],
   "source": [
    "# geemap.ee_to_shp(forest_ee, filename='./exported/forest.shp')"
   ]
  },
  {
   "cell_type": "code",
   "execution_count": null,
   "metadata": {},
   "outputs": [],
   "source": [
    "# geemap.ee_to_shp(soil_ee, filename='./exported/soil.shp')"
   ]
  },
  {
   "cell_type": "markdown",
   "metadata": {},
   "source": [
    "### Read Endmembers"
   ]
  },
  {
   "cell_type": "code",
   "execution_count": null,
   "metadata": {},
   "outputs": [],
   "source": [
    "water_shp = '../Data/ML/SWM_water_selected_4326.shp'\n",
    "water = geemap.shp_to_ee(water_shp)\n",
    "Map.addLayer(water, {}, 'Water')\n",
    "\n",
    "forest_shp = '../Data/Endmembers/forest_kizil.shp'\n",
    "forest = geemap.shp_to_ee(forest_shp)\n",
    "Map.addLayer(forest, {}, 'forest')\n",
    "\n",
    "soil_shp = '../Data/Endmembers/soil_kizil.shp'\n",
    "soil = geemap.shp_to_ee(soil_shp)\n",
    "Map.addLayer(soil, {}, 'soil')"
   ]
  },
  {
   "cell_type": "markdown",
   "metadata": {},
   "source": [
    "### Endmember Zonal Statistics"
   ]
  },
  {
   "cell_type": "code",
   "execution_count": null,
   "metadata": {
    "scrolled": true
   },
   "outputs": [],
   "source": [
    "waterMean = sentinel.reduceRegion(\n",
    "    **{\n",
    "        'reducer': ee.Reducer.mean(),\n",
    "        'geometry': water.geometry().getInfo(),\n",
    "        'scale': 20,\n",
    "        'maxPixels': 1e9\n",
    "    }).values()\n",
    "\n",
    "forestMean = sentinel.reduceRegion(\n",
    "    **{\n",
    "        'reducer': ee.Reducer.mean(),\n",
    "        'geometry': forest.geometry().getInfo(),\n",
    "        'scale': 20,\n",
    "        'maxPixels': 1e9\n",
    "    }).values()\n",
    "\n",
    "soilMean = sentinel.reduceRegion(\n",
    "    **{\n",
    "        'reducer': ee.Reducer.mean(),\n",
    "        'geometry': soil.geometry().getInfo(),\n",
    "        'scale': 20,\n",
    "        'maxPixels': 1e9\n",
    "    }).values()"
   ]
  },
  {
   "cell_type": "code",
   "execution_count": null,
   "metadata": {},
   "outputs": [],
   "source": [
    "waterMean.getInfo()"
   ]
  },
  {
   "cell_type": "code",
   "execution_count": null,
   "metadata": {},
   "outputs": [],
   "source": [
    "endmembers = ee.Array.cat([waterMean , forestMean , soilMean] , 1)"
   ]
  },
  {
   "cell_type": "code",
   "execution_count": null,
   "metadata": {},
   "outputs": [],
   "source": [
    "arrayImage = sentinel.toArray().toArray(1)\n",
    "\n",
    "unmixed = ee.Image(endmembers).matrixSolve(arrayImage)\n",
    "\n",
    "unmixedImage = unmixed.arrayProject([0]).arrayFlatten([['water','forest','soil']])"
   ]
  },
  {
   "cell_type": "code",
   "execution_count": null,
   "metadata": {},
   "outputs": [],
   "source": [
    "Map.addLayer(unmixedImage, {}, 'Unmixed')"
   ]
  },
  {
   "cell_type": "code",
   "execution_count": null,
   "metadata": {},
   "outputs": [],
   "source": [
    "waterBand = unmixedImage.select('water').gt(0.95)\n",
    "\n",
    "Map.addLayer(waterBand, {} , 'waterBand')"
   ]
  },
  {
   "cell_type": "code",
   "execution_count": null,
   "metadata": {},
   "outputs": [],
   "source": [
    "classes = waterBand.reduceToVectors(\n",
    "**{\n",
    "  'reducer': ee.Reducer.countEvery(), \n",
    "  'geometry': waterBand.geometry().getInfo(), \n",
    "  'scale': 30,\n",
    "  'maxPixels': 1e8\n",
    "});\n"
   ]
  },
  {
   "cell_type": "code",
   "execution_count": null,
   "metadata": {},
   "outputs": [],
   "source": [
    "result = ee.FeatureCollection(classes);\n",
    "Map.addLayer(result,{},'Water_Vector');"
   ]
  },
  {
   "cell_type": "code",
   "execution_count": null,
   "metadata": {},
   "outputs": [],
   "source": [
    "fractions = sentinel.unmix([waterMean, forestMean, soilMean])"
   ]
  },
  {
   "cell_type": "code",
   "execution_count": null,
   "metadata": {},
   "outputs": [],
   "source": [
    "Map.addLayer(fractions, {}, 'unmixed');\n"
   ]
  },
  {
   "cell_type": "code",
   "execution_count": null,
   "metadata": {},
   "outputs": [],
   "source": []
  },
  {
   "cell_type": "markdown",
   "metadata": {},
   "source": [
    "### Export Classification"
   ]
  },
  {
   "cell_type": "code",
   "execution_count": null,
   "metadata": {},
   "outputs": [],
   "source": [
    "out_dir = '../Data/Unmixed'\n",
    "\n",
    "for i,coor in enumerate(coordinates):\n",
    "    area1 = ee.Geometry.Polygon(coor)\n",
    "    unmixedImage1 = fractions.clip(area1).unmask()\n",
    "    filename = os.path.join(out_dir, f'Unmixed_{i}.tif')\n",
    "    geemap.ee_export_image(unmixedImage1, filename=filename, scale=10, file_per_band=False)"
   ]
  },
  {
   "cell_type": "raw",
   "metadata": {},
   "source": []
  },
  {
   "cell_type": "markdown",
   "metadata": {},
   "source": [
    "# Supervised classification\n"
   ]
  },
  {
   "cell_type": "code",
   "execution_count": null,
   "metadata": {},
   "outputs": [],
   "source": [
    "# clip image\n",
    "# image_roi = image.clip(roi.geometry())\n",
    "# Map.addLayer(image_roi,landsat_vis,'Cropped_Landsat')"
   ]
  },
  {
   "cell_type": "code",
   "execution_count": null,
   "metadata": {},
   "outputs": [],
   "source": [
    "bands = ['B2','B3','B4','B5','B6','B7','B8','B11','B12','NDVI','NDWI']\n",
    "# bands.extend(['NDVI','NDWI'])\n",
    "print(bands)"
   ]
  },
  {
   "cell_type": "code",
   "execution_count": null,
   "metadata": {},
   "outputs": [],
   "source": [
    "sentinel.getInfo()"
   ]
  },
  {
   "cell_type": "code",
   "execution_count": null,
   "metadata": {},
   "outputs": [],
   "source": [
    "waterf = ee.Feature(water.geometry(), {'class': 0, 'name': 'water'});\n",
    "forestf = ee.Feature(forest.geometry(), {'class': 1, 'name': 'forest'});\n",
    "soilf = ee.Feature(soil.geometry(), {'class': 2, 'name': 'soil'});"
   ]
  },
  {
   "cell_type": "code",
   "execution_count": null,
   "metadata": {},
   "outputs": [],
   "source": [
    "trainingFeatures = ee.FeatureCollection([waterf, forestf, soilf])"
   ]
  },
  {
   "cell_type": "code",
   "execution_count": null,
   "metadata": {},
   "outputs": [],
   "source": [
    "classifierTraining = sentinel.select(bands).sampleRegions(\n",
    "      collection= trainingFeatures, \n",
    "      properties= ['class'], \n",
    "      scale= 10\n",
    "    );"
   ]
  },
  {
   "cell_type": "code",
   "execution_count": null,
   "metadata": {},
   "outputs": [],
   "source": [
    "# // Randomly split the data into 60% for training, and 40% for testing\n",
    "trainingTesting = classifierTraining.randomColumn('random',111009);\n",
    "\n",
    "training = trainingTesting.filter(ee.Filter.lt('random', 0.6));\n",
    "\n",
    "testing = trainingTesting.filter(ee.Filter.gte('random', 0.6));"
   ]
  },
  {
   "cell_type": "markdown",
   "metadata": {},
   "source": [
    "### Non-linear regression functions"
   ]
  },
  {
   "cell_type": "code",
   "execution_count": null,
   "metadata": {},
   "outputs": [],
   "source": [
    "cartclassifier = ee.Classifier.cart(randomSeed=111009).train(\n",
    "      features= training, \n",
    "      classProperty= 'class', \n",
    "      inputProperties= bands\n",
    "    );"
   ]
  },
  {
   "cell_type": "code",
   "execution_count": null,
   "metadata": {},
   "outputs": [],
   "source": [
    "cartClasifficationImage = sentinel.select(bands).classify(cartclassifier);\n",
    "\n",
    "Map.addLayer(cartClasifficationImage, {'min': 0, 'max': 2,\n",
    "                                   'palette':['blue','green', 'yellow']},'CART classification');"
   ]
  },
  {
   "cell_type": "code",
   "execution_count": null,
   "metadata": {},
   "outputs": [],
   "source": [
    "rfClassification = ee.Classifier.smileRandomForest(numberOfTrees=15, seed=111009).train(\n",
    "      features= training, \n",
    "      classProperty= 'class', \n",
    "      inputProperties= bands\n",
    "    )"
   ]
  },
  {
   "cell_type": "code",
   "execution_count": null,
   "metadata": {},
   "outputs": [],
   "source": [
    "# // Perform the RF regression on the landsat image\n",
    "rfClassificationImage = sentinel.select(bands).classify(rfClassification);\n",
    "    \n",
    "# // Visualize the RF regression\n",
    "# Map.addLayer(rfClassificationImage,  {'min': 0, 'max': 2,\n",
    "#                                    'palette':['blue','green', 'yellow']}, 'RF classification');\n",
    "\n",
    "Map.addLayer(rfClassificationImage,  {'min': 0, 'max': 2,\n",
    "                                   'palette':['blue','green', 'yellow']}, 'RF classification');"
   ]
  },
  {
   "cell_type": "code",
   "execution_count": null,
   "metadata": {},
   "outputs": [],
   "source": [
    "# ee.Classifier.libsvm(decisionProcedure, svmType, kernelType, shrinking, degree, gamma, coef0, cost, nu, terminationEpsilon, lossEpsilon, oneClass)\n",
    "\n",
    "# // Create an SVM classifier with custom parameters.\n",
    "svClassification = ee.Classifier.libsvm(kernelType='RBF',gamma=1,cost=100).train(\n",
    "      features= training, \n",
    "      classProperty= 'class', \n",
    "      inputProperties= bands\n",
    "    )"
   ]
  },
  {
   "cell_type": "code",
   "execution_count": null,
   "metadata": {},
   "outputs": [],
   "source": [
    "# // Perform the RF regression on the landsat image\n",
    "svClassificationImage = sentinel.select(bands).classify(svClassification);\n",
    "    \n",
    "# // Visualize the RF regression\n",
    "Map.addLayer(svClassificationImage,{'min': 0, 'max': 2,\n",
    "                                   'palette':['blue', 'green','yellow']}, 'SV CLassification');"
   ]
  },
  {
   "cell_type": "code",
   "execution_count": null,
   "metadata": {},
   "outputs": [],
   "source": [
    "out_dir = '../Data/ML'\n",
    "filename_rf = os.path.join(out_dir, 'RF.tif')\n",
    "rfClassificationImage = rfClassificationImage.clip(area).unmask()\n",
    "geemap.ee_export_image(rfClassificationImage, filename=filename_rf, scale=10, file_per_band=False)"
   ]
  },
  {
   "cell_type": "code",
   "execution_count": null,
   "metadata": {},
   "outputs": [],
   "source": [
    "for i,coor in enumerate(coordinates):\n",
    "    area1 = ee.Geometry.Polygon(coor)\n",
    "    cartClasifficationImage1 = cartClasifficationImage.clip(area1).unmask()\n",
    "    svClassificationImage1 = svClassificationImage.clip(area1).unmask()\n",
    "    \n",
    "    filename_cart = os.path.join(out_dir, f'Cart_{i}.tif')\n",
    "    filename_svm = os.path.join(out_dir, f'SWM_{i}.tif')\n",
    "    \n",
    "    geemap.ee_export_image(cartClasifficationImage1, filename=filename_cart, scale=10, file_per_band=False)\n",
    "    geemap.ee_export_image(svClassificationImage1, filename=filename_svm, scale=10, file_per_band=False)"
   ]
  },
  {
   "cell_type": "code",
   "execution_count": null,
   "metadata": {},
   "outputs": [],
   "source": []
  },
  {
   "cell_type": "code",
   "execution_count": null,
   "metadata": {
    "scrolled": false
   },
   "outputs": [],
   "source": [
    "folder = '/home/cak/Desktop/lake_extraction/Data/Unmixed'\n",
    "os.chdir(folder)\n",
    "if os.path.exists('merged.tif'):os.remove('merged.tif')\n",
    "files = glob.glob1(folder,'*.tif')\n",
    "files = ' '.join(files)\n",
    "code = f\"gdal_merge.py -o merged.tif {files}\"\n",
    "os.system(code)"
   ]
  },
  {
   "cell_type": "code",
   "execution_count": null,
   "metadata": {},
   "outputs": [],
   "source": [
    "A = 2\n",
    "B = 1\n",
    "C = -0.8\n",
    "\n",
    "if os.path.exists('merged_classified.tif'):os.remove('merged_classified.tif')\n",
    "\n",
    "code =  f\"\"\"gdal_calc.py --calc \"logical_and(A<{A},\\\n",
    "B<{B},C>{C})\" --format GTiff --type Float32 -A \\\n",
    "/home/cak/Desktop/lake_extraction/Data/Unmixed/merged.tif \\\n",
    "--A_band 1 -B /home/cak/Desktop/lake_extraction/Data/Unmixed/merged.tif \\\n",
    "--B_band 2 -C /home/cak/Desktop/lake_extraction/Data/Unmixed/merged.tif \\\n",
    "--C_band 3 --outfile /home/cak/Desktop/lake_extraction/Data/Unmixed/merged_classified.tif\n",
    "\"\"\"\n",
    "os.system(code)\n",
    "\n",
    "if os.path.exists('merged_classified.shp'):os.remove('merged_classified.shp')\n",
    "wbt = '/home/cak/Desktop/lake_extraction/Geemap/WBT/whitebox_tools'\n",
    "code = f\"\"\"{wbt} -r=RasterToVectorPolygons -v --wd=\".\" --input=merged_classified.tif -o=../../Data/Unmixed/merged_classified.shp\"\"\"\n",
    "os.system(code)\n",
    "\n"
   ]
  },
  {
   "cell_type": "code",
   "execution_count": null,
   "metadata": {},
   "outputs": [],
   "source": [
    "import rasterio\n",
    "from rasterio.plot import show\n",
    "import matplotlib.pyplot as plt\n",
    "%matplotlib inline\n",
    "import geopandas as gpd"
   ]
  },
  {
   "cell_type": "code",
   "execution_count": null,
   "metadata": {},
   "outputs": [],
   "source": []
  }
 ],
 "metadata": {
  "finalized": {
   "timestamp": 1608570369783,
   "trusted": false
  },
  "kernelspec": {
   "display_name": "Python 3",
   "language": "python",
   "name": "python3"
  },
  "language_info": {
   "codemirror_mode": {
    "name": "ipython",
    "version": 3
   },
   "file_extension": ".py",
   "mimetype": "text/x-python",
   "name": "python",
   "nbconvert_exporter": "python",
   "pygments_lexer": "ipython3",
   "version": "3.8.5"
  },
  "varInspector": {
   "cols": {
    "lenName": 16,
    "lenType": 16,
    "lenVar": 40
   },
   "kernels_config": {
    "python": {
     "delete_cmd_postfix": "",
     "delete_cmd_prefix": "del ",
     "library": "var_list.py",
     "varRefreshCmd": "print(var_dic_list())"
    },
    "r": {
     "delete_cmd_postfix": ") ",
     "delete_cmd_prefix": "rm(",
     "library": "var_list.r",
     "varRefreshCmd": "cat(var_dic_list()) "
    }
   },
   "types_to_exclude": [
    "module",
    "function",
    "builtin_function_or_method",
    "instance",
    "_Feature"
   ],
   "window_display": false
  }
 },
 "nbformat": 4,
 "nbformat_minor": 4
}