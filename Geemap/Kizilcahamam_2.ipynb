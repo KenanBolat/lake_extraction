{
 "cells": [
  {
   "cell_type": "code",
   "execution_count": 1,
   "metadata": {},
   "outputs": [],
   "source": [
    "import geemap\n",
    "import ee\n",
    "import os , glob\n",
    "import datetime\n",
    "import geopandas as gpd"
   ]
  },
  {
   "cell_type": "markdown",
   "metadata": {},
   "source": [
    "# Spectral Linear Unmixing"
   ]
  },
  {
   "cell_type": "code",
   "execution_count": 2,
   "metadata": {},
   "outputs": [
    {
     "data": {
      "application/vnd.jupyter.widget-view+json": {
       "model_id": "12fadd2cc8b84939aa80aa5d814c53c8",
       "version_major": 2,
       "version_minor": 0
      },
      "text/plain": [
       "Map(center=[40.409264, 32.770967], controls=(WidgetControl(options=['position'], widget=HBox(children=(ToggleB…"
      ]
     },
     "metadata": {},
     "output_type": "display_data"
    }
   ],
   "source": [
    "Map = geemap.Map(center = [40.409264,32.770967],zoom=12)\n",
    "Map.add_basemap('Esri Satellite')\n",
    "Map\n"
   ]
  },
  {
   "cell_type": "code",
   "execution_count": 3,
   "metadata": {
    "scrolled": true
   },
   "outputs": [
    {
     "data": {
      "text/plain": [
       "{'type': 'Point', 'coordinates': [32.616416, 40.398831]}"
      ]
     },
     "execution_count": 3,
     "metadata": {},
     "output_type": "execute_result"
    }
   ],
   "source": [
    "aoi = ee.Geometry.Point([32.616416, 40.398831])\n",
    "aoi.getInfo()"
   ]
  },
  {
   "cell_type": "code",
   "execution_count": 4,
   "metadata": {
    "scrolled": true
   },
   "outputs": [
    {
     "data": {
      "text/plain": [
       "{'type': 'Point', 'coordinates': [32.65, 40.58]}"
      ]
     },
     "execution_count": 4,
     "metadata": {},
     "output_type": "execute_result"
    }
   ],
   "source": [
    "aoi2 = ee.Geometry.Point([32.65, 40.58])\n",
    "aoi2.getInfo()"
   ]
  },
  {
   "cell_type": "markdown",
   "metadata": {},
   "source": [
    "## Add points to map"
   ]
  },
  {
   "cell_type": "code",
   "execution_count": 5,
   "metadata": {},
   "outputs": [],
   "source": [
    "ramsar_shp = '/home/cak/Desktop/lake_extraction/Data/kizilcahamam.shp'\n",
    "ramsar = geemap.shp_to_ee(ramsar_shp)\n",
    "Map.addLayer(ramsar, {}, 'Ponds Points')"
   ]
  },
  {
   "cell_type": "markdown",
   "metadata": {},
   "source": [
    "### Area Definition"
   ]
  },
  {
   "cell_type": "code",
   "execution_count": 6,
   "metadata": {},
   "outputs": [
    {
     "data": {
      "text/plain": [
       "{'type': 'Polygon',\n",
       " 'coordinates': [[[32.7, 40.300000000000004],\n",
       "   [33, 40.300000000000004],\n",
       "   [33, 40.45],\n",
       "   [32.7, 40.45],\n",
       "   [32.7, 40.300000000000004]]]}"
      ]
     },
     "execution_count": 6,
     "metadata": {},
     "output_type": "execute_result"
    }
   ],
   "source": [
    "area = ee.Geometry.Polygon([[[32.7, 40.300000000000004],\n",
    "      [33, 40.300000000000004],\n",
    "      [33, 40.45],\n",
    "      [32.7, 40.45],\n",
    "      [32.7, 40.300000000000004]]])\n",
    "area.getInfo()"
   ]
  },
  {
   "cell_type": "code",
   "execution_count": 7,
   "metadata": {},
   "outputs": [
    {
     "data": {
      "text/plain": [
       "{'type': 'Polygon',\n",
       " 'coordinates': [[[32.36, 40.44],\n",
       "   [32.96, 40.44],\n",
       "   [32.96, 40.72],\n",
       "   [32.36, 40.72],\n",
       "   [32.36, 40.44]]]}"
      ]
     },
     "execution_count": 7,
     "metadata": {},
     "output_type": "execute_result"
    }
   ],
   "source": [
    "area2 = ee.Geometry.Polygon([[[32.36, 40.44],\n",
    "      [32.96, 40.44],\n",
    "      [32.96, 40.72],\n",
    "      [32.36, 40.72],\n",
    "      [32.36, 40.44]]])\n",
    "area2.getInfo()"
   ]
  },
  {
   "cell_type": "code",
   "execution_count": 8,
   "metadata": {},
   "outputs": [],
   "source": [
    "# area_shp = '../Data/Aux/area.shp'\n",
    "# area = geemap.shp_to_ee(area_shp)\n",
    "Map.addLayer(area, {}, 'Study Area')\n",
    "tiles_shp = '../Data/Aux/tiles.shp'\n",
    "tiles = geemap.shp_to_ee(tiles_shp)\n",
    "Map.addLayer(tiles, {}, 'Tiles')"
   ]
  },
  {
   "cell_type": "code",
   "execution_count": 9,
   "metadata": {},
   "outputs": [],
   "source": [
    "# area_shp = '../Data/Aux/area.shp'\n",
    "# area = geemap.shp_to_ee(area_shp)\n",
    "Map.addLayer(area2, {}, 'Study Area 2')\n",
    "tiles_shp = '../Data/Aux/tiles2.shp'\n",
    "tiles2 = geemap.shp_to_ee(tiles_shp)\n",
    "Map.addLayer(tiles2, {}, 'Tiles 2')"
   ]
  },
  {
   "cell_type": "markdown",
   "metadata": {},
   "source": [
    "### Sentinel Image"
   ]
  },
  {
   "cell_type": "code",
   "execution_count": 10,
   "metadata": {},
   "outputs": [],
   "source": [
    "bands = ['B2','B3','B4','B5','B6','B7','B8','B11','B12']\n",
    "\n",
    "\n",
    "def maskS2clouds(image):\n",
    "  qa = image.select('QA60')\n",
    "\n",
    "  # Bits 10 and 11 are clouds and cirrus, respectively.\n",
    "  cloudBitMask = 1 << 10\n",
    "  cirrusBitMask = 1 << 11\n",
    "\n",
    "  # Both flags should be set to zero, indicating clear conditions.\n",
    "  mask = qa.bitwiseAnd(cloudBitMask).eq(0) \\\n",
    "      .And(qa.bitwiseAnd(cirrusBitMask).eq(0))\n",
    "\n",
    "  return image.updateMask(mask).divide(10000)\n",
    "\n",
    "sentinel = ee.ImageCollection('COPERNICUS/S2_SR') \\\n",
    "                .filterBounds(aoi) \\\n",
    "                .filterDate('2020-05-01', '2020-05-30') \\\n",
    "                .filter(ee.Filter.lt('CLOUDY_PIXEL_PERCENTAGE',20)) \\\n",
    "                .map(maskS2clouds)\\\n",
    "                .select(bands)\\\n",
    "                .first()\\\n",
    "                .clip(area)\n",
    "\n",
    "visualization = {\n",
    "  'min': 0.0,\n",
    "  'max': 0.3,\n",
    "  'bands': ['B4', 'B3', 'B2'],\n",
    "}\n",
    "\n",
    "Map.addLayer(sentinel, visualization, 'Sentinel_RGB')"
   ]
  },
  {
   "cell_type": "code",
   "execution_count": 11,
   "metadata": {},
   "outputs": [],
   "source": [
    "bands = ['B2','B3','B4','B5','B6','B7','B8','B11','B12']\n",
    "\n",
    "\n",
    "def maskS2clouds(image):\n",
    "  qa = image.select('QA60')\n",
    "\n",
    "  # Bits 10 and 11 are clouds and cirrus, respectively.\n",
    "  cloudBitMask = 1 << 10\n",
    "  cirrusBitMask = 1 << 11\n",
    "\n",
    "  # Both flags should be set to zero, indicating clear conditions.\n",
    "  mask = qa.bitwiseAnd(cloudBitMask).eq(0) \\\n",
    "      .And(qa.bitwiseAnd(cirrusBitMask).eq(0))\n",
    "\n",
    "  return image.updateMask(mask).divide(10000)\n",
    "\n",
    "sentinel2 = ee.ImageCollection('COPERNICUS/S2_SR') \\\n",
    "                .filterBounds(aoi2) \\\n",
    "                .filterDate('2020-05-01', '2020-05-30') \\\n",
    "                .filter(ee.Filter.lt('CLOUDY_PIXEL_PERCENTAGE',20)) \\\n",
    "                .map(maskS2clouds)\\\n",
    "                .select(bands)\\\n",
    "                .first()\\\n",
    "                .clip(area2)\n",
    "\n",
    "visualization = {\n",
    "  'min': 0.0,\n",
    "  'max': 0.3,\n",
    "  'bands': ['B4', 'B3', 'B2'],\n",
    "}\n",
    "\n",
    "Map.addLayer(sentinel2, visualization, 'Sentinel2_RGB')"
   ]
  },
  {
   "cell_type": "markdown",
   "metadata": {},
   "source": [
    "### Global Surface Water"
   ]
  },
  {
   "cell_type": "code",
   "execution_count": 12,
   "metadata": {},
   "outputs": [],
   "source": [
    "gsw_dataset = ee.Image('JRC/GSW1_2/GlobalSurfaceWater')\n",
    "\n",
    "\n",
    "gsw_dataset = gsw_dataset.clip(area)\n",
    "\n",
    "visualization = {\n",
    "  'bands': ['occurrence'],\n",
    "  'min': 0.0,\n",
    "  'max': 100.0,\n",
    "  'palette': ['ffffff', 'ffbbbb', '0000ff']\n",
    "};\n",
    "\n",
    "Map.addLayer(gsw_dataset, visualization, 'Surface - Water');"
   ]
  },
  {
   "cell_type": "code",
   "execution_count": 13,
   "metadata": {},
   "outputs": [],
   "source": [
    "gsw_dataset2 = ee.Image('JRC/GSW1_2/GlobalSurfaceWater')\n",
    "\n",
    "\n",
    "gsw_dataset2 = gsw_dataset2.clip(area2)\n",
    "\n",
    "visualization = {\n",
    "  'bands': ['occurrence'],\n",
    "  'min': 0.0,\n",
    "  'max': 100.0,\n",
    "  'palette': ['ffffff', 'ffbbbb', '0000ff']\n",
    "};\n",
    "\n",
    "Map.addLayer(gsw_dataset2, visualization, 'Surface - Water 2');"
   ]
  },
  {
   "cell_type": "markdown",
   "metadata": {},
   "source": [
    "### NDVI and NDWI "
   ]
  },
  {
   "cell_type": "code",
   "execution_count": 14,
   "metadata": {},
   "outputs": [],
   "source": [
    "visParams_ndvi = {'min': -0.2, 'max': 0.8, 'palette': 'FFFFFF, CE7E45, DF923D, F1B555, FCD163, 99B718, 74A901, 66A000,529400,3E8601,207401, 056201, 004C00, 023B01, 012E01, 011D01, 011301'};\n",
    "\n",
    "ndvi = sentinel.expression('(nir - red) / (nir + red)' ,{\n",
    "    'nir' : sentinel.select('B8'),\n",
    "    'red' : sentinel.select('B4')\n",
    "}).rename('NDVI')\n",
    "\n",
    "ndwi = sentinel.expression('(nir - swir) / (nir + swir)' ,{\n",
    "    'nir' : sentinel.select('B8'),\n",
    "    'swir' : sentinel.select('B11')\n",
    "}).rename('NDWI')\n",
    "\n",
    "Map.addLayer(ndwi, visParams_ndvi, 'Sentinel_NDWI_man')\n",
    "Map.addLayer(ndvi, visParams_ndvi, 'Sentinel_NDVI_man')\n",
    "# sentinel = sentinel.addBands(ndvi)\n",
    "# sentinel = sentinel.addBands(ndwi)"
   ]
  },
  {
   "cell_type": "code",
   "execution_count": 15,
   "metadata": {},
   "outputs": [],
   "source": [
    "visParams_ndvi = {'min': -0.2, 'max': 0.8, 'palette': 'FFFFFF, CE7E45, DF923D, F1B555, FCD163, 99B718, 74A901, 66A000,529400,3E8601,207401, 056201, 004C00, 023B01, 012E01, 011D01, 011301'};\n",
    "\n",
    "ndvi2 = sentinel2.expression('(nir - red) / (nir + red)' ,{\n",
    "    'nir' : sentinel2.select('B8'),\n",
    "    'red' : sentinel2.select('B4')\n",
    "}).rename('NDVI')\n",
    "\n",
    "ndwi2 = sentinel2.expression('(nir - swir) / (nir + swir)' ,{\n",
    "    'nir' : sentinel2.select('B8'),\n",
    "    'swir' : sentinel2.select('B11')\n",
    "}).rename('NDWI')\n",
    "\n",
    "Map.addLayer(ndwi2, visParams_ndvi, 'Sentinel_2_NDWI_man')\n",
    "Map.addLayer(ndvi2, visParams_ndvi, 'Sentinel_2_NDVI_man')\n",
    "# sentinel = sentinel.addBands(ndvi)\n",
    "# sentinel = sentinel.addBands(ndwi)"
   ]
  },
  {
   "cell_type": "markdown",
   "metadata": {},
   "source": [
    "## Image Stats"
   ]
  },
  {
   "cell_type": "code",
   "execution_count": 17,
   "metadata": {
    "scrolled": true
   },
   "outputs": [],
   "source": [
    "# landsat_props = geemap.image_props(image)\n",
    "sentinel_props = geemap.image_props(sentinel)\n",
    "# landsat_props.getInfo()"
   ]
  },
  {
   "cell_type": "code",
   "execution_count": 19,
   "metadata": {},
   "outputs": [],
   "source": [
    "# Date = landsat_props.get('IMAGE_DATE').getInfo()\n",
    "# CC= landsat_props.get('CLOUD_COVER').getInfo()\n",
    "# Zone = landsat_props.get('UTM_ZONE').getInfo()\n",
    "# Scale = landsat_props.get('NOMINAL_SCALE').getInfo()\n",
    "date_sentinel = sentinel.get('system:index').getInfo()\n",
    "date_sentinel = datetime.datetime.strptime(date_sentinel.split('_')[0], \"%Y%m%dT%H%M%S\").date()"
   ]
  },
  {
   "cell_type": "code",
   "execution_count": 20,
   "metadata": {
    "scrolled": true
   },
   "outputs": [
    {
     "ename": "NameError",
     "evalue": "name 'Date' is not defined",
     "output_type": "error",
     "traceback": [
      "\u001b[0;31m---------------------------------------------------------------------------\u001b[0m",
      "\u001b[0;31mNameError\u001b[0m                                 Traceback (most recent call last)",
      "\u001b[0;32m<ipython-input-20-c339daded17d>\u001b[0m in \u001b[0;36m<module>\u001b[0;34m\u001b[0m\n\u001b[1;32m      2\u001b[0m \u001b[0;34m\u001b[0m\u001b[0m\n\u001b[1;32m      3\u001b[0m Stats = {\n\u001b[0;32m----> 4\u001b[0;31m     \u001b[0;34m'Date'\u001b[0m \u001b[0;34m:\u001b[0m \u001b[0mDate\u001b[0m\u001b[0;34m,\u001b[0m\u001b[0;34m\u001b[0m\u001b[0;34m\u001b[0m\u001b[0m\n\u001b[0m\u001b[1;32m      5\u001b[0m     \u001b[0;34m'Cloud Cover'\u001b[0m \u001b[0;34m:\u001b[0m \u001b[0;34m\"{:.4} %\"\u001b[0m\u001b[0;34m.\u001b[0m\u001b[0mformat\u001b[0m\u001b[0;34m(\u001b[0m\u001b[0mfloat\u001b[0m\u001b[0;34m(\u001b[0m\u001b[0mCC\u001b[0m\u001b[0;34m)\u001b[0m\u001b[0;34m*\u001b[0m\u001b[0;36m100\u001b[0m\u001b[0;34m)\u001b[0m\u001b[0;34m,\u001b[0m\u001b[0;34m\u001b[0m\u001b[0;34m\u001b[0m\u001b[0m\n\u001b[1;32m      6\u001b[0m     \u001b[0;34m'UTM Zone '\u001b[0m \u001b[0;34m:\u001b[0m \u001b[0mZone\u001b[0m\u001b[0;34m,\u001b[0m\u001b[0;34m\u001b[0m\u001b[0;34m\u001b[0m\u001b[0m\n",
      "\u001b[0;31mNameError\u001b[0m: name 'Date' is not defined"
     ]
    }
   ],
   "source": [
    "from pprint import pprint\n",
    "\n",
    "Stats = {\n",
    "    'Date' : Date,\n",
    "    'Cloud Cover' : \"{:.4} %\".format(float(CC)*100),\n",
    "    'UTM Zone ' : Zone, \n",
    "    'Resolution' : Scale\n",
    "}\n",
    "\n",
    "pprint(Stats)"
   ]
  },
  {
   "cell_type": "code",
   "execution_count": 21,
   "metadata": {},
   "outputs": [
    {
     "data": {
      "text/plain": [
       "datetime.date(2020, 5, 16)"
      ]
     },
     "execution_count": 21,
     "metadata": {},
     "output_type": "execute_result"
    }
   ],
   "source": [
    "date_sentinel"
   ]
  },
  {
   "cell_type": "markdown",
   "metadata": {},
   "source": [
    "### Create Area of Interest"
   ]
  },
  {
   "cell_type": "code",
   "execution_count": null,
   "metadata": {},
   "outputs": [],
   "source": [
    "# export_area = Map.draw_last_feature"
   ]
  },
  {
   "cell_type": "markdown",
   "metadata": {},
   "source": [
    "### Export Image"
   ]
  },
  {
   "cell_type": "code",
   "execution_count": 22,
   "metadata": {},
   "outputs": [],
   "source": [
    "out_dir = '/home/cak/Desktop/lake_extraction/Data/exported/2'\n",
    "# filename = os.path.join(out_dir, f'{Date}_landsat_kizil.tif')\n",
    "filename_water = os.path.join(out_dir, 'surface_water_kizil.tif')\n",
    "filename_ndvi = os.path.join(out_dir, 'ndvi_kizil.tif')\n",
    "filename_ndwi = os.path.join(out_dir, 'ndwi_kizil.tif')\n",
    "filename_gsw = os.path.join(out_dir, 'water_kizil.tif')"
   ]
  },
  {
   "cell_type": "code",
   "execution_count": 23,
   "metadata": {
    "scrolled": true
   },
   "outputs": [
    {
     "name": "stdout",
     "output_type": "stream",
     "text": [
      "Generating URL ...\n",
      "An error occurred while downloading.\n",
      "Total request size (47662760 bytes) must be less than or equal to 33554432 bytes.\n",
      "Generating URL ...\n",
      "An error occurred while downloading.\n",
      "Total request size (47662760 bytes) must be less than or equal to 33554432 bytes.\n",
      "Generating URL ...\n",
      "An error occurred while downloading.\n",
      "Total request size (36530494 bytes) must be less than or equal to 33554432 bytes.\n"
     ]
    }
   ],
   "source": [
    "# image = image.clip(area).unmask()\n",
    "ndvi2 = ndvi2.clip(area2).unmask()\n",
    "ndwi2 = ndwi2.clip(area2).unmask()\n",
    "gsw_dataset2 = gsw_dataset2.clip(area2).unmask()\n",
    "# geemap.ee_export_image(image, filename=filename, scale=20, file_per_band=False)\n",
    "geemap.ee_export_image(ndvi2, filename=filename_ndvi, scale=10, file_per_band=False)\n",
    "geemap.ee_export_image(ndwi2, filename=filename_ndwi, scale=10, file_per_band=False)\n",
    "geemap.ee_export_image(gsw_dataset2, filename=filename_gsw, scale=20, file_per_band=False)\n"
   ]
  },
  {
   "cell_type": "markdown",
   "metadata": {},
   "source": [
    "### Sentinel Export"
   ]
  },
  {
   "cell_type": "code",
   "execution_count": 24,
   "metadata": {},
   "outputs": [],
   "source": [
    "tiles = gpd.read_file('../Data/Aux/tiles2.shp')"
   ]
  },
  {
   "cell_type": "code",
   "execution_count": 25,
   "metadata": {},
   "outputs": [],
   "source": [
    "def coord_lister(geom):\n",
    "    coords = list(geom.exterior.coords)\n",
    "    return (coords)\n",
    "coordinates = tiles.geometry.apply(coord_lister)"
   ]
  },
  {
   "cell_type": "code",
   "execution_count": 26,
   "metadata": {
    "scrolled": true
   },
   "outputs": [
    {
     "name": "stdout",
     "output_type": "stream",
     "text": [
      "Generating URL ...\n",
      "Downloading data from https://earthengine.googleapis.com/v1alpha/projects/earthengine-legacy/thumbnails/9ca3c56d72196b6f085179fcba2df7fe-b5fb8a1460f44b85c69a824f6906088d:getPixels\n",
      "Please wait ...\n",
      "Data downloaded to /home/cak/Desktop/lake_extraction/Data/exported/2/2020-05-16_sentinel_kizil_0.tif\n",
      "Generating URL ...\n",
      "Downloading data from https://earthengine.googleapis.com/v1alpha/projects/earthengine-legacy/thumbnails/8897596c6af7cde60427c03eba6b5773-cb38ed6a38890f23e7518aa14bda0052:getPixels\n",
      "Please wait ...\n",
      "Data downloaded to /home/cak/Desktop/lake_extraction/Data/exported/2/2020-05-16_sentinel_kizil_1.tif\n",
      "Generating URL ...\n",
      "Downloading data from https://earthengine.googleapis.com/v1alpha/projects/earthengine-legacy/thumbnails/3aced151f701b747747c3db6fc81635e-669e060ed8851e11af318b1770ed0a42:getPixels\n",
      "Please wait ...\n",
      "Data downloaded to /home/cak/Desktop/lake_extraction/Data/exported/2/2020-05-16_sentinel_kizil_2.tif\n",
      "Generating URL ...\n",
      "Downloading data from https://earthengine.googleapis.com/v1alpha/projects/earthengine-legacy/thumbnails/7f424ad65296724010ef69da67f689b1-61d15897cda1eae7cd30f9d6bfe05312:getPixels\n",
      "Please wait ...\n",
      "Data downloaded to /home/cak/Desktop/lake_extraction/Data/exported/2/2020-05-16_sentinel_kizil_3.tif\n",
      "Generating URL ...\n",
      "Downloading data from https://earthengine.googleapis.com/v1alpha/projects/earthengine-legacy/thumbnails/ac24f08ca2b4cdec30e6444f1cb93090-15f0f98aadc51dca5340b282a6e70450:getPixels\n",
      "Please wait ...\n",
      "Data downloaded to /home/cak/Desktop/lake_extraction/Data/exported/2/2020-05-16_sentinel_kizil_4.tif\n",
      "Generating URL ...\n",
      "Downloading data from https://earthengine.googleapis.com/v1alpha/projects/earthengine-legacy/thumbnails/c86701320aee64aa6ddba6bb054dd763-976583c803c9e003118545d59e1a57b5:getPixels\n",
      "Please wait ...\n",
      "Data downloaded to /home/cak/Desktop/lake_extraction/Data/exported/2/2020-05-16_sentinel_kizil_5.tif\n",
      "Generating URL ...\n",
      "An error occurred while downloading.\n",
      "Image.clipToBoundsAndScale: The geometry for image clipping must not be empty.\n",
      "Generating URL ...\n",
      "Downloading data from https://earthengine.googleapis.com/v1alpha/projects/earthengine-legacy/thumbnails/eccf72a2fac288ffdf3313cfe7036cd8-0e76f59ee4794f603d444bbeab21aa39:getPixels\n",
      "Please wait ...\n",
      "Data downloaded to /home/cak/Desktop/lake_extraction/Data/exported/2/2020-05-16_sentinel_kizil_7.tif\n",
      "Generating URL ...\n",
      "Downloading data from https://earthengine.googleapis.com/v1alpha/projects/earthengine-legacy/thumbnails/9c6f7982008eff2e3f7bab4fe1414327-65d0ff8b8d7ecd66089ff5583a84a42e:getPixels\n",
      "Please wait ...\n",
      "Data downloaded to /home/cak/Desktop/lake_extraction/Data/exported/2/2020-05-16_sentinel_kizil_8.tif\n",
      "Generating URL ...\n",
      "Downloading data from https://earthengine.googleapis.com/v1alpha/projects/earthengine-legacy/thumbnails/2512e9456ec9b00791860ba7cb8ac829-6fa18c378ced85898ec181ae3c845aee:getPixels\n",
      "Please wait ...\n",
      "Data downloaded to /home/cak/Desktop/lake_extraction/Data/exported/2/2020-05-16_sentinel_kizil_9.tif\n",
      "Generating URL ...\n",
      "Downloading data from https://earthengine.googleapis.com/v1alpha/projects/earthengine-legacy/thumbnails/0b9e03b85702f54d387c34275f10bb8a-9d7120641dbfb24f834e96af7e5da511:getPixels\n",
      "Please wait ...\n",
      "Data downloaded to /home/cak/Desktop/lake_extraction/Data/exported/2/2020-05-16_sentinel_kizil_10.tif\n",
      "Generating URL ...\n",
      "Downloading data from https://earthengine.googleapis.com/v1alpha/projects/earthengine-legacy/thumbnails/aac447c0848959b71d32a0e25594b9b5-c5b8befdb6c5d875e17f66152e4dcca0:getPixels\n",
      "Please wait ...\n",
      "Data downloaded to /home/cak/Desktop/lake_extraction/Data/exported/2/2020-05-16_sentinel_kizil_11.tif\n",
      "Generating URL ...\n",
      "Downloading data from https://earthengine.googleapis.com/v1alpha/projects/earthengine-legacy/thumbnails/1e33bd5b7293981c2430d8e44affb39f-021308e53b411a77b2aa73252783ed11:getPixels\n",
      "Please wait ...\n",
      "Data downloaded to /home/cak/Desktop/lake_extraction/Data/exported/2/2020-05-16_sentinel_kizil_12.tif\n",
      "Generating URL ...\n",
      "An error occurred while downloading.\n",
      "Image.clipToBoundsAndScale: The geometry for image clipping must not be empty.\n",
      "Generating URL ...\n",
      "Downloading data from https://earthengine.googleapis.com/v1alpha/projects/earthengine-legacy/thumbnails/c1a90c85c133ffc86409a6eca5621896-3a1c979cc3d8467572f482c6313bf6a9:getPixels\n",
      "Please wait ...\n",
      "Data downloaded to /home/cak/Desktop/lake_extraction/Data/exported/2/2020-05-16_sentinel_kizil_14.tif\n",
      "Generating URL ...\n",
      "Downloading data from https://earthengine.googleapis.com/v1alpha/projects/earthengine-legacy/thumbnails/bc525dc9c378ac1a4f92dedd2dad358d-568a1754d85b98cc349d39e0c7a1a908:getPixels\n",
      "Please wait ...\n",
      "Data downloaded to /home/cak/Desktop/lake_extraction/Data/exported/2/2020-05-16_sentinel_kizil_15.tif\n",
      "Generating URL ...\n",
      "Downloading data from https://earthengine.googleapis.com/v1alpha/projects/earthengine-legacy/thumbnails/914dacae31ff1c21c96e1b6f1d90a40e-ee11ea3fe0fa2c6b71abe216f9016ead:getPixels\n",
      "Please wait ...\n",
      "Data downloaded to /home/cak/Desktop/lake_extraction/Data/exported/2/2020-05-16_sentinel_kizil_16.tif\n",
      "Generating URL ...\n",
      "Downloading data from https://earthengine.googleapis.com/v1alpha/projects/earthengine-legacy/thumbnails/a7ef32d3c81f1c373ddd915dab73c308-78fe0cfd6bd8d2edfe348cde3bf22ec2:getPixels\n",
      "Please wait ...\n",
      "Data downloaded to /home/cak/Desktop/lake_extraction/Data/exported/2/2020-05-16_sentinel_kizil_17.tif\n",
      "Generating URL ...\n",
      "Downloading data from https://earthengine.googleapis.com/v1alpha/projects/earthengine-legacy/thumbnails/94e7784cdf95de47e46eb12cbf3ab365-0bb9817ce47eb4d009ba7fee09436453:getPixels\n",
      "Please wait ...\n",
      "Data downloaded to /home/cak/Desktop/lake_extraction/Data/exported/2/2020-05-16_sentinel_kizil_18.tif\n",
      "Generating URL ...\n",
      "Downloading data from https://earthengine.googleapis.com/v1alpha/projects/earthengine-legacy/thumbnails/0547a1a93c66781d1217aaff01788c1c-1bf26f5a9963b498f9913c23b6b878d3:getPixels\n",
      "Please wait ...\n",
      "Data downloaded to /home/cak/Desktop/lake_extraction/Data/exported/2/2020-05-16_sentinel_kizil_19.tif\n",
      "Generating URL ...\n",
      "An error occurred while downloading.\n",
      "Image.clipToBoundsAndScale: The geometry for image clipping must not be empty.\n",
      "Generating URL ...\n",
      "Downloading data from https://earthengine.googleapis.com/v1alpha/projects/earthengine-legacy/thumbnails/91d462657420f21d39d2ae446c46b60b-9954ccabda7cb5287f10240f747d7ff4:getPixels\n",
      "Please wait ...\n",
      "Data downloaded to /home/cak/Desktop/lake_extraction/Data/exported/2/2020-05-16_sentinel_kizil_21.tif\n",
      "Generating URL ...\n",
      "Downloading data from https://earthengine.googleapis.com/v1alpha/projects/earthengine-legacy/thumbnails/3aabaad90f2392da88769d83f1ff3c82-68459831f627ca7220169aa3497b3455:getPixels\n",
      "Please wait ...\n",
      "Data downloaded to /home/cak/Desktop/lake_extraction/Data/exported/2/2020-05-16_sentinel_kizil_22.tif\n",
      "Generating URL ...\n",
      "Downloading data from https://earthengine.googleapis.com/v1alpha/projects/earthengine-legacy/thumbnails/90025c17d3762039ce1d9d8c0f3773ae-e21dfa1d2c773129f51a837b7dcb6d9b:getPixels\n",
      "Please wait ...\n",
      "Data downloaded to /home/cak/Desktop/lake_extraction/Data/exported/2/2020-05-16_sentinel_kizil_23.tif\n",
      "Generating URL ...\n",
      "Downloading data from https://earthengine.googleapis.com/v1alpha/projects/earthengine-legacy/thumbnails/974a8259e6aab920db005a3d1e3a0152-563ea9b70fa37b8f27f7c5468129d1c3:getPixels\n",
      "Please wait ...\n",
      "Data downloaded to /home/cak/Desktop/lake_extraction/Data/exported/2/2020-05-16_sentinel_kizil_24.tif\n",
      "Generating URL ...\n",
      "Downloading data from https://earthengine.googleapis.com/v1alpha/projects/earthengine-legacy/thumbnails/975cd99c223d1d044bd7c5a08d4734f8-ba52911593db355b6b4a2ad59ca0566e:getPixels\n",
      "Please wait ...\n",
      "Data downloaded to /home/cak/Desktop/lake_extraction/Data/exported/2/2020-05-16_sentinel_kizil_25.tif\n",
      "Generating URL ...\n",
      "Downloading data from https://earthengine.googleapis.com/v1alpha/projects/earthengine-legacy/thumbnails/3a80f242dea940865c866b0fc1d94be4-1638d71f8017d11d43a6fbbe28e6baa4:getPixels\n",
      "Please wait ...\n",
      "Data downloaded to /home/cak/Desktop/lake_extraction/Data/exported/2/2020-05-16_sentinel_kizil_26.tif\n",
      "Generating URL ...\n",
      "An error occurred while downloading.\n",
      "Image.clipToBoundsAndScale: The geometry for image clipping must not be empty.\n",
      "Generating URL ...\n",
      "Downloading data from https://earthengine.googleapis.com/v1alpha/projects/earthengine-legacy/thumbnails/a1b3658c096e4dd087d67a6cb458e4db-9a8e86f093c3895248e613cf7d8e5160:getPixels\n",
      "Please wait ...\n"
     ]
    },
    {
     "name": "stdout",
     "output_type": "stream",
     "text": [
      "Data downloaded to /home/cak/Desktop/lake_extraction/Data/exported/2/2020-05-16_sentinel_kizil_28.tif\n",
      "Generating URL ...\n",
      "Downloading data from https://earthengine.googleapis.com/v1alpha/projects/earthengine-legacy/thumbnails/6898584f25cce3c1287f4dd518923954-f53b18ca927353c0c3029d75312e1d84:getPixels\n",
      "Please wait ...\n",
      "Data downloaded to /home/cak/Desktop/lake_extraction/Data/exported/2/2020-05-16_sentinel_kizil_29.tif\n",
      "Generating URL ...\n",
      "Downloading data from https://earthengine.googleapis.com/v1alpha/projects/earthengine-legacy/thumbnails/d15ea48c7e109c6cfd19c21b9aed7967-8675cf5cd83b9272393001299a55d482:getPixels\n",
      "Please wait ...\n",
      "Data downloaded to /home/cak/Desktop/lake_extraction/Data/exported/2/2020-05-16_sentinel_kizil_30.tif\n",
      "Generating URL ...\n",
      "Downloading data from https://earthengine.googleapis.com/v1alpha/projects/earthengine-legacy/thumbnails/a5ecf1d6722746ab7dab4455972a3025-d1e08d05686f9af0d1ab771e110de1e6:getPixels\n",
      "Please wait ...\n",
      "Data downloaded to /home/cak/Desktop/lake_extraction/Data/exported/2/2020-05-16_sentinel_kizil_31.tif\n",
      "Generating URL ...\n",
      "Downloading data from https://earthengine.googleapis.com/v1alpha/projects/earthengine-legacy/thumbnails/8de7ae25eaa28fe223e7905d6928efda-8e5629517fa8ce37d6821e1fd9ef42db:getPixels\n",
      "Please wait ...\n",
      "Data downloaded to /home/cak/Desktop/lake_extraction/Data/exported/2/2020-05-16_sentinel_kizil_32.tif\n",
      "Generating URL ...\n",
      "Downloading data from https://earthengine.googleapis.com/v1alpha/projects/earthengine-legacy/thumbnails/c0bc33df3d000d1befeb7cc00f6b39c1-1ca56d69895e45e3ce08df67d23d4370:getPixels\n",
      "Please wait ...\n",
      "Data downloaded to /home/cak/Desktop/lake_extraction/Data/exported/2/2020-05-16_sentinel_kizil_33.tif\n",
      "Generating URL ...\n",
      "An error occurred while downloading.\n",
      "Image.clipToBoundsAndScale: The geometry for image clipping must not be empty.\n",
      "Generating URL ...\n",
      "Downloading data from https://earthengine.googleapis.com/v1alpha/projects/earthengine-legacy/thumbnails/6e3c884658f72f1cbb01f2f7a9eea872-38abc3b4db771a446ab2bd857b0e3d37:getPixels\n",
      "Please wait ...\n",
      "Data downloaded to /home/cak/Desktop/lake_extraction/Data/exported/2/2020-05-16_sentinel_kizil_35.tif\n",
      "Generating URL ...\n",
      "Downloading data from https://earthengine.googleapis.com/v1alpha/projects/earthengine-legacy/thumbnails/93623f05868310474f77514bf2b20502-00592a112a57fe240d52a93aa730ca82:getPixels\n",
      "Please wait ...\n",
      "Data downloaded to /home/cak/Desktop/lake_extraction/Data/exported/2/2020-05-16_sentinel_kizil_36.tif\n",
      "Generating URL ...\n",
      "Downloading data from https://earthengine.googleapis.com/v1alpha/projects/earthengine-legacy/thumbnails/35ac2bbe446395a52256f8aa29f8a72a-168c26e5729772300fc46bb9daa4cce7:getPixels\n",
      "Please wait ...\n",
      "Data downloaded to /home/cak/Desktop/lake_extraction/Data/exported/2/2020-05-16_sentinel_kizil_37.tif\n",
      "Generating URL ...\n",
      "Downloading data from https://earthengine.googleapis.com/v1alpha/projects/earthengine-legacy/thumbnails/530825377b740cd1ef9191239dbd2616-68effe3b0dc395dc72e3d54b8dc5f514:getPixels\n",
      "Please wait ...\n",
      "Data downloaded to /home/cak/Desktop/lake_extraction/Data/exported/2/2020-05-16_sentinel_kizil_38.tif\n",
      "Generating URL ...\n",
      "Downloading data from https://earthengine.googleapis.com/v1alpha/projects/earthengine-legacy/thumbnails/4cbd6fabc6e947d30512930416dc7e57-5e68abe10099cdc6f07ceeae3b9bca24:getPixels\n",
      "Please wait ...\n",
      "Data downloaded to /home/cak/Desktop/lake_extraction/Data/exported/2/2020-05-16_sentinel_kizil_39.tif\n",
      "Generating URL ...\n",
      "Downloading data from https://earthengine.googleapis.com/v1alpha/projects/earthengine-legacy/thumbnails/98369a73c8b8a263d0d56fe88707378c-fcda331896e46c28d60f971a69f982b0:getPixels\n",
      "Please wait ...\n",
      "Data downloaded to /home/cak/Desktop/lake_extraction/Data/exported/2/2020-05-16_sentinel_kizil_40.tif\n",
      "Generating URL ...\n",
      "An error occurred while downloading.\n",
      "Image.clipToBoundsAndScale: The geometry for image clipping must not be empty.\n",
      "Generating URL ...\n",
      "Downloading data from https://earthengine.googleapis.com/v1alpha/projects/earthengine-legacy/thumbnails/399d319b546fb0d392c522d510eb77c3-f1777dfc4d8c97a9e3ea065d6d9c86c0:getPixels\n",
      "Please wait ...\n",
      "Data downloaded to /home/cak/Desktop/lake_extraction/Data/exported/2/2020-05-16_sentinel_kizil_42.tif\n",
      "Generating URL ...\n",
      "Downloading data from https://earthengine.googleapis.com/v1alpha/projects/earthengine-legacy/thumbnails/7ca52abefbb43ef5b1182ad590ca0bc1-a5dcb56887fe428067e659816aa17e2a:getPixels\n",
      "Please wait ...\n",
      "Data downloaded to /home/cak/Desktop/lake_extraction/Data/exported/2/2020-05-16_sentinel_kizil_43.tif\n",
      "Generating URL ...\n",
      "Downloading data from https://earthengine.googleapis.com/v1alpha/projects/earthengine-legacy/thumbnails/6de8f0b703f5c026e6e20d96597d3851-67f9d5c733d72cab252eb9bc941f8491:getPixels\n",
      "Please wait ...\n",
      "Data downloaded to /home/cak/Desktop/lake_extraction/Data/exported/2/2020-05-16_sentinel_kizil_44.tif\n",
      "Generating URL ...\n",
      "Downloading data from https://earthengine.googleapis.com/v1alpha/projects/earthengine-legacy/thumbnails/0e390c077443674e456158f48803af09-7dc00d356b6e48e8ab9cd018e1f59099:getPixels\n",
      "Please wait ...\n",
      "Data downloaded to /home/cak/Desktop/lake_extraction/Data/exported/2/2020-05-16_sentinel_kizil_45.tif\n",
      "Generating URL ...\n",
      "Downloading data from https://earthengine.googleapis.com/v1alpha/projects/earthengine-legacy/thumbnails/69930ad5b3f1f6eb2c47a5ac5f842a37-9a3bfb44e3bfb7492c91b778646c6c4e:getPixels\n",
      "Please wait ...\n",
      "Data downloaded to /home/cak/Desktop/lake_extraction/Data/exported/2/2020-05-16_sentinel_kizil_46.tif\n",
      "Generating URL ...\n",
      "Downloading data from https://earthengine.googleapis.com/v1alpha/projects/earthengine-legacy/thumbnails/9c5d5cbdbce388d9557f10b363ff0e92-ac542a2ef09617d1700d13e13ba10959:getPixels\n",
      "Please wait ...\n",
      "Data downloaded to /home/cak/Desktop/lake_extraction/Data/exported/2/2020-05-16_sentinel_kizil_47.tif\n",
      "Generating URL ...\n",
      "An error occurred while downloading.\n",
      "Image.clipToBoundsAndScale: The geometry for image clipping must not be empty.\n",
      "Generating URL ...\n",
      "Downloading data from https://earthengine.googleapis.com/v1alpha/projects/earthengine-legacy/thumbnails/4cc20b7588b3485b4e92c9c35782df92-f3e38959868f72a95181a4238ae5cc3a:getPixels\n",
      "Please wait ...\n",
      "Data downloaded to /home/cak/Desktop/lake_extraction/Data/exported/2/2020-05-16_sentinel_kizil_49.tif\n",
      "Generating URL ...\n",
      "Downloading data from https://earthengine.googleapis.com/v1alpha/projects/earthengine-legacy/thumbnails/af6d9491776a9cfce7e4bc7b71f49a46-d2af3de8778b9ac9ac198c37a5fec892:getPixels\n",
      "Please wait ...\n",
      "Data downloaded to /home/cak/Desktop/lake_extraction/Data/exported/2/2020-05-16_sentinel_kizil_50.tif\n",
      "Generating URL ...\n",
      "Downloading data from https://earthengine.googleapis.com/v1alpha/projects/earthengine-legacy/thumbnails/88179dee675db6bdfd6d9f9ac583c428-2d5e8ece78de23bd6af09548d4bd3a09:getPixels\n",
      "Please wait ...\n",
      "Data downloaded to /home/cak/Desktop/lake_extraction/Data/exported/2/2020-05-16_sentinel_kizil_51.tif\n",
      "Generating URL ...\n",
      "Downloading data from https://earthengine.googleapis.com/v1alpha/projects/earthengine-legacy/thumbnails/b6512efaee65ead5aa082dc91eb67d45-cca089aa7b35b6e5a7a70b4bfb180593:getPixels\n",
      "Please wait ...\n",
      "Data downloaded to /home/cak/Desktop/lake_extraction/Data/exported/2/2020-05-16_sentinel_kizil_52.tif\n",
      "Generating URL ...\n",
      "Downloading data from https://earthengine.googleapis.com/v1alpha/projects/earthengine-legacy/thumbnails/ad47057bdd9e77b379046ac66b359268-fcfcf7d4a34208e9b8f976c0c06ccf44:getPixels\n",
      "Please wait ...\n",
      "Data downloaded to /home/cak/Desktop/lake_extraction/Data/exported/2/2020-05-16_sentinel_kizil_53.tif\n",
      "Generating URL ...\n",
      "Downloading data from https://earthengine.googleapis.com/v1alpha/projects/earthengine-legacy/thumbnails/98dd0f7238358b4f4d3bd42207ffa1d3-c1e6ff7f7bebed8d2d64cdabc318a9c9:getPixels\n",
      "Please wait ...\n",
      "Data downloaded to /home/cak/Desktop/lake_extraction/Data/exported/2/2020-05-16_sentinel_kizil_54.tif\n",
      "Generating URL ...\n",
      "An error occurred while downloading.\n",
      "Image.clipToBoundsAndScale: The geometry for image clipping must not be empty.\n",
      "Generating URL ...\n",
      "Downloading data from https://earthengine.googleapis.com/v1alpha/projects/earthengine-legacy/thumbnails/4438e1f9b5cc097a9efb4c1d746cb194-8e87898a487c929e0cce559abc2fceb0:getPixels\n",
      "Please wait ...\n",
      "Data downloaded to /home/cak/Desktop/lake_extraction/Data/exported/2/2020-05-16_sentinel_kizil_56.tif\n",
      "Generating URL ...\n"
     ]
    },
    {
     "name": "stdout",
     "output_type": "stream",
     "text": [
      "Downloading data from https://earthengine.googleapis.com/v1alpha/projects/earthengine-legacy/thumbnails/f224c62a3fad7c7cb4521bac15356d16-87f128d54b3d1eb3bfde72e6fb69014c:getPixels\n",
      "Please wait ...\n",
      "Data downloaded to /home/cak/Desktop/lake_extraction/Data/exported/2/2020-05-16_sentinel_kizil_57.tif\n",
      "Generating URL ...\n",
      "Downloading data from https://earthengine.googleapis.com/v1alpha/projects/earthengine-legacy/thumbnails/c87b9a11ed31cf6cbb16811b639ed3db-07435c6286de1cba9f74e0ed4448b1cf:getPixels\n",
      "Please wait ...\n",
      "Data downloaded to /home/cak/Desktop/lake_extraction/Data/exported/2/2020-05-16_sentinel_kizil_58.tif\n",
      "Generating URL ...\n",
      "Downloading data from https://earthengine.googleapis.com/v1alpha/projects/earthengine-legacy/thumbnails/9f7aec96fd01a46b7ab2588db9f47559-e04936e1e4b238267cb868a3a6667ffb:getPixels\n",
      "Please wait ...\n",
      "Data downloaded to /home/cak/Desktop/lake_extraction/Data/exported/2/2020-05-16_sentinel_kizil_59.tif\n",
      "Generating URL ...\n",
      "Downloading data from https://earthengine.googleapis.com/v1alpha/projects/earthengine-legacy/thumbnails/1f88b70ed8fef0d31416b8d24b89038a-75230a48112bc4a80955ae04e8b0a36a:getPixels\n",
      "Please wait ...\n",
      "Data downloaded to /home/cak/Desktop/lake_extraction/Data/exported/2/2020-05-16_sentinel_kizil_60.tif\n",
      "Generating URL ...\n",
      "Downloading data from https://earthengine.googleapis.com/v1alpha/projects/earthengine-legacy/thumbnails/63873e1a02c6aa2b9834474e27576989-b4c05082181142458f33d10261cf25b3:getPixels\n",
      "Please wait ...\n",
      "Data downloaded to /home/cak/Desktop/lake_extraction/Data/exported/2/2020-05-16_sentinel_kizil_61.tif\n",
      "Generating URL ...\n",
      "An error occurred while downloading.\n",
      "Image.clipToBoundsAndScale: The geometry for image clipping must not be empty.\n",
      "Generating URL ...\n",
      "Downloading data from https://earthengine.googleapis.com/v1alpha/projects/earthengine-legacy/thumbnails/d74b1de094dba31e051ef1d617226db1-f8a3b4ee0b7648e344e27c57f102b25d:getPixels\n",
      "Please wait ...\n",
      "Data downloaded to /home/cak/Desktop/lake_extraction/Data/exported/2/2020-05-16_sentinel_kizil_63.tif\n",
      "Generating URL ...\n",
      "Downloading data from https://earthengine.googleapis.com/v1alpha/projects/earthengine-legacy/thumbnails/3e08a94c69a51e0f3feffa48e9789372-bb03454d5ebcb79b65fe2197deeef05f:getPixels\n",
      "Please wait ...\n",
      "Data downloaded to /home/cak/Desktop/lake_extraction/Data/exported/2/2020-05-16_sentinel_kizil_64.tif\n",
      "Generating URL ...\n",
      "Downloading data from https://earthengine.googleapis.com/v1alpha/projects/earthengine-legacy/thumbnails/20369722474561df527049973753be0b-c7040a7492dabb1d724b694c9c252a12:getPixels\n",
      "Please wait ...\n",
      "Data downloaded to /home/cak/Desktop/lake_extraction/Data/exported/2/2020-05-16_sentinel_kizil_65.tif\n",
      "Generating URL ...\n",
      "Downloading data from https://earthengine.googleapis.com/v1alpha/projects/earthengine-legacy/thumbnails/6e74c685aa740e275e2c5eb813f58ef7-d8cd4400415237399793bb9d820d73a3:getPixels\n",
      "Please wait ...\n",
      "Data downloaded to /home/cak/Desktop/lake_extraction/Data/exported/2/2020-05-16_sentinel_kizil_66.tif\n",
      "Generating URL ...\n",
      "Downloading data from https://earthengine.googleapis.com/v1alpha/projects/earthengine-legacy/thumbnails/a7dfd8b0508f8cf8c3fa9627c43251d5-c1034730146c967000168a107ef31172:getPixels\n",
      "Please wait ...\n",
      "Data downloaded to /home/cak/Desktop/lake_extraction/Data/exported/2/2020-05-16_sentinel_kizil_67.tif\n",
      "Generating URL ...\n",
      "Downloading data from https://earthengine.googleapis.com/v1alpha/projects/earthengine-legacy/thumbnails/6fcb4684aa0d210e1c3f7d72b312ff46-370ab636d8d75b3a5b9019865b7df567:getPixels\n",
      "Please wait ...\n",
      "Data downloaded to /home/cak/Desktop/lake_extraction/Data/exported/2/2020-05-16_sentinel_kizil_68.tif\n",
      "Generating URL ...\n",
      "An error occurred while downloading.\n",
      "Image.clipToBoundsAndScale: The geometry for image clipping must not be empty.\n",
      "Generating URL ...\n",
      "Downloading data from https://earthengine.googleapis.com/v1alpha/projects/earthengine-legacy/thumbnails/1a47b8934ecacf15f10c80eeb8f7d45c-39b83330c33f5f32a09f7b069c55cc71:getPixels\n",
      "Please wait ...\n",
      "Data downloaded to /home/cak/Desktop/lake_extraction/Data/exported/2/2020-05-16_sentinel_kizil_70.tif\n",
      "Generating URL ...\n",
      "Downloading data from https://earthengine.googleapis.com/v1alpha/projects/earthengine-legacy/thumbnails/5fa93010b4a294225a2934d811f10900-04858745b35ea4a5ffd5ef37656405b6:getPixels\n",
      "Please wait ...\n",
      "Data downloaded to /home/cak/Desktop/lake_extraction/Data/exported/2/2020-05-16_sentinel_kizil_71.tif\n",
      "Generating URL ...\n",
      "Downloading data from https://earthengine.googleapis.com/v1alpha/projects/earthengine-legacy/thumbnails/66f97daec183ad8076e075841f0313d6-0f373c5c2fcd51371709b9cbbfb7e23d:getPixels\n",
      "Please wait ...\n",
      "Data downloaded to /home/cak/Desktop/lake_extraction/Data/exported/2/2020-05-16_sentinel_kizil_72.tif\n",
      "Generating URL ...\n",
      "Downloading data from https://earthengine.googleapis.com/v1alpha/projects/earthengine-legacy/thumbnails/9e326a0cebf439b95b8a81a7d4da020c-0ec233c5703a3800a3bfdb44b6538fe9:getPixels\n",
      "Please wait ...\n",
      "Data downloaded to /home/cak/Desktop/lake_extraction/Data/exported/2/2020-05-16_sentinel_kizil_73.tif\n",
      "Generating URL ...\n",
      "Downloading data from https://earthengine.googleapis.com/v1alpha/projects/earthengine-legacy/thumbnails/b6e973e4a9b40c6a2a79e89c55a137b6-4c3bd0fa39d75af6ee0660e5e8415cfe:getPixels\n",
      "Please wait ...\n",
      "Data downloaded to /home/cak/Desktop/lake_extraction/Data/exported/2/2020-05-16_sentinel_kizil_74.tif\n",
      "Generating URL ...\n",
      "Downloading data from https://earthengine.googleapis.com/v1alpha/projects/earthengine-legacy/thumbnails/e1670fad61cf40e0710c0829135dd7bc-4e9d37d9f997e78e81587b72a7f0a131:getPixels\n",
      "Please wait ...\n",
      "Data downloaded to /home/cak/Desktop/lake_extraction/Data/exported/2/2020-05-16_sentinel_kizil_75.tif\n",
      "Generating URL ...\n",
      "An error occurred while downloading.\n",
      "Image.clipToBoundsAndScale: The geometry for image clipping must not be empty.\n",
      "Generating URL ...\n",
      "Downloading data from https://earthengine.googleapis.com/v1alpha/projects/earthengine-legacy/thumbnails/906e5d7900ff0c63586a7502db99459d-f26d6a8a388d44995c022f0a6e432375:getPixels\n",
      "Please wait ...\n",
      "Data downloaded to /home/cak/Desktop/lake_extraction/Data/exported/2/2020-05-16_sentinel_kizil_77.tif\n",
      "Generating URL ...\n",
      "Downloading data from https://earthengine.googleapis.com/v1alpha/projects/earthengine-legacy/thumbnails/4a46b35338d6794d521c1e7a100d57c9-0dce860f44a237b5f1f1792ccd31747b:getPixels\n",
      "Please wait ...\n",
      "Data downloaded to /home/cak/Desktop/lake_extraction/Data/exported/2/2020-05-16_sentinel_kizil_78.tif\n",
      "Generating URL ...\n",
      "Downloading data from https://earthengine.googleapis.com/v1alpha/projects/earthengine-legacy/thumbnails/7d85d1d4521c46786ec16dc891dbcbd2-6ebc5c3c0e8ba484af0d8b3fe5253767:getPixels\n",
      "Please wait ...\n",
      "Data downloaded to /home/cak/Desktop/lake_extraction/Data/exported/2/2020-05-16_sentinel_kizil_79.tif\n",
      "Generating URL ...\n",
      "Downloading data from https://earthengine.googleapis.com/v1alpha/projects/earthengine-legacy/thumbnails/06f5453b405654db8db60fb6fd5ad777-1828dc69867d208f914be58c26147cc2:getPixels\n",
      "Please wait ...\n",
      "Data downloaded to /home/cak/Desktop/lake_extraction/Data/exported/2/2020-05-16_sentinel_kizil_80.tif\n",
      "Generating URL ...\n",
      "Downloading data from https://earthengine.googleapis.com/v1alpha/projects/earthengine-legacy/thumbnails/c184c26e4a25f3737dcfec259aa8e4cb-c72a5d7b5529c5dfee5682ff2ce94c8e:getPixels\n",
      "Please wait ...\n",
      "Data downloaded to /home/cak/Desktop/lake_extraction/Data/exported/2/2020-05-16_sentinel_kizil_81.tif\n",
      "Generating URL ...\n",
      "Downloading data from https://earthengine.googleapis.com/v1alpha/projects/earthengine-legacy/thumbnails/86498589b559c785bbda9199c08bcc7d-178fd43f7e0b76e04a5ee9d7b1f880d0:getPixels\n",
      "Please wait ...\n",
      "Data downloaded to /home/cak/Desktop/lake_extraction/Data/exported/2/2020-05-16_sentinel_kizil_82.tif\n",
      "Generating URL ...\n",
      "An error occurred while downloading.\n",
      "Image.clipToBoundsAndScale: The geometry for image clipping must not be empty.\n",
      "Generating URL ...\n",
      "Downloading data from https://earthengine.googleapis.com/v1alpha/projects/earthengine-legacy/thumbnails/20ec3d046dc879394d35c0b11e3836cd-eee83ce770b0789a4d971a74615d9013:getPixels\n",
      "Please wait ...\n",
      "Data downloaded to /home/cak/Desktop/lake_extraction/Data/exported/2/2020-05-16_sentinel_kizil_84.tif\n",
      "Generating URL ...\n",
      "Downloading data from https://earthengine.googleapis.com/v1alpha/projects/earthengine-legacy/thumbnails/171d9f2b4ea1a3f1f108d0e26e9866b9-74dcb8559f26aa3b84a72a7f97ffa7bb:getPixels\n",
      "Please wait ...\n"
     ]
    },
    {
     "name": "stdout",
     "output_type": "stream",
     "text": [
      "Data downloaded to /home/cak/Desktop/lake_extraction/Data/exported/2/2020-05-16_sentinel_kizil_85.tif\n",
      "Generating URL ...\n",
      "Downloading data from https://earthengine.googleapis.com/v1alpha/projects/earthengine-legacy/thumbnails/15303929bfbea210ea96bb0fd3a5a626-ad6c52f150c8030380a5a2344ab7ada7:getPixels\n",
      "Please wait ...\n",
      "Data downloaded to /home/cak/Desktop/lake_extraction/Data/exported/2/2020-05-16_sentinel_kizil_86.tif\n",
      "Generating URL ...\n",
      "Downloading data from https://earthengine.googleapis.com/v1alpha/projects/earthengine-legacy/thumbnails/df63454a7567faa585796ac6a8088388-2690bfeef05d667b5667143ea6609b7d:getPixels\n",
      "Please wait ...\n",
      "Data downloaded to /home/cak/Desktop/lake_extraction/Data/exported/2/2020-05-16_sentinel_kizil_87.tif\n",
      "Generating URL ...\n",
      "Downloading data from https://earthengine.googleapis.com/v1alpha/projects/earthengine-legacy/thumbnails/902dd732bcf0469c32a8084688fab528-2d85875774600500120999c9c6eeb499:getPixels\n",
      "Please wait ...\n",
      "Data downloaded to /home/cak/Desktop/lake_extraction/Data/exported/2/2020-05-16_sentinel_kizil_88.tif\n",
      "Generating URL ...\n",
      "Downloading data from https://earthengine.googleapis.com/v1alpha/projects/earthengine-legacy/thumbnails/5aa9c618b57b6c85ca4a0a02ce54418a-fcceefcfc2c616a51a4ca0f49ed2384c:getPixels\n",
      "Please wait ...\n",
      "Data downloaded to /home/cak/Desktop/lake_extraction/Data/exported/2/2020-05-16_sentinel_kizil_89.tif\n",
      "Generating URL ...\n",
      "An error occurred while downloading.\n",
      "Image.clipToBoundsAndScale: The geometry for image clipping must not be empty.\n",
      "Generating URL ...\n",
      "Downloading data from https://earthengine.googleapis.com/v1alpha/projects/earthengine-legacy/thumbnails/016eefd8f349a99a2a2a7f708ebf8b6f-e5a16aac5ebee1818b4dc7bee1facc36:getPixels\n",
      "Please wait ...\n",
      "Data downloaded to /home/cak/Desktop/lake_extraction/Data/exported/2/2020-05-16_sentinel_kizil_91.tif\n",
      "Generating URL ...\n",
      "Downloading data from https://earthengine.googleapis.com/v1alpha/projects/earthengine-legacy/thumbnails/923a5cfe90e7efe32f0bee92e20f8c2d-9ce4f753c2fde0ea31f6839dd5de3903:getPixels\n",
      "Please wait ...\n",
      "Data downloaded to /home/cak/Desktop/lake_extraction/Data/exported/2/2020-05-16_sentinel_kizil_92.tif\n",
      "Generating URL ...\n",
      "Downloading data from https://earthengine.googleapis.com/v1alpha/projects/earthengine-legacy/thumbnails/124b36e835030f087ec2ed218fad9266-1ecec7348122dd322017d0c8c0f0153d:getPixels\n",
      "Please wait ...\n",
      "Data downloaded to /home/cak/Desktop/lake_extraction/Data/exported/2/2020-05-16_sentinel_kizil_93.tif\n",
      "Generating URL ...\n",
      "Downloading data from https://earthengine.googleapis.com/v1alpha/projects/earthengine-legacy/thumbnails/81e8d3f2583bd0f469934744a2718d6a-cc0da7fe10ec6ee35726120d51097a96:getPixels\n",
      "Please wait ...\n",
      "Data downloaded to /home/cak/Desktop/lake_extraction/Data/exported/2/2020-05-16_sentinel_kizil_94.tif\n",
      "Generating URL ...\n",
      "Downloading data from https://earthengine.googleapis.com/v1alpha/projects/earthengine-legacy/thumbnails/e9513908fd709705ed6eebed235bde07-eef657c92926f97aa2453c148b530000:getPixels\n",
      "Please wait ...\n",
      "Data downloaded to /home/cak/Desktop/lake_extraction/Data/exported/2/2020-05-16_sentinel_kizil_95.tif\n",
      "Generating URL ...\n",
      "Downloading data from https://earthengine.googleapis.com/v1alpha/projects/earthengine-legacy/thumbnails/24606047e86ea34538e19eaacee23975-822f696c53b2044d00940af5347b4d73:getPixels\n",
      "Please wait ...\n",
      "Data downloaded to /home/cak/Desktop/lake_extraction/Data/exported/2/2020-05-16_sentinel_kizil_96.tif\n",
      "Generating URL ...\n",
      "An error occurred while downloading.\n",
      "Image.clipToBoundsAndScale: The geometry for image clipping must not be empty.\n",
      "Generating URL ...\n",
      "Downloading data from https://earthengine.googleapis.com/v1alpha/projects/earthengine-legacy/thumbnails/22f9eacedb79f84589a60e7d02f469dc-b4fb33eb418d5e10ad4cafdd778b5e3c:getPixels\n",
      "Please wait ...\n",
      "Data downloaded to /home/cak/Desktop/lake_extraction/Data/exported/2/2020-05-16_sentinel_kizil_98.tif\n",
      "Generating URL ...\n",
      "Downloading data from https://earthengine.googleapis.com/v1alpha/projects/earthengine-legacy/thumbnails/3a9a81489bc8cd64948e4574dc40a4a9-17e44ad732b81619a86df8103233410f:getPixels\n",
      "Please wait ...\n",
      "Data downloaded to /home/cak/Desktop/lake_extraction/Data/exported/2/2020-05-16_sentinel_kizil_99.tif\n",
      "Generating URL ...\n",
      "Downloading data from https://earthengine.googleapis.com/v1alpha/projects/earthengine-legacy/thumbnails/c39b8181990db60e42c7874e43fc4442-4d2cba71ac38846c87ac78b59d339637:getPixels\n",
      "Please wait ...\n",
      "Data downloaded to /home/cak/Desktop/lake_extraction/Data/exported/2/2020-05-16_sentinel_kizil_100.tif\n",
      "Generating URL ...\n",
      "Downloading data from https://earthengine.googleapis.com/v1alpha/projects/earthengine-legacy/thumbnails/0e6cef5e1e32a87bad88f30766816102-e2f3cbde4d9390c861b1bbcedf1140c1:getPixels\n",
      "Please wait ...\n",
      "Data downloaded to /home/cak/Desktop/lake_extraction/Data/exported/2/2020-05-16_sentinel_kizil_101.tif\n",
      "Generating URL ...\n",
      "Downloading data from https://earthengine.googleapis.com/v1alpha/projects/earthengine-legacy/thumbnails/cea2430cbf90b0e7d0a324a1b78f22c7-af28ee8ebfdc1fe5e48b1e4125a5a5ac:getPixels\n",
      "Please wait ...\n",
      "Data downloaded to /home/cak/Desktop/lake_extraction/Data/exported/2/2020-05-16_sentinel_kizil_102.tif\n",
      "Generating URL ...\n",
      "Downloading data from https://earthengine.googleapis.com/v1alpha/projects/earthengine-legacy/thumbnails/0ed1ad6ebcc592e42e1b6ec2c16ed28c-e4e3c76d925dea53ba0c17e24667475a:getPixels\n",
      "Please wait ...\n",
      "Data downloaded to /home/cak/Desktop/lake_extraction/Data/exported/2/2020-05-16_sentinel_kizil_103.tif\n",
      "Generating URL ...\n",
      "An error occurred while downloading.\n",
      "Image.clipToBoundsAndScale: The geometry for image clipping must not be empty.\n"
     ]
    }
   ],
   "source": [
    "for i,coor in enumerate(coordinates):\n",
    "    area1 = ee.Geometry.Polygon(coor)\n",
    "    filename_sentinel = os.path.join(out_dir, f'{date_sentinel}_sentinel_kizil_{i}.tif')\n",
    "    sentinel_clipeed = sentinel2.clip(area1).unmask()\n",
    "    geemap.ee_export_image(sentinel_clipeed, filename=filename_sentinel, scale=10, file_per_band=False)"
   ]
  },
  {
   "cell_type": "markdown",
   "metadata": {},
   "source": [
    "### Add Ramsar to Map"
   ]
  },
  {
   "cell_type": "code",
   "execution_count": null,
   "metadata": {},
   "outputs": [],
   "source": [
    "ramsar_shp = '/home/cak/Desktop/lake_extraction/Data/sulakalanlar/ramsar_ist.shp'\n",
    "ramsar = geemap.shp_to_ee(ramsar_shp)\n",
    "Map.addLayer(ramsar, {}, 'Ramsar')"
   ]
  },
  {
   "cell_type": "markdown",
   "metadata": {},
   "source": [
    "## Draw Endmembers"
   ]
  },
  {
   "cell_type": "code",
   "execution_count": null,
   "metadata": {},
   "outputs": [],
   "source": [
    "# Map.draw_features"
   ]
  },
  {
   "cell_type": "code",
   "execution_count": null,
   "metadata": {},
   "outputs": [],
   "source": [
    "# water_ee = ee.FeatureCollection(Map.draw_features)"
   ]
  },
  {
   "cell_type": "code",
   "execution_count": null,
   "metadata": {},
   "outputs": [],
   "source": [
    "# forest_ee = ee.FeatureCollection(Map.draw_features)"
   ]
  },
  {
   "cell_type": "code",
   "execution_count": null,
   "metadata": {},
   "outputs": [],
   "source": [
    "# soil_ee = ee.FeatureCollection(Map.draw_features)"
   ]
  },
  {
   "cell_type": "code",
   "execution_count": null,
   "metadata": {
    "scrolled": true
   },
   "outputs": [],
   "source": [
    "# geemap.ee_to_shp(water_ee, filename='./exported/water.shp')"
   ]
  },
  {
   "cell_type": "code",
   "execution_count": null,
   "metadata": {
    "scrolled": true
   },
   "outputs": [],
   "source": [
    "# geemap.ee_to_shp(forest_ee, filename='./exported/forest.shp')"
   ]
  },
  {
   "cell_type": "code",
   "execution_count": null,
   "metadata": {},
   "outputs": [],
   "source": [
    "# geemap.ee_to_shp(soil_ee, filename='./exported/soil.shp')"
   ]
  },
  {
   "cell_type": "markdown",
   "metadata": {},
   "source": [
    "### Read Endmembers"
   ]
  },
  {
   "cell_type": "code",
   "execution_count": 27,
   "metadata": {},
   "outputs": [],
   "source": [
    "water_shp = '../Data/ML/SWM_water_selected_4326.shp'\n",
    "water = geemap.shp_to_ee(water_shp)\n",
    "Map.addLayer(water, {}, 'Water')\n",
    "\n",
    "forest_shp = '../Data/Endmembers/forest_kizil.shp'\n",
    "forest = geemap.shp_to_ee(forest_shp)\n",
    "Map.addLayer(forest, {}, 'forest')\n",
    "\n",
    "soil_shp = '../Data/Endmembers/soil_kizil.shp'\n",
    "soil = geemap.shp_to_ee(soil_shp)\n",
    "Map.addLayer(soil, {}, 'soil')"
   ]
  },
  {
   "cell_type": "markdown",
   "metadata": {},
   "source": [
    "### Endmember Zonal Statistics"
   ]
  },
  {
   "cell_type": "code",
   "execution_count": 32,
   "metadata": {
    "scrolled": true
   },
   "outputs": [],
   "source": [
    "waterMean = sentinel.reduceRegion(\n",
    "    **{\n",
    "        'reducer': ee.Reducer.mean(),\n",
    "        'geometry': water.geometry().getInfo(),\n",
    "        'scale': 10,\n",
    "        'maxPixels': 1e9\n",
    "    }).values()\n",
    "\n",
    "forestMean = sentinel.reduceRegion(\n",
    "    **{\n",
    "        'reducer': ee.Reducer.mean(),\n",
    "        'geometry': forest.geometry().getInfo(),\n",
    "        'scale': 10,\n",
    "        'maxPixels': 1e9\n",
    "    }).values()\n",
    "\n",
    "soilMean = sentinel.reduceRegion(\n",
    "    **{\n",
    "        'reducer': ee.Reducer.mean(),\n",
    "        'geometry': soil.geometry().getInfo(),\n",
    "        'scale': 10,\n",
    "        'maxPixels': 1e9\n",
    "    }).values()"
   ]
  },
  {
   "cell_type": "code",
   "execution_count": null,
   "metadata": {},
   "outputs": [],
   "source": [
    "waterMean.getInfo()"
   ]
  },
  {
   "cell_type": "code",
   "execution_count": null,
   "metadata": {},
   "outputs": [],
   "source": [
    "endmembers = ee.Array.cat([waterMean , forestMean , soilMean] , 1)"
   ]
  },
  {
   "cell_type": "code",
   "execution_count": null,
   "metadata": {},
   "outputs": [],
   "source": [
    "arrayImage = sentinel.toArray().toArray(1)\n",
    "\n",
    "unmixed = ee.Image(endmembers).matrixSolve(arrayImage)\n",
    "\n",
    "unmixedImage = unmixed.arrayProject([0]).arrayFlatten([['water','forest','soil']])"
   ]
  },
  {
   "cell_type": "code",
   "execution_count": null,
   "metadata": {},
   "outputs": [],
   "source": [
    "Map.addLayer(unmixedImage, {}, 'Unmixed')"
   ]
  },
  {
   "cell_type": "code",
   "execution_count": null,
   "metadata": {},
   "outputs": [],
   "source": [
    "waterBand = unmixedImage.select('water').gt(0.95)\n",
    "\n",
    "Map.addLayer(waterBand, {} , 'waterBand')"
   ]
  },
  {
   "cell_type": "code",
   "execution_count": null,
   "metadata": {},
   "outputs": [],
   "source": [
    "classes = waterBand.reduceToVectors(\n",
    "**{\n",
    "  'reducer': ee.Reducer.countEvery(), \n",
    "  'geometry': waterBand.geometry().getInfo(), \n",
    "  'scale': 30,\n",
    "  'maxPixels': 1e8\n",
    "});\n"
   ]
  },
  {
   "cell_type": "code",
   "execution_count": null,
   "metadata": {},
   "outputs": [],
   "source": [
    "result = ee.FeatureCollection(classes);\n",
    "Map.addLayer(result,{},'Water_Vector');"
   ]
  },
  {
   "cell_type": "code",
   "execution_count": 33,
   "metadata": {},
   "outputs": [],
   "source": [
    "fractions = sentinel2.unmix([waterMean, forestMean, soilMean])"
   ]
  },
  {
   "cell_type": "code",
   "execution_count": 30,
   "metadata": {},
   "outputs": [],
   "source": [
    "Map.addLayer(fractions, {}, 'unmixed');\n"
   ]
  },
  {
   "cell_type": "code",
   "execution_count": null,
   "metadata": {},
   "outputs": [],
   "source": []
  },
  {
   "cell_type": "markdown",
   "metadata": {},
   "source": [
    "### Export Classification"
   ]
  },
  {
   "cell_type": "code",
   "execution_count": 34,
   "metadata": {},
   "outputs": [
    {
     "name": "stdout",
     "output_type": "stream",
     "text": [
      "Generating URL ...\n",
      "Downloading data from https://earthengine.googleapis.com/v1alpha/projects/earthengine-legacy/thumbnails/417b92bfef10d8951e9253771f50945e-03b2df09f411c694168d0e1bc09072da:getPixels\n",
      "Please wait ...\n",
      "Data downloaded to /home/cak/Desktop/lake_extraction/Data/Unmixed/2/Unmixed_0.tif\n",
      "Generating URL ...\n",
      "Downloading data from https://earthengine.googleapis.com/v1alpha/projects/earthengine-legacy/thumbnails/2ee3888d01327455c0d943cd3d28a727-5458c99974c9249e23b2ea1ab84ca8c9:getPixels\n",
      "Please wait ...\n",
      "Data downloaded to /home/cak/Desktop/lake_extraction/Data/Unmixed/2/Unmixed_1.tif\n",
      "Generating URL ...\n",
      "Downloading data from https://earthengine.googleapis.com/v1alpha/projects/earthengine-legacy/thumbnails/23187bd9ba5232c32182974b342b63a1-dbf0d4b9165d167d6da00123b7e5d27d:getPixels\n",
      "Please wait ...\n",
      "Data downloaded to /home/cak/Desktop/lake_extraction/Data/Unmixed/2/Unmixed_2.tif\n",
      "Generating URL ...\n",
      "Downloading data from https://earthengine.googleapis.com/v1alpha/projects/earthengine-legacy/thumbnails/d23638394fdbe07705ce576bbc8c8849-c38eaa1a0acbb0ca087d03fe383792e3:getPixels\n",
      "Please wait ...\n",
      "Data downloaded to /home/cak/Desktop/lake_extraction/Data/Unmixed/2/Unmixed_3.tif\n",
      "Generating URL ...\n",
      "Downloading data from https://earthengine.googleapis.com/v1alpha/projects/earthengine-legacy/thumbnails/367784b3430c140c49ffed4831c5c77a-480f4b7bb23b96a5bf37eaf89fe21a24:getPixels\n",
      "Please wait ...\n",
      "Data downloaded to /home/cak/Desktop/lake_extraction/Data/Unmixed/2/Unmixed_4.tif\n",
      "Generating URL ...\n",
      "Downloading data from https://earthengine.googleapis.com/v1alpha/projects/earthengine-legacy/thumbnails/f2a142c40168a46f7b2f0bf5b8b7ffe0-06b2b0698232986035e2e8440cd5eaf0:getPixels\n",
      "Please wait ...\n",
      "Data downloaded to /home/cak/Desktop/lake_extraction/Data/Unmixed/2/Unmixed_5.tif\n",
      "Generating URL ...\n",
      "An error occurred while downloading.\n",
      "Image.clipToBoundsAndScale: The geometry for image clipping must not be empty.\n",
      "Generating URL ...\n",
      "Downloading data from https://earthengine.googleapis.com/v1alpha/projects/earthengine-legacy/thumbnails/27eb88d55501d3acfd24301177dfc775-42a3013699435cbe36f0d9019c64bdbc:getPixels\n",
      "Please wait ...\n",
      "Data downloaded to /home/cak/Desktop/lake_extraction/Data/Unmixed/2/Unmixed_7.tif\n",
      "Generating URL ...\n",
      "Downloading data from https://earthengine.googleapis.com/v1alpha/projects/earthengine-legacy/thumbnails/80f826fbc0ce2be3274849ac02374aac-576c40eb477990833b3b9118aa6e40fb:getPixels\n",
      "Please wait ...\n",
      "Data downloaded to /home/cak/Desktop/lake_extraction/Data/Unmixed/2/Unmixed_8.tif\n",
      "Generating URL ...\n",
      "Downloading data from https://earthengine.googleapis.com/v1alpha/projects/earthengine-legacy/thumbnails/a26b5f729d5dbdcc71924518360a22f0-58fea95278a858db6a474bba2d6f4d61:getPixels\n",
      "Please wait ...\n",
      "Data downloaded to /home/cak/Desktop/lake_extraction/Data/Unmixed/2/Unmixed_9.tif\n",
      "Generating URL ...\n",
      "Downloading data from https://earthengine.googleapis.com/v1alpha/projects/earthengine-legacy/thumbnails/c8d0ce15a59431948bef434f4affb38f-db2970db0170da7b073909e66687a64f:getPixels\n",
      "Please wait ...\n",
      "Data downloaded to /home/cak/Desktop/lake_extraction/Data/Unmixed/2/Unmixed_10.tif\n",
      "Generating URL ...\n",
      "Downloading data from https://earthengine.googleapis.com/v1alpha/projects/earthengine-legacy/thumbnails/ba63b3c76aca75fba4273e9b2e76d916-2221083a5d711f375ff50cf6908b0327:getPixels\n",
      "Please wait ...\n",
      "Data downloaded to /home/cak/Desktop/lake_extraction/Data/Unmixed/2/Unmixed_11.tif\n",
      "Generating URL ...\n",
      "Downloading data from https://earthengine.googleapis.com/v1alpha/projects/earthengine-legacy/thumbnails/b3c339dff33ef1e671cea53e952c7f07-9625a6368121b06c9d67e0253675c66d:getPixels\n",
      "Please wait ...\n",
      "Data downloaded to /home/cak/Desktop/lake_extraction/Data/Unmixed/2/Unmixed_12.tif\n",
      "Generating URL ...\n",
      "An error occurred while downloading.\n",
      "Image.clipToBoundsAndScale: The geometry for image clipping must not be empty.\n",
      "Generating URL ...\n",
      "Downloading data from https://earthengine.googleapis.com/v1alpha/projects/earthengine-legacy/thumbnails/04aa10353274286f15429b69f1c887dd-064cea60691c1daaf82df3dad5c26ffa:getPixels\n",
      "Please wait ...\n",
      "Data downloaded to /home/cak/Desktop/lake_extraction/Data/Unmixed/2/Unmixed_14.tif\n",
      "Generating URL ...\n",
      "Downloading data from https://earthengine.googleapis.com/v1alpha/projects/earthengine-legacy/thumbnails/cc4929671dd755a845b1bb035346bec1-f24993c148f57462a875b654beb7dd62:getPixels\n",
      "Please wait ...\n",
      "Data downloaded to /home/cak/Desktop/lake_extraction/Data/Unmixed/2/Unmixed_15.tif\n",
      "Generating URL ...\n",
      "Downloading data from https://earthengine.googleapis.com/v1alpha/projects/earthengine-legacy/thumbnails/2a40a018a875bbedefb39b7817194b88-1e9e78c552b79b5fd306aa980d6a9efa:getPixels\n",
      "Please wait ...\n",
      "Data downloaded to /home/cak/Desktop/lake_extraction/Data/Unmixed/2/Unmixed_16.tif\n",
      "Generating URL ...\n",
      "Downloading data from https://earthengine.googleapis.com/v1alpha/projects/earthengine-legacy/thumbnails/862951f91e1002cf3f3c0e2f3c4a854f-bc61d929b4316cd1ff6977c6bb2b0e3f:getPixels\n",
      "Please wait ...\n",
      "Data downloaded to /home/cak/Desktop/lake_extraction/Data/Unmixed/2/Unmixed_17.tif\n",
      "Generating URL ...\n",
      "Downloading data from https://earthengine.googleapis.com/v1alpha/projects/earthengine-legacy/thumbnails/bd742af647f1b04eb6b280b922fd1dfb-ad06ff0ae73f887f63df67babdf35229:getPixels\n",
      "Please wait ...\n",
      "Data downloaded to /home/cak/Desktop/lake_extraction/Data/Unmixed/2/Unmixed_18.tif\n",
      "Generating URL ...\n",
      "Downloading data from https://earthengine.googleapis.com/v1alpha/projects/earthengine-legacy/thumbnails/d6b04f5cf64cbb8a9bea5660e9a8b7d1-fb814c35f077d7b2fa1ea92ac58e4b01:getPixels\n",
      "Please wait ...\n",
      "Data downloaded to /home/cak/Desktop/lake_extraction/Data/Unmixed/2/Unmixed_19.tif\n",
      "Generating URL ...\n",
      "An error occurred while downloading.\n",
      "Image.clipToBoundsAndScale: The geometry for image clipping must not be empty.\n",
      "Generating URL ...\n",
      "Downloading data from https://earthengine.googleapis.com/v1alpha/projects/earthengine-legacy/thumbnails/6e50b3fd3bab47f4b12db50de45290ab-d8fe0438fcd17095591306f80d6f479a:getPixels\n",
      "Please wait ...\n",
      "Data downloaded to /home/cak/Desktop/lake_extraction/Data/Unmixed/2/Unmixed_21.tif\n",
      "Generating URL ...\n",
      "Downloading data from https://earthengine.googleapis.com/v1alpha/projects/earthengine-legacy/thumbnails/94c34e3b55bd664747e27a8217de2b2d-4c2f2fc9ea8862cb23534f6e43bc36e8:getPixels\n",
      "Please wait ...\n",
      "Data downloaded to /home/cak/Desktop/lake_extraction/Data/Unmixed/2/Unmixed_22.tif\n",
      "Generating URL ...\n",
      "Downloading data from https://earthengine.googleapis.com/v1alpha/projects/earthengine-legacy/thumbnails/683b0967f2db8f2167438b6b6587e15f-9bb871c43672ca8b4891698216b516a9:getPixels\n",
      "Please wait ...\n",
      "Data downloaded to /home/cak/Desktop/lake_extraction/Data/Unmixed/2/Unmixed_23.tif\n",
      "Generating URL ...\n",
      "Downloading data from https://earthengine.googleapis.com/v1alpha/projects/earthengine-legacy/thumbnails/e1aabedae398b627bc51ee79c125bd7e-231877fe4ab997df7c0a68b77ff51b19:getPixels\n",
      "Please wait ...\n",
      "Data downloaded to /home/cak/Desktop/lake_extraction/Data/Unmixed/2/Unmixed_24.tif\n",
      "Generating URL ...\n",
      "Downloading data from https://earthengine.googleapis.com/v1alpha/projects/earthengine-legacy/thumbnails/9fec11498be14860503f885c0f871a8e-cbea43520196b707eb3fbf2f04655dc1:getPixels\n",
      "Please wait ...\n",
      "Data downloaded to /home/cak/Desktop/lake_extraction/Data/Unmixed/2/Unmixed_25.tif\n",
      "Generating URL ...\n",
      "Downloading data from https://earthengine.googleapis.com/v1alpha/projects/earthengine-legacy/thumbnails/946dbcf44ca4897f4db6170f812ea79d-1e0c9a51112511c1891206a62071edc1:getPixels\n",
      "Please wait ...\n",
      "Data downloaded to /home/cak/Desktop/lake_extraction/Data/Unmixed/2/Unmixed_26.tif\n",
      "Generating URL ...\n",
      "An error occurred while downloading.\n",
      "Image.clipToBoundsAndScale: The geometry for image clipping must not be empty.\n",
      "Generating URL ...\n",
      "Downloading data from https://earthengine.googleapis.com/v1alpha/projects/earthengine-legacy/thumbnails/ecf82c62646cc73f09d88d59e9537f59-1101fc870a8b60dbfb841322f88ab198:getPixels\n",
      "Please wait ...\n",
      "Data downloaded to /home/cak/Desktop/lake_extraction/Data/Unmixed/2/Unmixed_28.tif\n",
      "Generating URL ...\n",
      "Downloading data from https://earthengine.googleapis.com/v1alpha/projects/earthengine-legacy/thumbnails/3932744e974855c51e636c3e4f7d2b48-6786f46192b38aa04f5b40c24d40e308:getPixels\n",
      "Please wait ...\n"
     ]
    },
    {
     "name": "stdout",
     "output_type": "stream",
     "text": [
      "Data downloaded to /home/cak/Desktop/lake_extraction/Data/Unmixed/2/Unmixed_29.tif\n",
      "Generating URL ...\n",
      "Downloading data from https://earthengine.googleapis.com/v1alpha/projects/earthengine-legacy/thumbnails/b241ca7649a7616f611f290f26cfaf93-e096305b8b91f4aa6e0426bb0c9e57dc:getPixels\n",
      "Please wait ...\n",
      "Data downloaded to /home/cak/Desktop/lake_extraction/Data/Unmixed/2/Unmixed_30.tif\n",
      "Generating URL ...\n",
      "Downloading data from https://earthengine.googleapis.com/v1alpha/projects/earthengine-legacy/thumbnails/2f0a1ca71ac975f00cad806041a8a2c3-d8658d0da5295ae6d58eef31cd3604c7:getPixels\n",
      "Please wait ...\n",
      "Data downloaded to /home/cak/Desktop/lake_extraction/Data/Unmixed/2/Unmixed_31.tif\n",
      "Generating URL ...\n",
      "Downloading data from https://earthengine.googleapis.com/v1alpha/projects/earthengine-legacy/thumbnails/09978aefb83ac7afc3c7b6010c8be8f4-84983f94b9af992813b6fad5b7008df9:getPixels\n",
      "Please wait ...\n",
      "Data downloaded to /home/cak/Desktop/lake_extraction/Data/Unmixed/2/Unmixed_32.tif\n",
      "Generating URL ...\n",
      "Downloading data from https://earthengine.googleapis.com/v1alpha/projects/earthengine-legacy/thumbnails/1dd2b5233dae02bf199d41fb63451379-0b823d7da72ca54560f0364849539d5e:getPixels\n",
      "Please wait ...\n",
      "Data downloaded to /home/cak/Desktop/lake_extraction/Data/Unmixed/2/Unmixed_33.tif\n",
      "Generating URL ...\n",
      "An error occurred while downloading.\n",
      "Image.clipToBoundsAndScale: The geometry for image clipping must not be empty.\n",
      "Generating URL ...\n",
      "Downloading data from https://earthengine.googleapis.com/v1alpha/projects/earthengine-legacy/thumbnails/37bb1d25e21b605e4355fcbd620f584d-4d685d59997e01e040a299a17dd47a2c:getPixels\n",
      "Please wait ...\n",
      "Data downloaded to /home/cak/Desktop/lake_extraction/Data/Unmixed/2/Unmixed_35.tif\n",
      "Generating URL ...\n",
      "Downloading data from https://earthengine.googleapis.com/v1alpha/projects/earthengine-legacy/thumbnails/7236724b55fd882788f55801583a1f6a-a8c8ce00b20df2edbb8d249e6a1e235b:getPixels\n",
      "Please wait ...\n",
      "Data downloaded to /home/cak/Desktop/lake_extraction/Data/Unmixed/2/Unmixed_36.tif\n",
      "Generating URL ...\n",
      "Downloading data from https://earthengine.googleapis.com/v1alpha/projects/earthengine-legacy/thumbnails/4ac3d4168be48f2fc94e2770e6502510-208787217e1c69b2f1944ef278b22afe:getPixels\n",
      "Please wait ...\n",
      "Data downloaded to /home/cak/Desktop/lake_extraction/Data/Unmixed/2/Unmixed_37.tif\n",
      "Generating URL ...\n",
      "Downloading data from https://earthengine.googleapis.com/v1alpha/projects/earthengine-legacy/thumbnails/152d315d2aa366ac363415c78a79c3b0-a0e74aca7dd5c95c4601c46270525bef:getPixels\n",
      "Please wait ...\n",
      "Data downloaded to /home/cak/Desktop/lake_extraction/Data/Unmixed/2/Unmixed_38.tif\n",
      "Generating URL ...\n",
      "Downloading data from https://earthengine.googleapis.com/v1alpha/projects/earthengine-legacy/thumbnails/7ff3a6c8a27ce70fb423fdea95f2d04f-33416cbc19e55a467251bcb80578c1f9:getPixels\n",
      "Please wait ...\n",
      "Data downloaded to /home/cak/Desktop/lake_extraction/Data/Unmixed/2/Unmixed_39.tif\n",
      "Generating URL ...\n",
      "Downloading data from https://earthengine.googleapis.com/v1alpha/projects/earthengine-legacy/thumbnails/47910677c0ec42866cf6b73ca259c4e6-63922e381b6b3a479283376b0f25b034:getPixels\n",
      "Please wait ...\n",
      "Data downloaded to /home/cak/Desktop/lake_extraction/Data/Unmixed/2/Unmixed_40.tif\n",
      "Generating URL ...\n",
      "An error occurred while downloading.\n",
      "Image.clipToBoundsAndScale: The geometry for image clipping must not be empty.\n",
      "Generating URL ...\n",
      "Downloading data from https://earthengine.googleapis.com/v1alpha/projects/earthengine-legacy/thumbnails/6cd267ad2a38b291ed15c5169e3e18de-d92901c2b95e7c0d2cf991ee5485e8eb:getPixels\n",
      "Please wait ...\n",
      "Data downloaded to /home/cak/Desktop/lake_extraction/Data/Unmixed/2/Unmixed_42.tif\n",
      "Generating URL ...\n",
      "Downloading data from https://earthengine.googleapis.com/v1alpha/projects/earthengine-legacy/thumbnails/b0be7e349e2c199ddf40ecc83f77d8c5-50cd88343dc6bc7c61761f9ee9e1a9bd:getPixels\n",
      "Please wait ...\n",
      "Data downloaded to /home/cak/Desktop/lake_extraction/Data/Unmixed/2/Unmixed_43.tif\n",
      "Generating URL ...\n",
      "Downloading data from https://earthengine.googleapis.com/v1alpha/projects/earthengine-legacy/thumbnails/f8de5dd4e899f56cb1a8f2ff167a458a-f72bef8f6715d01d3f59de14962d5e90:getPixels\n",
      "Please wait ...\n",
      "Data downloaded to /home/cak/Desktop/lake_extraction/Data/Unmixed/2/Unmixed_44.tif\n",
      "Generating URL ...\n",
      "Downloading data from https://earthengine.googleapis.com/v1alpha/projects/earthengine-legacy/thumbnails/2427a93df3a676b61dab9f2dd70b0ea9-f90e1c2c9ef51cb59254f608f878ef87:getPixels\n",
      "Please wait ...\n",
      "Data downloaded to /home/cak/Desktop/lake_extraction/Data/Unmixed/2/Unmixed_45.tif\n",
      "Generating URL ...\n",
      "Downloading data from https://earthengine.googleapis.com/v1alpha/projects/earthengine-legacy/thumbnails/c0496ce0f15cfc6b640ba052d858dc26-7eb362d2d86f8e3f255f9ebab8d11681:getPixels\n",
      "Please wait ...\n",
      "Data downloaded to /home/cak/Desktop/lake_extraction/Data/Unmixed/2/Unmixed_46.tif\n",
      "Generating URL ...\n",
      "Downloading data from https://earthengine.googleapis.com/v1alpha/projects/earthengine-legacy/thumbnails/3d23b33bbabf53159881067120c244ee-c97ec0264cec9d9dbf532538a6333932:getPixels\n",
      "Please wait ...\n",
      "Data downloaded to /home/cak/Desktop/lake_extraction/Data/Unmixed/2/Unmixed_47.tif\n",
      "Generating URL ...\n",
      "An error occurred while downloading.\n",
      "Image.clipToBoundsAndScale: The geometry for image clipping must not be empty.\n",
      "Generating URL ...\n",
      "Downloading data from https://earthengine.googleapis.com/v1alpha/projects/earthengine-legacy/thumbnails/c0b1e88891ecd64464ad6511af24a70e-0bcbd95a680de53e29501dcb1b560f2a:getPixels\n",
      "Please wait ...\n",
      "Data downloaded to /home/cak/Desktop/lake_extraction/Data/Unmixed/2/Unmixed_49.tif\n",
      "Generating URL ...\n",
      "Downloading data from https://earthengine.googleapis.com/v1alpha/projects/earthengine-legacy/thumbnails/06aa613ce37a0d844e5840a9d0aacbe8-e004b5f9ba6a7d6f80d91616aeb78f8a:getPixels\n",
      "Please wait ...\n",
      "Data downloaded to /home/cak/Desktop/lake_extraction/Data/Unmixed/2/Unmixed_50.tif\n",
      "Generating URL ...\n",
      "Downloading data from https://earthengine.googleapis.com/v1alpha/projects/earthengine-legacy/thumbnails/525718479af022ce34d6b71f13fe9438-519258e2d3a38c810756812d498069d0:getPixels\n",
      "Please wait ...\n",
      "Data downloaded to /home/cak/Desktop/lake_extraction/Data/Unmixed/2/Unmixed_51.tif\n",
      "Generating URL ...\n",
      "Downloading data from https://earthengine.googleapis.com/v1alpha/projects/earthengine-legacy/thumbnails/b1e41767d6ad492d9677c7b73288e93e-328dcbea4859fb256b2b5879b13268bb:getPixels\n",
      "Please wait ...\n",
      "Data downloaded to /home/cak/Desktop/lake_extraction/Data/Unmixed/2/Unmixed_52.tif\n",
      "Generating URL ...\n",
      "Downloading data from https://earthengine.googleapis.com/v1alpha/projects/earthengine-legacy/thumbnails/54a8e1696b91038010aef2ec0fa5af74-a57252f953516522cd71276730a74daf:getPixels\n",
      "Please wait ...\n",
      "Data downloaded to /home/cak/Desktop/lake_extraction/Data/Unmixed/2/Unmixed_53.tif\n",
      "Generating URL ...\n",
      "Downloading data from https://earthengine.googleapis.com/v1alpha/projects/earthengine-legacy/thumbnails/a484649322783ddfc2d58f90e23421f3-e506f2aaf03f957c7cdfa2a62295e4fe:getPixels\n",
      "Please wait ...\n",
      "Data downloaded to /home/cak/Desktop/lake_extraction/Data/Unmixed/2/Unmixed_54.tif\n",
      "Generating URL ...\n",
      "An error occurred while downloading.\n",
      "Image.clipToBoundsAndScale: The geometry for image clipping must not be empty.\n",
      "Generating URL ...\n",
      "Downloading data from https://earthengine.googleapis.com/v1alpha/projects/earthengine-legacy/thumbnails/3cf0e842deda3c979dd6876878422c04-c2d8d8621449a04b3fbb8657a9c44ffb:getPixels\n",
      "Please wait ...\n",
      "Data downloaded to /home/cak/Desktop/lake_extraction/Data/Unmixed/2/Unmixed_56.tif\n",
      "Generating URL ...\n",
      "Downloading data from https://earthengine.googleapis.com/v1alpha/projects/earthengine-legacy/thumbnails/54cb3ff966fd2beef1e97211e0f036fb-d4ea50b98a7a62b9d10d34a0ef5d55b3:getPixels\n",
      "Please wait ...\n",
      "Data downloaded to /home/cak/Desktop/lake_extraction/Data/Unmixed/2/Unmixed_57.tif\n",
      "Generating URL ...\n",
      "Downloading data from https://earthengine.googleapis.com/v1alpha/projects/earthengine-legacy/thumbnails/30c6724a1038b4303ecdf5d332289175-54e72ff3211e9408f1459d3404d9b0b4:getPixels\n",
      "Please wait ...\n",
      "Data downloaded to /home/cak/Desktop/lake_extraction/Data/Unmixed/2/Unmixed_58.tif\n",
      "Generating URL ...\n",
      "Downloading data from https://earthengine.googleapis.com/v1alpha/projects/earthengine-legacy/thumbnails/736be47800350e9f3d8542b193b3f36a-bb917fd45dbf64296a2058af762966cc:getPixels\n",
      "Please wait ...\n"
     ]
    },
    {
     "name": "stdout",
     "output_type": "stream",
     "text": [
      "Data downloaded to /home/cak/Desktop/lake_extraction/Data/Unmixed/2/Unmixed_59.tif\n",
      "Generating URL ...\n",
      "Downloading data from https://earthengine.googleapis.com/v1alpha/projects/earthengine-legacy/thumbnails/b840e48e1bda41bfdc12f91422d40c51-4c3909432e96f2633d76728c305800ce:getPixels\n",
      "Please wait ...\n",
      "Data downloaded to /home/cak/Desktop/lake_extraction/Data/Unmixed/2/Unmixed_60.tif\n",
      "Generating URL ...\n",
      "Downloading data from https://earthengine.googleapis.com/v1alpha/projects/earthengine-legacy/thumbnails/a43a40c93fbfe6f311a99ef051d9e9f6-975cec1414c42b13a20d5c3bba5e941d:getPixels\n",
      "Please wait ...\n",
      "Data downloaded to /home/cak/Desktop/lake_extraction/Data/Unmixed/2/Unmixed_61.tif\n",
      "Generating URL ...\n",
      "An error occurred while downloading.\n",
      "Image.clipToBoundsAndScale: The geometry for image clipping must not be empty.\n",
      "Generating URL ...\n",
      "Downloading data from https://earthengine.googleapis.com/v1alpha/projects/earthengine-legacy/thumbnails/683178be1d3b26a0d789ecd1b16c9072-feb8aef77ce1380718b4b8ad5d638cd9:getPixels\n",
      "Please wait ...\n",
      "Data downloaded to /home/cak/Desktop/lake_extraction/Data/Unmixed/2/Unmixed_63.tif\n",
      "Generating URL ...\n",
      "Downloading data from https://earthengine.googleapis.com/v1alpha/projects/earthengine-legacy/thumbnails/84c6d42eaee89c86cf35b25488b40636-42c697833a47c6265ef19e3f6388752a:getPixels\n",
      "Please wait ...\n",
      "Data downloaded to /home/cak/Desktop/lake_extraction/Data/Unmixed/2/Unmixed_64.tif\n",
      "Generating URL ...\n",
      "Downloading data from https://earthengine.googleapis.com/v1alpha/projects/earthengine-legacy/thumbnails/08513375d8d58cbeece3fb991dbe45b3-cf392246c10cf6888e1b391890675b3f:getPixels\n",
      "Please wait ...\n",
      "Data downloaded to /home/cak/Desktop/lake_extraction/Data/Unmixed/2/Unmixed_65.tif\n",
      "Generating URL ...\n",
      "Downloading data from https://earthengine.googleapis.com/v1alpha/projects/earthengine-legacy/thumbnails/2e04c61ceb1c20aabf8bca2150a4f34e-ccb15eff44f2c7b490b4c7eb392c271e:getPixels\n",
      "Please wait ...\n",
      "Data downloaded to /home/cak/Desktop/lake_extraction/Data/Unmixed/2/Unmixed_66.tif\n",
      "Generating URL ...\n",
      "Downloading data from https://earthengine.googleapis.com/v1alpha/projects/earthengine-legacy/thumbnails/22ab98f7262f09da08783d29d0d3b2e5-eea9b3c8f32abd1c80248587d3b397b5:getPixels\n",
      "Please wait ...\n",
      "Data downloaded to /home/cak/Desktop/lake_extraction/Data/Unmixed/2/Unmixed_67.tif\n",
      "Generating URL ...\n",
      "Downloading data from https://earthengine.googleapis.com/v1alpha/projects/earthengine-legacy/thumbnails/e488dfab6279124f8e2cad84f2f1e4b7-1a5650840839df271ae049e15589f104:getPixels\n",
      "Please wait ...\n",
      "Data downloaded to /home/cak/Desktop/lake_extraction/Data/Unmixed/2/Unmixed_68.tif\n",
      "Generating URL ...\n",
      "An error occurred while downloading.\n",
      "Image.clipToBoundsAndScale: The geometry for image clipping must not be empty.\n",
      "Generating URL ...\n",
      "Downloading data from https://earthengine.googleapis.com/v1alpha/projects/earthengine-legacy/thumbnails/ad7b8e51c0bbebd27509cafc7fdcbd8a-4466a29eb150dfb0796cde877d171fc5:getPixels\n",
      "Please wait ...\n",
      "Data downloaded to /home/cak/Desktop/lake_extraction/Data/Unmixed/2/Unmixed_70.tif\n",
      "Generating URL ...\n",
      "Downloading data from https://earthengine.googleapis.com/v1alpha/projects/earthengine-legacy/thumbnails/dc637627d48f0a21711d988d40c47df8-c4b25dd09df76fe59640806005e3b317:getPixels\n",
      "Please wait ...\n",
      "Data downloaded to /home/cak/Desktop/lake_extraction/Data/Unmixed/2/Unmixed_71.tif\n",
      "Generating URL ...\n",
      "Downloading data from https://earthengine.googleapis.com/v1alpha/projects/earthengine-legacy/thumbnails/bf14af82c698f008c5b6f88d69cdd6fd-ac2e76eab46ea285d1781c961632745a:getPixels\n",
      "Please wait ...\n",
      "Data downloaded to /home/cak/Desktop/lake_extraction/Data/Unmixed/2/Unmixed_72.tif\n",
      "Generating URL ...\n",
      "Downloading data from https://earthengine.googleapis.com/v1alpha/projects/earthengine-legacy/thumbnails/6839ddc1cb419ce5ed8fa7afd2d5e96f-5beb17cb90445bd43f57061868a8f127:getPixels\n",
      "Please wait ...\n",
      "Data downloaded to /home/cak/Desktop/lake_extraction/Data/Unmixed/2/Unmixed_73.tif\n",
      "Generating URL ...\n",
      "Downloading data from https://earthengine.googleapis.com/v1alpha/projects/earthengine-legacy/thumbnails/675823e579ea72b5f6974e1d49845f4a-86387853efd8457a6229deea7b643cc0:getPixels\n",
      "Please wait ...\n",
      "Data downloaded to /home/cak/Desktop/lake_extraction/Data/Unmixed/2/Unmixed_74.tif\n",
      "Generating URL ...\n",
      "Downloading data from https://earthengine.googleapis.com/v1alpha/projects/earthengine-legacy/thumbnails/c83c250f6134376469bd794554b55593-f621ec62657f02158479715f199d0d86:getPixels\n",
      "Please wait ...\n",
      "Data downloaded to /home/cak/Desktop/lake_extraction/Data/Unmixed/2/Unmixed_75.tif\n",
      "Generating URL ...\n",
      "An error occurred while downloading.\n",
      "Image.clipToBoundsAndScale: The geometry for image clipping must not be empty.\n",
      "Generating URL ...\n",
      "Downloading data from https://earthengine.googleapis.com/v1alpha/projects/earthengine-legacy/thumbnails/8b4e958794c6cd2112d2dcc12d6c6364-5547fb67eb529fb64761688f68f2d9ff:getPixels\n",
      "Please wait ...\n",
      "Data downloaded to /home/cak/Desktop/lake_extraction/Data/Unmixed/2/Unmixed_77.tif\n",
      "Generating URL ...\n",
      "Downloading data from https://earthengine.googleapis.com/v1alpha/projects/earthengine-legacy/thumbnails/046f4cb2891de1ea3dcb5de7e63f2559-e89fb048096b521df616a8d58cf2c067:getPixels\n",
      "Please wait ...\n",
      "Data downloaded to /home/cak/Desktop/lake_extraction/Data/Unmixed/2/Unmixed_78.tif\n",
      "Generating URL ...\n",
      "Downloading data from https://earthengine.googleapis.com/v1alpha/projects/earthengine-legacy/thumbnails/e498a400c22945550cfb442b0ba22ff5-f97812056eabf6eba36544c924ffc5f7:getPixels\n",
      "Please wait ...\n",
      "Data downloaded to /home/cak/Desktop/lake_extraction/Data/Unmixed/2/Unmixed_79.tif\n",
      "Generating URL ...\n",
      "Downloading data from https://earthengine.googleapis.com/v1alpha/projects/earthengine-legacy/thumbnails/27a275bde8bb345236dfb9a42b5ce7ed-effa987f1308bb71e122c6b72b8a426c:getPixels\n",
      "Please wait ...\n",
      "Data downloaded to /home/cak/Desktop/lake_extraction/Data/Unmixed/2/Unmixed_80.tif\n",
      "Generating URL ...\n",
      "Downloading data from https://earthengine.googleapis.com/v1alpha/projects/earthengine-legacy/thumbnails/1a51f0d33b0af3a44221e0e696295401-883115bafa6bcc963f79ac9630285505:getPixels\n",
      "Please wait ...\n",
      "Data downloaded to /home/cak/Desktop/lake_extraction/Data/Unmixed/2/Unmixed_81.tif\n",
      "Generating URL ...\n",
      "Downloading data from https://earthengine.googleapis.com/v1alpha/projects/earthengine-legacy/thumbnails/6d4a2a875044b3c392a449b2bba00cc1-c0ddbc05fdc1a4ab05e826b224167de3:getPixels\n",
      "Please wait ...\n",
      "Data downloaded to /home/cak/Desktop/lake_extraction/Data/Unmixed/2/Unmixed_82.tif\n",
      "Generating URL ...\n",
      "An error occurred while downloading.\n",
      "Image.clipToBoundsAndScale: The geometry for image clipping must not be empty.\n",
      "Generating URL ...\n",
      "Downloading data from https://earthengine.googleapis.com/v1alpha/projects/earthengine-legacy/thumbnails/d9dc8ad79d721caa881e8112cca9fe49-b4c258111b4ce7e85e2b8b2b94227b81:getPixels\n",
      "Please wait ...\n",
      "Data downloaded to /home/cak/Desktop/lake_extraction/Data/Unmixed/2/Unmixed_84.tif\n",
      "Generating URL ...\n",
      "Downloading data from https://earthengine.googleapis.com/v1alpha/projects/earthengine-legacy/thumbnails/86c32c730a5f5ee71d093ed512d9e559-aece5eff314d8804031768cd8bb64da5:getPixels\n",
      "Please wait ...\n",
      "Data downloaded to /home/cak/Desktop/lake_extraction/Data/Unmixed/2/Unmixed_85.tif\n",
      "Generating URL ...\n",
      "Downloading data from https://earthengine.googleapis.com/v1alpha/projects/earthengine-legacy/thumbnails/61e8b7dc894251d66babbf5a55e8de6b-e249845baecedb181cdd9e420ccb105e:getPixels\n",
      "Please wait ...\n",
      "Data downloaded to /home/cak/Desktop/lake_extraction/Data/Unmixed/2/Unmixed_86.tif\n",
      "Generating URL ...\n",
      "Downloading data from https://earthengine.googleapis.com/v1alpha/projects/earthengine-legacy/thumbnails/ce6ecce864cd2613ad8867a13fd19daf-d739613308f6b30519ac4e6c6df5fa67:getPixels\n",
      "Please wait ...\n",
      "Data downloaded to /home/cak/Desktop/lake_extraction/Data/Unmixed/2/Unmixed_87.tif\n",
      "Generating URL ...\n",
      "Downloading data from https://earthengine.googleapis.com/v1alpha/projects/earthengine-legacy/thumbnails/6666a86096e89af73c865017655472b7-697cef54ff43c06fb02677e1645ae7cd:getPixels\n",
      "Please wait ...\n",
      "Data downloaded to /home/cak/Desktop/lake_extraction/Data/Unmixed/2/Unmixed_88.tif\n",
      "Generating URL ...\n",
      "Downloading data from https://earthengine.googleapis.com/v1alpha/projects/earthengine-legacy/thumbnails/0e87282a4e4968105dfaef777978d22a-fb87932f5a2e1b0006ea2984a7cb7818:getPixels\n",
      "Please wait ...\n"
     ]
    },
    {
     "name": "stdout",
     "output_type": "stream",
     "text": [
      "Data downloaded to /home/cak/Desktop/lake_extraction/Data/Unmixed/2/Unmixed_89.tif\n",
      "Generating URL ...\n",
      "An error occurred while downloading.\n",
      "Image.clipToBoundsAndScale: The geometry for image clipping must not be empty.\n",
      "Generating URL ...\n",
      "Downloading data from https://earthengine.googleapis.com/v1alpha/projects/earthengine-legacy/thumbnails/7b4292a3d6acbf65d0cd0c8a6ce434a4-ce9e31e870e65f7b3c060016f7005648:getPixels\n",
      "Please wait ...\n",
      "Data downloaded to /home/cak/Desktop/lake_extraction/Data/Unmixed/2/Unmixed_91.tif\n",
      "Generating URL ...\n",
      "Downloading data from https://earthengine.googleapis.com/v1alpha/projects/earthengine-legacy/thumbnails/1ed6341210fb8266613ca12458c77c05-ec8e4d79cf53d88cbd356012fb2a1dd7:getPixels\n",
      "Please wait ...\n",
      "Data downloaded to /home/cak/Desktop/lake_extraction/Data/Unmixed/2/Unmixed_92.tif\n",
      "Generating URL ...\n",
      "Downloading data from https://earthengine.googleapis.com/v1alpha/projects/earthengine-legacy/thumbnails/97976ccc135f665a261944814784203b-775a8900d19129e841e4efdf92a35b8f:getPixels\n",
      "Please wait ...\n",
      "Data downloaded to /home/cak/Desktop/lake_extraction/Data/Unmixed/2/Unmixed_93.tif\n",
      "Generating URL ...\n",
      "Downloading data from https://earthengine.googleapis.com/v1alpha/projects/earthengine-legacy/thumbnails/1eea7f746745df12150b32881520a899-37b3c842abf41b002cf60049476878a8:getPixels\n",
      "Please wait ...\n",
      "Data downloaded to /home/cak/Desktop/lake_extraction/Data/Unmixed/2/Unmixed_94.tif\n",
      "Generating URL ...\n",
      "Downloading data from https://earthengine.googleapis.com/v1alpha/projects/earthengine-legacy/thumbnails/c5d227448b11bf264ce63ea6397f91a5-152ccb15caf8685e20a3de029a311d6c:getPixels\n",
      "Please wait ...\n",
      "Data downloaded to /home/cak/Desktop/lake_extraction/Data/Unmixed/2/Unmixed_95.tif\n",
      "Generating URL ...\n",
      "Downloading data from https://earthengine.googleapis.com/v1alpha/projects/earthengine-legacy/thumbnails/5b5031402d155e1ab21365ab6dc22883-39550cbe266eccfdba06c03ea4c42bac:getPixels\n",
      "Please wait ...\n",
      "Data downloaded to /home/cak/Desktop/lake_extraction/Data/Unmixed/2/Unmixed_96.tif\n",
      "Generating URL ...\n",
      "An error occurred while downloading.\n",
      "Image.clipToBoundsAndScale: The geometry for image clipping must not be empty.\n",
      "Generating URL ...\n",
      "Downloading data from https://earthengine.googleapis.com/v1alpha/projects/earthengine-legacy/thumbnails/fef92f73f1233e668ff156c5fc82412d-17aafa1cf84d77620462c4e7a7c555de:getPixels\n",
      "Please wait ...\n",
      "Data downloaded to /home/cak/Desktop/lake_extraction/Data/Unmixed/2/Unmixed_98.tif\n",
      "Generating URL ...\n",
      "Downloading data from https://earthengine.googleapis.com/v1alpha/projects/earthengine-legacy/thumbnails/453cd9604fd731fbbd9c36418daa5e1b-9e838937d62251d5b81772cca9600030:getPixels\n",
      "Please wait ...\n",
      "Data downloaded to /home/cak/Desktop/lake_extraction/Data/Unmixed/2/Unmixed_99.tif\n",
      "Generating URL ...\n",
      "Downloading data from https://earthengine.googleapis.com/v1alpha/projects/earthengine-legacy/thumbnails/fc9f7231ad22e35830c9220d32733d37-1102ce9a4ffae45ac9f3ec88799dd82e:getPixels\n",
      "Please wait ...\n",
      "Data downloaded to /home/cak/Desktop/lake_extraction/Data/Unmixed/2/Unmixed_100.tif\n",
      "Generating URL ...\n",
      "Downloading data from https://earthengine.googleapis.com/v1alpha/projects/earthengine-legacy/thumbnails/cbc854d596b8fd6a92f6be4ec0297cf4-7299dd2d3ee6b43e6db5812db418f60a:getPixels\n",
      "Please wait ...\n",
      "Data downloaded to /home/cak/Desktop/lake_extraction/Data/Unmixed/2/Unmixed_101.tif\n",
      "Generating URL ...\n",
      "Downloading data from https://earthengine.googleapis.com/v1alpha/projects/earthengine-legacy/thumbnails/fa73d71796b739a99e189782d4668741-cb53d23d6dbdbb392db5a2b5405b6771:getPixels\n",
      "Please wait ...\n",
      "Data downloaded to /home/cak/Desktop/lake_extraction/Data/Unmixed/2/Unmixed_102.tif\n",
      "Generating URL ...\n",
      "Downloading data from https://earthengine.googleapis.com/v1alpha/projects/earthengine-legacy/thumbnails/4d7c4c51b39a2112602cc06b1ccef70c-c583d2def8eedbaa6c75149aa3248b9f:getPixels\n",
      "Please wait ...\n",
      "Data downloaded to /home/cak/Desktop/lake_extraction/Data/Unmixed/2/Unmixed_103.tif\n",
      "Generating URL ...\n",
      "An error occurred while downloading.\n",
      "Image.clipToBoundsAndScale: The geometry for image clipping must not be empty.\n"
     ]
    }
   ],
   "source": [
    "out_dir = '../Data/Unmixed/2'\n",
    "\n",
    "for i,coor in enumerate(coordinates):\n",
    "    area1 = ee.Geometry.Polygon(coor)\n",
    "    unmixedImage1 = fractions.clip(area1).unmask()\n",
    "    filename = os.path.join(out_dir, f'Unmixed_{i}.tif')\n",
    "    geemap.ee_export_image(unmixedImage1, filename=filename, scale=10, file_per_band=False)"
   ]
  },
  {
   "cell_type": "raw",
   "metadata": {},
   "source": []
  },
  {
   "cell_type": "markdown",
   "metadata": {},
   "source": [
    "# Supervised classification\n"
   ]
  },
  {
   "cell_type": "code",
   "execution_count": null,
   "metadata": {},
   "outputs": [],
   "source": [
    "# clip image\n",
    "# image_roi = image.clip(roi.geometry())\n",
    "# Map.addLayer(image_roi,landsat_vis,'Cropped_Landsat')"
   ]
  },
  {
   "cell_type": "code",
   "execution_count": null,
   "metadata": {},
   "outputs": [],
   "source": [
    "bands = ['B2','B3','B4','B5','B6','B7','B8','B11','B12','NDVI','NDWI']\n",
    "# bands.extend(['NDVI','NDWI'])\n",
    "print(bands)"
   ]
  },
  {
   "cell_type": "code",
   "execution_count": null,
   "metadata": {},
   "outputs": [],
   "source": [
    "sentinel.getInfo()"
   ]
  },
  {
   "cell_type": "code",
   "execution_count": null,
   "metadata": {},
   "outputs": [],
   "source": [
    "waterf = ee.Feature(water.geometry(), {'class': 0, 'name': 'water'});\n",
    "forestf = ee.Feature(forest.geometry(), {'class': 1, 'name': 'forest'});\n",
    "soilf = ee.Feature(soil.geometry(), {'class': 2, 'name': 'soil'});"
   ]
  },
  {
   "cell_type": "code",
   "execution_count": null,
   "metadata": {},
   "outputs": [],
   "source": [
    "trainingFeatures = ee.FeatureCollection([waterf, forestf, soilf])"
   ]
  },
  {
   "cell_type": "code",
   "execution_count": null,
   "metadata": {},
   "outputs": [],
   "source": [
    "classifierTraining = sentinel.select(bands).sampleRegions(\n",
    "      collection= trainingFeatures, \n",
    "      properties= ['class'], \n",
    "      scale= 10\n",
    "    );"
   ]
  },
  {
   "cell_type": "code",
   "execution_count": null,
   "metadata": {},
   "outputs": [],
   "source": [
    "# // Randomly split the data into 60% for training, and 40% for testing\n",
    "trainingTesting = classifierTraining.randomColumn('random',111009);\n",
    "\n",
    "training = trainingTesting.filter(ee.Filter.lt('random', 0.6));\n",
    "\n",
    "testing = trainingTesting.filter(ee.Filter.gte('random', 0.6));"
   ]
  },
  {
   "cell_type": "markdown",
   "metadata": {},
   "source": [
    "### Non-linear regression functions"
   ]
  },
  {
   "cell_type": "code",
   "execution_count": null,
   "metadata": {},
   "outputs": [],
   "source": [
    "cartclassifier = ee.Classifier.cart(randomSeed=111009).train(\n",
    "      features= training, \n",
    "      classProperty= 'class', \n",
    "      inputProperties= bands\n",
    "    );"
   ]
  },
  {
   "cell_type": "code",
   "execution_count": null,
   "metadata": {},
   "outputs": [],
   "source": [
    "cartClasifficationImage = sentinel.select(bands).classify(cartclassifier);\n",
    "\n",
    "Map.addLayer(cartClasifficationImage, {'min': 0, 'max': 2,\n",
    "                                   'palette':['blue','green', 'yellow']},'CART classification');"
   ]
  },
  {
   "cell_type": "code",
   "execution_count": null,
   "metadata": {},
   "outputs": [],
   "source": [
    "rfClassification = ee.Classifier.smileRandomForest(numberOfTrees=15, seed=111009).train(\n",
    "      features= training, \n",
    "      classProperty= 'class', \n",
    "      inputProperties= bands\n",
    "    )"
   ]
  },
  {
   "cell_type": "code",
   "execution_count": null,
   "metadata": {},
   "outputs": [],
   "source": [
    "# // Perform the RF regression on the landsat image\n",
    "rfClassificationImage = sentinel.select(bands).classify(rfClassification);\n",
    "    \n",
    "# // Visualize the RF regression\n",
    "# Map.addLayer(rfClassificationImage,  {'min': 0, 'max': 2,\n",
    "#                                    'palette':['blue','green', 'yellow']}, 'RF classification');\n",
    "\n",
    "Map.addLayer(rfClassificationImage,  {'min': 0, 'max': 2,\n",
    "                                   'palette':['blue','green', 'yellow']}, 'RF classification');"
   ]
  },
  {
   "cell_type": "code",
   "execution_count": null,
   "metadata": {},
   "outputs": [],
   "source": [
    "# ee.Classifier.libsvm(decisionProcedure, svmType, kernelType, shrinking, degree, gamma, coef0, cost, nu, terminationEpsilon, lossEpsilon, oneClass)\n",
    "\n",
    "# // Create an SVM classifier with custom parameters.\n",
    "svClassification = ee.Classifier.libsvm(kernelType='RBF',gamma=1,cost=100).train(\n",
    "      features= training, \n",
    "      classProperty= 'class', \n",
    "      inputProperties= bands\n",
    "    )"
   ]
  },
  {
   "cell_type": "code",
   "execution_count": null,
   "metadata": {},
   "outputs": [],
   "source": [
    "# // Perform the RF regression on the landsat image\n",
    "svClassificationImage = sentinel.select(bands).classify(svClassification);\n",
    "    \n",
    "# // Visualize the RF regression\n",
    "Map.addLayer(svClassificationImage,{'min': 0, 'max': 2,\n",
    "                                   'palette':['blue', 'green','yellow']}, 'SV CLassification');"
   ]
  },
  {
   "cell_type": "code",
   "execution_count": null,
   "metadata": {},
   "outputs": [],
   "source": [
    "out_dir = '../Data/ML'\n",
    "filename_rf = os.path.join(out_dir, 'RF.tif')\n",
    "rfClassificationImage = rfClassificationImage.clip(area).unmask()\n",
    "geemap.ee_export_image(rfClassificationImage, filename=filename_rf, scale=10, file_per_band=False)"
   ]
  },
  {
   "cell_type": "code",
   "execution_count": null,
   "metadata": {},
   "outputs": [],
   "source": [
    "for i,coor in enumerate(coordinates):\n",
    "    area1 = ee.Geometry.Polygon(coor)\n",
    "    cartClasifficationImage1 = cartClasifficationImage.clip(area1).unmask()\n",
    "    svClassificationImage1 = svClassificationImage.clip(area1).unmask()\n",
    "    \n",
    "    filename_cart = os.path.join(out_dir, f'Cart_{i}.tif')\n",
    "    filename_svm = os.path.join(out_dir, f'SWM_{i}.tif')\n",
    "    \n",
    "    geemap.ee_export_image(cartClasifficationImage1, filename=filename_cart, scale=10, file_per_band=False)\n",
    "    geemap.ee_export_image(svClassificationImage1, filename=filename_svm, scale=10, file_per_band=False)"
   ]
  },
  {
   "cell_type": "code",
   "execution_count": null,
   "metadata": {},
   "outputs": [],
   "source": []
  },
  {
   "cell_type": "code",
   "execution_count": 35,
   "metadata": {
    "scrolled": false
   },
   "outputs": [
    {
     "data": {
      "text/plain": [
       "0"
      ]
     },
     "execution_count": 35,
     "metadata": {},
     "output_type": "execute_result"
    }
   ],
   "source": [
    "folder = '/home/cak/Desktop/lake_extraction/Data/Unmixed/2'\n",
    "os.chdir(folder)\n",
    "if os.path.exists('merged2.tif'):os.remove('merged2.tif')\n",
    "files = glob.glob1(folder,'*.tif')\n",
    "files = ' '.join(files)\n",
    "code = f\"gdal_merge.py -o merged2.tif {files}\"\n",
    "os.system(code)"
   ]
  },
  {
   "cell_type": "code",
   "execution_count": null,
   "metadata": {},
   "outputs": [],
   "source": [
    "A = 2\n",
    "B = 1\n",
    "C = -0.8\n",
    "\n",
    "if os.path.exists('merged_classified.tif'):os.remove('merged_classified.tif')\n",
    "\n",
    "code =  f\"\"\"gdal_calc.py --calc \"logical_and(A<{A},\\\n",
    "B<{B},C>{C})\" --format GTiff --type Float32 -A \\\n",
    "/home/cak/Desktop/lake_extraction/Data/Unmixed/merged.tif \\\n",
    "--A_band 1 -B /home/cak/Desktop/lake_extraction/Data/Unmixed/merged.tif \\\n",
    "--B_band 2 -C /home/cak/Desktop/lake_extraction/Data/Unmixed/merged.tif \\\n",
    "--C_band 3 --outfile /home/cak/Desktop/lake_extraction/Data/Unmixed/merged_classified.tif\n",
    "\"\"\"\n",
    "os.system(code)\n",
    "\n",
    "if os.path.exists('merged_classified.shp'):os.remove('merged_classified.shp')\n",
    "wbt = '/home/cak/Desktop/lake_extraction/Geemap/WBT/whitebox_tools'\n",
    "code = f\"\"\"{wbt} -r=RasterToVectorPolygons -v --wd=\".\" --input=merged_classified.tif -o=../../Data/Unmixed/merged_classified.shp\"\"\"\n",
    "os.system(code)\n",
    "\n"
   ]
  },
  {
   "cell_type": "code",
   "execution_count": null,
   "metadata": {},
   "outputs": [],
   "source": [
    "import rasterio\n",
    "from rasterio.plot import show\n",
    "import matplotlib.pyplot as plt\n",
    "%matplotlib inline\n",
    "import geopandas as gpd"
   ]
  },
  {
   "cell_type": "code",
   "execution_count": null,
   "metadata": {},
   "outputs": [],
   "source": []
  }
 ],
 "metadata": {
  "finalized": {
   "timestamp": 1608614556329,
   "trusted": false
  },
  "kernelspec": {
   "display_name": "local-venv",
   "language": "python",
   "name": "local-venv"
  },
  "language_info": {
   "codemirror_mode": {
    "name": "ipython",
    "version": 3
   },
   "file_extension": ".py",
   "mimetype": "text/x-python",
   "name": "python",
   "nbconvert_exporter": "python",
   "pygments_lexer": "ipython3",
   "version": "3.8.5"
  },
  "varInspector": {
   "cols": {
    "lenName": 16,
    "lenType": 16,
    "lenVar": 40
   },
   "kernels_config": {
    "python": {
     "delete_cmd_postfix": "",
     "delete_cmd_prefix": "del ",
     "library": "var_list.py",
     "varRefreshCmd": "print(var_dic_list())"
    },
    "r": {
     "delete_cmd_postfix": ") ",
     "delete_cmd_prefix": "rm(",
     "library": "var_list.r",
     "varRefreshCmd": "cat(var_dic_list()) "
    }
   },
   "types_to_exclude": [
    "module",
    "function",
    "builtin_function_or_method",
    "instance",
    "_Feature"
   ],
   "window_display": false
  }
 },
 "nbformat": 4,
 "nbformat_minor": 4
}
