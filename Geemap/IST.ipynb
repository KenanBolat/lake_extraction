{
 "cells": [
  {
   "cell_type": "code",
   "execution_count": 93,
   "metadata": {},
   "outputs": [],
   "source": [
    "import geemap\n",
    "import ee\n",
    "import os\n",
    "import datetime"
   ]
  },
  {
   "cell_type": "markdown",
   "metadata": {},
   "source": [
    "# Spectral Linear Unmixing"
   ]
  },
  {
   "cell_type": "code",
   "execution_count": 94,
   "metadata": {},
   "outputs": [
    {
     "data": {
      "application/vnd.jupyter.widget-view+json": {
       "model_id": "b72d43f4ed48426aa4f770f4e245de4c",
       "version_major": 2,
       "version_minor": 0
      },
      "text/plain": [
       "Map(center=[41.25827, 28.928777], controls=(WidgetControl(options=['position'], widget=HBox(children=(ToggleBu…"
      ]
     },
     "metadata": {},
     "output_type": "display_data"
    }
   ],
   "source": [
    "Map = geemap.Map(center = [41.25827,28.928777],zoom=13)\n",
    "Map.add_basemap('Esri Satellite')\n",
    "Map\n"
   ]
  },
  {
   "cell_type": "code",
   "execution_count": 95,
   "metadata": {},
   "outputs": [
    {
     "data": {
      "text/plain": [
       "{'type': 'Point', 'coordinates': [28.923747, 41.257073]}"
      ]
     },
     "execution_count": 95,
     "metadata": {},
     "output_type": "execute_result"
    }
   ],
   "source": [
    "aoi = ee.Geometry.Point([28.923747, 41.257073])\n",
    "aoi.getInfo()"
   ]
  },
  {
   "cell_type": "code",
   "execution_count": 207,
   "metadata": {},
   "outputs": [
    {
     "data": {
      "text/plain": [
       "{'type': 'Polygon',\n",
       " 'coordinates': [[[28.704534, 41.171665],\n",
       "   [28.996758, 41.171665],\n",
       "   [28.996758, 41.299722],\n",
       "   [28.704534, 41.299722],\n",
       "   [28.704534, 41.171665]]]}"
      ]
     },
     "execution_count": 207,
     "metadata": {},
     "output_type": "execute_result"
    }
   ],
   "source": [
    "area = ee.Geometry.Polygon([[28.704534, 41.171665],\n",
    "    [28.704534, 41.299722],\n",
    "    [28.996758, 41.299722],\n",
    "    [28.996758, 41.171665],\n",
    "    [28.704534, 41.171665]])\n",
    "area.getInfo()"
   ]
  },
  {
   "cell_type": "markdown",
   "metadata": {},
   "source": [
    "### Landsat Image"
   ]
  },
  {
   "cell_type": "code",
   "execution_count": 99,
   "metadata": {},
   "outputs": [],
   "source": [
    "landsat = ee.ImageCollection(\"LANDSAT/LC08/C01/T1_TOA\")\n",
    "\n",
    "\n",
    "bands = ['B2','B3','B4','B5','B6','B7']\n",
    "\n",
    "\n",
    "\n",
    "image = landsat \\\n",
    "            .filterBounds(aoi) \\\n",
    "            .sort('CLOUD_COVER') \\\n",
    "            .filterDate('2020-05-01', '2020-05-30')\\\n",
    "            .first() \\\n",
    "            .select(bands)\\\n",
    "            .clip(area)\n",
    "#             \n",
    "\n",
    "\n",
    "landsat_vis = {\n",
    "    'bands': ['B4', 'B3', 'B2'], \n",
    "    'gamma': 1.6,\n",
    "    'min' : 0,\n",
    "    'max' : 0.3\n",
    "}\n",
    "\n",
    "Map.addLayer(image, landsat_vis, \"Landsat_RGB\", True, 1)"
   ]
  },
  {
   "cell_type": "markdown",
   "metadata": {},
   "source": [
    "### Sentinel Image"
   ]
  },
  {
   "cell_type": "code",
   "execution_count": 147,
   "metadata": {},
   "outputs": [],
   "source": [
    "bands = ['B2','B3','B4','B5','B6','B7','B8','B11','B12']\n",
    "\n",
    "\n",
    "def maskS2clouds(image):\n",
    "  qa = image.select('QA60')\n",
    "\n",
    "  # Bits 10 and 11 are clouds and cirrus, respectively.\n",
    "  cloudBitMask = 1 << 10\n",
    "  cirrusBitMask = 1 << 11\n",
    "\n",
    "  # Both flags should be set to zero, indicating clear conditions.\n",
    "  mask = qa.bitwiseAnd(cloudBitMask).eq(0) \\\n",
    "      .And(qa.bitwiseAnd(cirrusBitMask).eq(0))\n",
    "\n",
    "  return image.updateMask(mask).divide(10000)\n",
    "\n",
    "sentinel = ee.ImageCollection('COPERNICUS/S2_SR') \\\n",
    "                .filterBounds(aoi) \\\n",
    "                .filterDate('2020-05-01', '2020-05-30') \\\n",
    "                .filter(ee.Filter.lt('CLOUDY_PIXEL_PERCENTAGE',20)) \\\n",
    "                .map(maskS2clouds)\\\n",
    "                .select(bands)\\\n",
    "                .first()\\\n",
    "                .clip(area)\n",
    "\n",
    "visualization = {\n",
    "  'min': 0.0,\n",
    "  'max': 0.3,\n",
    "  'bands': ['B4', 'B3', 'B2'],\n",
    "}\n",
    "\n",
    "Map.addLayer(sentinel, visualization, 'Sentinel_RGB')"
   ]
  },
  {
   "cell_type": "markdown",
   "metadata": {},
   "source": [
    "### Global Surface Water"
   ]
  },
  {
   "cell_type": "code",
   "execution_count": 238,
   "metadata": {},
   "outputs": [],
   "source": [
    "gsw_dataset = ee.Image('JRC/GSW1_2/GlobalSurfaceWater')\n",
    "\n",
    "gsw_dataset = gsw_dataset.clip(area)\n",
    "\n",
    "visualization = {\n",
    "  'bands': ['occurrence'],\n",
    "  'min': 0.0,\n",
    "  'max': 100.0,\n",
    "  'palette': ['ffffff', 'ffbbbb', '0000ff']\n",
    "};\n",
    "\n",
    "Map.addLayer(gsw_dataset, visualization, 'Surface - Water');"
   ]
  },
  {
   "cell_type": "markdown",
   "metadata": {},
   "source": [
    "### NDVI and NDWI "
   ]
  },
  {
   "cell_type": "code",
   "execution_count": 222,
   "metadata": {},
   "outputs": [],
   "source": [
    "visParams_ndvi = {'min': -0.2, 'max': 0.8, 'palette': 'FFFFFF, CE7E45, DF923D, F1B555, FCD163, 99B718, 74A901, 66A000,529400,3E8601,207401, 056201, 004C00, 023B01, 012E01, 011D01, 011301'};\n",
    "\n",
    "ndvi = sentinel.expression('(nir - red) / (nir + red)' ,{\n",
    "    'nir' : sentinel.select('B8'),\n",
    "    'red' : sentinel.select('B4')\n",
    "})\n",
    "\n",
    "ndwi = sentinel.expression('(nir - swir) / (nir + swir)' ,{\n",
    "    'nir' : sentinel.select('B8'),\n",
    "    'swir' : sentinel.select('B11')\n",
    "})\n",
    "\n",
    "Map.addLayer(ndwi, visParams_ndvi, 'Sentinel_NDWI_man')\n",
    "Map.addLayer(ndvi, visParams_ndvi, 'Sentinel_NDVI_man')"
   ]
  },
  {
   "cell_type": "markdown",
   "metadata": {},
   "source": [
    "## Image Stats"
   ]
  },
  {
   "cell_type": "code",
   "execution_count": 229,
   "metadata": {
    "scrolled": true
   },
   "outputs": [],
   "source": [
    "landsat_props = geemap.image_props(image)\n",
    "sentinel_props = geemap.image_props(sentinel)\n",
    "# landsat_props.getInfo()"
   ]
  },
  {
   "cell_type": "code",
   "execution_count": 230,
   "metadata": {},
   "outputs": [],
   "source": [
    "Date = landsat_props.get('IMAGE_DATE').getInfo()\n",
    "CC= landsat_props.get('CLOUD_COVER').getInfo()\n",
    "Zone = landsat_props.get('UTM_ZONE').getInfo()\n",
    "Scale = landsat_props.get('NOMINAL_SCALE').getInfo()\n",
    "date_sentinel = sentinel.get('system:index').getInfo()\n",
    "date_sentinel = datetime.datetime.strptime(date_sentinel.split('_')[0], \"%Y%m%dT%H%M%S\").date()"
   ]
  },
  {
   "cell_type": "code",
   "execution_count": 231,
   "metadata": {
    "scrolled": true
   },
   "outputs": [
    {
     "name": "stdout",
     "output_type": "stream",
     "text": [
      "{'Cloud Cover': '6.661e+03 %',\n",
      " 'Date': '2020-05-14',\n",
      " 'Resolution': 30,\n",
      " 'UTM Zone ': 35}\n"
     ]
    }
   ],
   "source": [
    "from pprint import pprint\n",
    "\n",
    "Stats = {\n",
    "    'Date' : Date,\n",
    "    'Cloud Cover' : \"{:.4} %\".format(float(CC)*100),\n",
    "    'UTM Zone ' : Zone, \n",
    "    'Resolution' : Scale\n",
    "}\n",
    "\n",
    "pprint(Stats)"
   ]
  },
  {
   "cell_type": "markdown",
   "metadata": {},
   "source": [
    "### Create Area of Interest"
   ]
  },
  {
   "cell_type": "code",
   "execution_count": 232,
   "metadata": {},
   "outputs": [],
   "source": [
    "area = Map.draw_last_feature"
   ]
  },
  {
   "cell_type": "markdown",
   "metadata": {},
   "source": [
    "### Export Image"
   ]
  },
  {
   "cell_type": "code",
   "execution_count": 234,
   "metadata": {},
   "outputs": [],
   "source": [
    "out_dir = '/home/cak/Desktop/lake_extraction/Data/exported'\n",
    "filename = os.path.join(out_dir, f'{Date}_landsat_ist.tif')\n",
    "filename_sentinel = os.path.join(out_dir, f'{date_sentinel}_sentinel_ist.tif')\n",
    "filename_water = os.path.join(out_dir, 'surface_water_ist.tif')\n",
    "filename_ndvi = os.path.join(out_dir, 'ndvi_ist.tif')\n",
    "filename_ndwi = os.path.join(out_dir, 'ndwi_ist.tif')"
   ]
  },
  {
   "cell_type": "code",
   "execution_count": 184,
   "metadata": {
    "scrolled": false
   },
   "outputs": [
    {
     "name": "stdout",
     "output_type": "stream",
     "text": [
      "Generating URL ...\n",
      "Downloading data from https://earthengine.googleapis.com/v1alpha/projects/earthengine-legacy/thumbnails/5808fd3103d02c5f4a0e15fd49a8ef8d-4ab29c9f27f23e74f7d5ab292b697143:getPixels\n",
      "Please wait ...\n",
      "Data downloaded to /home/cak/Desktop/lake_extraction/Data/exported/2020-05-09_sentinel_ist.tif\n"
     ]
    }
   ],
   "source": [
    "image = image.clip(area).unmask()\n",
    "sentinel = sentinel.clip(area).unmask()\n",
    "ndvi = ndvi.clip(area).unmask()\n",
    "ndwi = ndwi.clip(area).unmask()\n",
    "geemap.ee_export_image(image, filename=filename, scale=30, file_per_band=False)\n",
    "geemap.ee_export_image(sentinel, filename=filename_sentinel, scale=10, file_per_band=False)\n",
    "geemap.ee_export_image(ndvi, filename=filename_ndvi, scale=10, file_per_band=False)\n",
    "geemap.ee_export_image(ndwi, filename=filename_ndwi, scale=10, file_per_band=False)"
   ]
  },
  {
   "cell_type": "code",
   "execution_count": 251,
   "metadata": {},
   "outputs": [
    {
     "name": "stdout",
     "output_type": "stream",
     "text": [
      "Generating URL ...\n",
      "Downloading data from https://earthengine.googleapis.com/v1alpha/projects/earthengine-legacy/thumbnails/53d51381fe939760705353cf3b06a3f4-26a6d4054b3d6b9d78873fd283717067:getPixels\n",
      "Please wait ...\n",
      "Data downloaded to /home/cak/Desktop/lake_extraction/Data/exported/surface_water_ist.tif\n"
     ]
    }
   ],
   "source": [
    "filename_water = os.path.join(out_dir, 'surface_water_ist.tif')\n",
    "gsw_dataset = gsw_dataset.clip(area).unmask()\n",
    "geemap.ee_export_image(gsw_dataset, filename=filename_water, scale=20, file_per_band=False)\n"
   ]
  },
  {
   "cell_type": "markdown",
   "metadata": {},
   "source": [
    "### Add Ramsar to Map"
   ]
  },
  {
   "cell_type": "code",
   "execution_count": 13,
   "metadata": {},
   "outputs": [],
   "source": [
    "ramsar_shp = '/home/cak/Desktop/lake_extraction/Data/sulakalanlar/ramsar_ist.shp'\n",
    "ramsar = geemap.shp_to_ee(ramsar_shp)\n",
    "Map.addLayer(ramsar, {}, 'Ramsar')"
   ]
  },
  {
   "cell_type": "markdown",
   "metadata": {},
   "source": [
    "## Draw Endmembers"
   ]
  },
  {
   "cell_type": "code",
   "execution_count": null,
   "metadata": {},
   "outputs": [],
   "source": [
    "# Map.draw_features"
   ]
  },
  {
   "cell_type": "code",
   "execution_count": null,
   "metadata": {},
   "outputs": [],
   "source": [
    "# water_ee = ee.FeatureCollection(Map.draw_features)"
   ]
  },
  {
   "cell_type": "code",
   "execution_count": null,
   "metadata": {},
   "outputs": [],
   "source": [
    "# forest_ee = ee.FeatureCollection(Map.draw_features)"
   ]
  },
  {
   "cell_type": "code",
   "execution_count": null,
   "metadata": {},
   "outputs": [],
   "source": [
    "# soil_ee = ee.FeatureCollection(Map.draw_features)"
   ]
  },
  {
   "cell_type": "code",
   "execution_count": null,
   "metadata": {
    "scrolled": true
   },
   "outputs": [],
   "source": [
    "# geemap.ee_to_shp(water_ee, filename='./exported/water.shp')"
   ]
  },
  {
   "cell_type": "code",
   "execution_count": null,
   "metadata": {
    "scrolled": true
   },
   "outputs": [],
   "source": [
    "# geemap.ee_to_shp(forest_ee, filename='./exported/forest.shp')"
   ]
  },
  {
   "cell_type": "code",
   "execution_count": null,
   "metadata": {},
   "outputs": [],
   "source": [
    "# geemap.ee_to_shp(soil_ee, filename='./exported/soil.shp')"
   ]
  },
  {
   "cell_type": "markdown",
   "metadata": {},
   "source": [
    "### Read Endmembers"
   ]
  },
  {
   "cell_type": "code",
   "execution_count": 191,
   "metadata": {},
   "outputs": [],
   "source": [
    "water_shp = '../Data/Endmembers/water_ist.shp'\n",
    "water = geemap.shp_to_ee(water_shp)\n",
    "Map.addLayer(water, {}, 'Water')\n",
    "\n",
    "forest_shp = '../Data/Endmembers/forest_ist.shp'\n",
    "forest = geemap.shp_to_ee(forest_shp)\n",
    "Map.addLayer(forest, {}, 'forest')\n",
    "\n",
    "soil_shp = '../Data/Endmembers/soil_ist.shp'\n",
    "soil = geemap.shp_to_ee(soil_shp)\n",
    "Map.addLayer(soil, {}, 'soil')"
   ]
  },
  {
   "cell_type": "markdown",
   "metadata": {},
   "source": [
    "### Endmember Zonal Statistics"
   ]
  },
  {
   "cell_type": "code",
   "execution_count": 192,
   "metadata": {
    "scrolled": true
   },
   "outputs": [],
   "source": [
    "waterMean = sentinel.reduceRegion(\n",
    "    **{\n",
    "        'reducer': ee.Reducer.mean(),\n",
    "        'geometry': water.geometry().getInfo(),\n",
    "        'scale': 30,\n",
    "        'maxPixels': 1e9\n",
    "    }).values()\n",
    "\n",
    "forestMean = sentinel.reduceRegion(\n",
    "    **{\n",
    "        'reducer': ee.Reducer.mean(),\n",
    "        'geometry': forest.geometry().getInfo(),\n",
    "        'scale': 30,\n",
    "        'maxPixels': 1e9\n",
    "    }).values()\n",
    "\n",
    "soilMean = sentinel.reduceRegion(\n",
    "    **{\n",
    "        'reducer': ee.Reducer.mean(),\n",
    "        'geometry': soil.geometry().getInfo(),\n",
    "        'scale': 30,\n",
    "        'maxPixels': 1e9\n",
    "    }).values()"
   ]
  },
  {
   "cell_type": "code",
   "execution_count": 193,
   "metadata": {},
   "outputs": [],
   "source": [
    "endmembers = ee.Array.cat([waterMean , forestMean , soilMean] , 1)"
   ]
  },
  {
   "cell_type": "code",
   "execution_count": 194,
   "metadata": {},
   "outputs": [],
   "source": [
    "arrayImage = sentinel.toArray().toArray(1)\n",
    "\n",
    "unmixed = ee.Image(endmembers).matrixSolve(arrayImage)\n",
    "\n",
    "unmixedImage = unmixed.arrayProject([0]).arrayFlatten([['water','forest','soil']])"
   ]
  },
  {
   "cell_type": "code",
   "execution_count": 195,
   "metadata": {},
   "outputs": [],
   "source": [
    "Map.addLayer(unmixedImage, {}, 'Unmixed')"
   ]
  },
  {
   "cell_type": "code",
   "execution_count": 14,
   "metadata": {},
   "outputs": [],
   "source": [
    "waterBand = unmixedImage.select('water').gt(0.95)\n",
    "\n",
    "Map.addLayer(waterBand, {} , 'waterBand')"
   ]
  },
  {
   "cell_type": "code",
   "execution_count": 15,
   "metadata": {},
   "outputs": [],
   "source": [
    "classes = waterBand.reduceToVectors(\n",
    "**{\n",
    "  'reducer': ee.Reducer.countEvery(), \n",
    "  'geometry': waterBand.geometry().getInfo(), \n",
    "  'scale': 30,\n",
    "  'maxPixels': 1e8\n",
    "});\n"
   ]
  },
  {
   "cell_type": "code",
   "execution_count": 16,
   "metadata": {},
   "outputs": [],
   "source": [
    "result = ee.FeatureCollection(classes);\n",
    "Map.addLayer(result,{},'Water_Vector');"
   ]
  },
  {
   "cell_type": "markdown",
   "metadata": {},
   "source": [
    "### Export Classification"
   ]
  },
  {
   "cell_type": "code",
   "execution_count": 196,
   "metadata": {},
   "outputs": [
    {
     "name": "stdout",
     "output_type": "stream",
     "text": [
      "Generating URL ...\n",
      "Downloading data from https://earthengine.googleapis.com/v1alpha/projects/earthengine-legacy/thumbnails/3e878f0b3b221e53a1e4d3bcc904be01-8f71c194e1566ec4f6c955742ad0b189:getPixels\n",
      "Please wait ...\n",
      "Data downloaded to /home/cak/Desktop/lake_extraction/Data/exported/2020-05-14_sentinel_unmixed_ist.tif\n"
     ]
    }
   ],
   "source": [
    "filename = os.path.join(out_dir, f'{Date}_sentinel_unmixed_ist.tif')\n",
    "geemap.ee_export_image(unmixedImage, filename=filename, scale=10, file_per_band=False)"
   ]
  },
  {
   "cell_type": "markdown",
   "metadata": {},
   "source": [
    "# Supervised classification\n"
   ]
  },
  {
   "cell_type": "code",
   "execution_count": 17,
   "metadata": {},
   "outputs": [],
   "source": [
    "# clip image\n",
    "# image_roi = image.clip(roi.geometry())\n",
    "# Map.addLayer(image_roi,landsat_vis,'Cropped_Landsat')"
   ]
  },
  {
   "cell_type": "code",
   "execution_count": 235,
   "metadata": {},
   "outputs": [],
   "source": [
    "waterf = ee.Feature(water.geometry(), {'class': 0, 'name': 'water'});\n",
    "forestf = ee.Feature(forest.geometry(), {'class': 1, 'name': 'forest'});\n",
    "soilf = ee.Feature(soil.geometry(), {'class': 2, 'name': 'soil'});"
   ]
  },
  {
   "cell_type": "code",
   "execution_count": 236,
   "metadata": {},
   "outputs": [
    {
     "data": {
      "text/plain": [
       "<ee.feature.Feature at 0x7f0f1c385bb0>"
      ]
     },
     "execution_count": 236,
     "metadata": {},
     "output_type": "execute_result"
    }
   ],
   "source": [
    "soilf"
   ]
  },
  {
   "cell_type": "code",
   "execution_count": 237,
   "metadata": {},
   "outputs": [],
   "source": [
    "trainingFeatures = ee.FeatureCollection([waterf, forestf, soilf])"
   ]
  },
  {
   "cell_type": "code",
   "execution_count": 239,
   "metadata": {},
   "outputs": [],
   "source": [
    "classifierTraining = sentinel.select(bands).sampleRegions(\n",
    "      collection= trainingFeatures, \n",
    "      properties= ['class'], \n",
    "      scale= 30\n",
    "    );"
   ]
  },
  {
   "cell_type": "code",
   "execution_count": 240,
   "metadata": {},
   "outputs": [],
   "source": [
    "# // Randomly split the data into 60% for training, and 40% for testing\n",
    "trainingTesting = classifierTraining.randomColumn('random',111009);\n",
    "\n",
    "training = trainingTesting.filter(ee.Filter.lt('random', 0.6));\n",
    "\n",
    "testing = trainingTesting.filter(ee.Filter.gte('random', 0.6));"
   ]
  },
  {
   "cell_type": "markdown",
   "metadata": {},
   "source": [
    "### Non-linear regression functions"
   ]
  },
  {
   "cell_type": "code",
   "execution_count": null,
   "metadata": {},
   "outputs": [],
   "source": [
    "cartclassifier = ee.Classifier.cart(randomSeed=111009).train(\n",
    "      features= training, \n",
    "      classProperty= 'class', \n",
    "      inputProperties= bands\n",
    "    );"
   ]
  },
  {
   "cell_type": "code",
   "execution_count": 242,
   "metadata": {},
   "outputs": [],
   "source": [
    "cartClasifficationImage = sentinel.select(bands).classify(cartclassifier);\n",
    "\n",
    "Map.addLayer(cartClasifficationImage, {'min': 0, 'max': 2,\n",
    "                                   'palette':['blue', 'green','yellow']},'CART classification');"
   ]
  },
  {
   "cell_type": "code",
   "execution_count": 243,
   "metadata": {},
   "outputs": [],
   "source": [
    "rfClassification = ee.Classifier.smileRandomForest(numberOfTrees=1, seed=111009).train(\n",
    "      features= training, \n",
    "      classProperty= 'class', \n",
    "      inputProperties= bands\n",
    "    )"
   ]
  },
  {
   "cell_type": "code",
   "execution_count": 244,
   "metadata": {},
   "outputs": [],
   "source": [
    "# // Perform the RF regression on the landsat image\n",
    "rfClassificationImage = sentinel.select(bands).classify(rfClassification);\n",
    "    \n",
    "# // Visualize the RF regression\n",
    "Map.addLayer(rfClassificationImage,  {'min': 0, 'max': 2,\n",
    "                                   'palette':['blue','green', 'yellow']}, 'RF classification');"
   ]
  },
  {
   "cell_type": "code",
   "execution_count": 245,
   "metadata": {},
   "outputs": [],
   "source": [
    "# ee.Classifier.libsvm(decisionProcedure, svmType, kernelType, shrinking, degree, gamma, coef0, cost, nu, terminationEpsilon, lossEpsilon, oneClass)\n",
    "\n",
    "# // Create an SVM classifier with custom parameters.\n",
    "svClassification = ee.Classifier.libsvm(kernelType='RBF',gamma=1,cost=100).train(\n",
    "      features= training, \n",
    "      classProperty= 'class', \n",
    "      inputProperties= bands\n",
    "    )"
   ]
  },
  {
   "cell_type": "code",
   "execution_count": 246,
   "metadata": {},
   "outputs": [],
   "source": [
    "# // Perform the RF regression on the landsat image\n",
    "svClassificationImage = sentinel.select(bands).classify(svClassification);\n",
    "    \n",
    "# // Visualize the RF regression\n",
    "Map.addLayer(svClassificationImage,{'min': 0, 'max': 2,\n",
    "                                   'palette':['blue', 'green','yellow']}, 'SV CLassification');"
   ]
  },
  {
   "cell_type": "markdown",
   "metadata": {},
   "source": [
    "### Export ML class"
   ]
  },
  {
   "cell_type": "code",
   "execution_count": 248,
   "metadata": {},
   "outputs": [],
   "source": [
    "out_dir = '/home/cak/Desktop/lake_extraction/Data/exported'\n",
    "filename_cart = os.path.join(out_dir, f'cart_ist.tif')\n",
    "filename_rf = os.path.join(out_dir, 'rf_ist.tif')\n",
    "filename_svm = os.path.join(out_dir, 'svm_ist.tif')"
   ]
  },
  {
   "cell_type": "code",
   "execution_count": 249,
   "metadata": {},
   "outputs": [
    {
     "name": "stdout",
     "output_type": "stream",
     "text": [
      "Generating URL ...\n",
      "Downloading data from https://earthengine.googleapis.com/v1alpha/projects/earthengine-legacy/thumbnails/88b71b7f3da4c7b688843e422da24e9f-45bbaa02e3e431a11594d4ff85d2ae8c:getPixels\n",
      "Please wait ...\n",
      "Data downloaded to /home/cak/Desktop/lake_extraction/Data/exported/cart_ist.tif\n",
      "Generating URL ...\n",
      "Downloading data from https://earthengine.googleapis.com/v1alpha/projects/earthengine-legacy/thumbnails/b2d4c772d01b2991729f869bfbfdfd44-876a8a03feb221a3cea2e3b0adaaa581:getPixels\n",
      "Please wait ...\n",
      "Data downloaded to /home/cak/Desktop/lake_extraction/Data/exported/rf_ist.tif\n",
      "Generating URL ...\n",
      "Downloading data from https://earthengine.googleapis.com/v1alpha/projects/earthengine-legacy/thumbnails/88c1e1f0abff9153702c1d11d7a60a15-8465513899f2066fcc7be1916f70d56b:getPixels\n",
      "Please wait ...\n",
      "Data downloaded to /home/cak/Desktop/lake_extraction/Data/exported/svm_ist.tif\n"
     ]
    }
   ],
   "source": [
    "cartClasifficationImage = cartClasifficationImage.clip(area).unmask()\n",
    "rfClassificationImage = rfClassificationImage.clip(area).unmask()\n",
    "svClassificationImage = svClassificationImage.clip(area).unmask()\n",
    "geemap.ee_export_image(cartClasifficationImage, filename=filename_cart, scale=10, file_per_band=False)\n",
    "geemap.ee_export_image(rfClassificationImage, filename=filename_rf, scale=10, file_per_band=False)\n",
    "geemap.ee_export_image(svClassificationImage, filename=filename_svm, scale=10, file_per_band=False)"
   ]
  }
 ],
 "metadata": {
  "finalized": {
   "timestamp": 1607844400843,
   "trusted": true
  },
  "kernelspec": {
   "display_name": "Python 3",
   "language": "python",
   "name": "python3"
  },
  "language_info": {
   "codemirror_mode": {
    "name": "ipython",
    "version": 3
   },
   "file_extension": ".py",
   "mimetype": "text/x-python",
   "name": "python",
   "nbconvert_exporter": "python",
   "pygments_lexer": "ipython3",
   "version": "3.8.5"
  },
  "varInspector": {
   "cols": {
    "lenName": 16,
    "lenType": 16,
    "lenVar": 40
   },
   "kernels_config": {
    "python": {
     "delete_cmd_postfix": "",
     "delete_cmd_prefix": "del ",
     "library": "var_list.py",
     "varRefreshCmd": "print(var_dic_list())"
    },
    "r": {
     "delete_cmd_postfix": ") ",
     "delete_cmd_prefix": "rm(",
     "library": "var_list.r",
     "varRefreshCmd": "cat(var_dic_list()) "
    }
   },
   "types_to_exclude": [
    "module",
    "function",
    "builtin_function_or_method",
    "instance",
    "_Feature"
   ],
   "window_display": false
  }
 },
 "nbformat": 4,
 "nbformat_minor": 4
}
