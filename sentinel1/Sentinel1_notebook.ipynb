{
 "cells": [
  {
   "cell_type": "code",
   "execution_count": null,
   "metadata": {},
   "outputs": [],
   "source": [
    "# Importing libraries\n",
    "\n",
    "import snappy                     # SNAP python interface\n",
    "from snappy import GPF, jpy       # jpy is Pyhton-Java bridge\n",
    "import numpy as np                # scientific computing\n",
    "from osgeo import gdal            \n",
    "import os                         # data access in file manager\n",
    "import glob                       # data access in file manager\n",
    "import datetime                 \n",
    "import pandas as pd               # data analysis and manipulation\n",
    "import matplotlib.pyplot as plt   # create visualizations\n",
    "from zipfile import ZipFile\n",
    "from sentinel1_lake_extraction import sentinel1_lake_extraction as le\n",
    "\n",
    "from IPython.core.display import Image, display\n",
    "\n",
    "display(Image(r\"/home/baris/Desktop/CE-STAR/papers_figures_reports/raporlar/ProcessWorkFlow.png\", width=1900, unconfined=False))\n",
    "display(Image(r\"/home/baris/Desktop/CE-STAR/papers_figures_reports/raporlar/Example.png\", width=1500, unconfined=False))\n",
    "display(Image(url= \"https://www.meccanismocomplesso.org/wp-content/uploads/2017/04/OpenCV-Otsu-Binary-threshold-of-noisy_leaf-image-2-1.jpg\", width=500, unconfined=False))\n",
    "\n",
    "\n",
    "##\n",
    "sentinel1_lake = le()\n",
    "\n"
   ]
  },
  {
   "cell_type": "code",
   "execution_count": null,
   "metadata": {},
   "outputs": [],
   "source": [
    "def output_view(product, band, vv_min,vv_max,vh_min,vh_max):\n",
    "    '''Create visualization of processed Sentinel-1 SAR data'''\n",
    "    \n",
    "\n",
    "    band_data_list = []\n",
    "    for prd in product:\n",
    "        for i in band:\n",
    "            band = prd.getBand(i)\n",
    "            w = band.getRasterWidth()\n",
    "            h = band.getRasterHeight()\n",
    "            band_data = np.zeros( w * h , np.float32)\n",
    "            band.readPixels(0, 0, w, h, band_data)\n",
    "            band_data.shape = h, w\n",
    "            band_data_list.append(band_data)\n",
    "    \n",
    "    fig, (ax1, ax2) = plt.subplots(1, 2, figsize= (16,16))\n",
    "    ax1.imshow(band_data_list[0], cmap = 'gray',vmin = vv_min, vmax = vv_max)\n",
    "    ax1.set_title(\"VV polarization\")\n",
    "    ax2.imshow(band_data_list[1], cmap = 'gray', vmin = vh_min, vmax = vh_max)\n",
    "    ax2.set_title(\"VH polarization\")\n",
    "    plt.show()\n",
    "    \n",
    "    \n",
    "    "
   ]
  },
  {
   "cell_type": "code",
   "execution_count": null,
   "metadata": {},
   "outputs": [],
   "source": [
    "# Finding and reading the data\n",
    "\n",
    "sentinel1_lake.traverse_data()\n",
    "\n",
    "product = sentinel1_lake.read_data()\n",
    "\n"
   ]
  },
  {
   "cell_type": "code",
   "execution_count": null,
   "metadata": {},
   "outputs": [],
   "source": [
    "sentinel1_lake.calibration()\n",
    "sentinel1_lake.linear_to_dB()\n",
    "product = sentinel1_lake.geo_subset()           # change lake name from sentinel1_lake_extraction.py, accordingly.\n",
    "band = ['Sigma0_VV_db', 'Sigma0_VH_db']\n",
    "output_view(product, band, -24.07,-6.69,-27.51,-15.14)\n",
    "\n",
    "\n"
   ]
  },
  {
   "cell_type": "code",
   "execution_count": null,
   "metadata": {},
   "outputs": [],
   "source": [
    "product = sentinel1_lake.terrain_correction()    #change projection system from sentinel1_lake_extraction.py\n",
    "band = ['Sigma0_VV_db', 'Sigma0_VH_db']\n",
    "output_view(product, band, -24.07,-6.69,-27.51,-15.14)"
   ]
  },
  {
   "cell_type": "code",
   "execution_count": null,
   "metadata": {},
   "outputs": [],
   "source": [
    "product = sentinel1_lake.speckle_filter()\n",
    "output_view(product, band, -19.53,-5.29,-25.03,-12.52)"
   ]
  },
  {
   "cell_type": "code",
   "execution_count": null,
   "metadata": {},
   "outputs": [],
   "source": [
    "product = sentinel1_lake.apply_threshold_to_product()\n",
    "\n",
    "def output_view_binary(product):\n",
    "    '''Create visualization of processed Sentinel-1 SAR data'''\n",
    " \n",
    "  \n",
    "    for prd in product:\n",
    "        band = prd.getBand('band1')\n",
    "        w = band.getRasterWidth()\n",
    "        h = band.getRasterHeight()\n",
    "        binary_data = np.zeros( w * h)\n",
    "        band.readPixels(0, 0, w, h, binary_data)\n",
    "        binary_data.shape = h, w\n",
    "\n",
    "    \n",
    "    fig, ax1 = plt.subplots(1, figsize= (20,20))\n",
    "    ax1.imshow(binary_data, cmap = 'gray',vmin = 0, vmax = 1)\n",
    "    ax1.set_title(\"Binary image of VV polarization\")\n",
    "    \n",
    "\n",
    "\n",
    "output_view_binary(product)"
   ]
  },
  {
   "cell_type": "code",
   "execution_count": null,
   "metadata": {},
   "outputs": [],
   "source": [
    "product = sentinel1_lake.binary_filter()\n",
    "\n",
    "output_view_binary(product)\n",
    "\n"
   ]
  },
  {
   "cell_type": "code",
   "execution_count": null,
   "metadata": {},
   "outputs": [],
   "source": []
  }
 ],
 "metadata": {
  "celltoolbar": "Attachments",
  "kernelspec": {
   "display_name": "snap",
   "language": "python",
   "name": "snap"
  },
  "language_info": {
   "codemirror_mode": {
    "name": "ipython",
    "version": 3
   },
   "file_extension": ".py",
   "mimetype": "text/x-python",
   "name": "python",
   "nbconvert_exporter": "python",
   "pygments_lexer": "ipython3",
   "version": "3.6.10"
  }
 },
 "nbformat": 4,
 "nbformat_minor": 4
}
